{
 "cells": [
  {
   "cell_type": "markdown",
   "metadata": {},
   "source": [
    "# Estimating distributions (part 1)\n",
    "The goal of this notebook is to explore a first approach to approximate $p(y|x)$ and $p(x|y)$ on a tabular dataset where $x$ is discrete-valued, $x\\in\\mathbb{D}^k$, and the target $y$ is boolean, $y\\in\\{0,1\\}$."
   ]
  },
  {
   "cell_type": "markdown",
   "metadata": {},
   "source": [
    "## Imports"
   ]
  },
  {
   "cell_type": "code",
   "execution_count": null,
   "metadata": {},
   "outputs": [],
   "source": [
    "import numpy as np\n",
    "import pandas as pd"
   ]
  },
  {
   "cell_type": "markdown",
   "metadata": {},
   "source": [
    "## Load data set"
   ]
  },
  {
   "cell_type": "code",
   "execution_count": null,
   "metadata": {},
   "outputs": [],
   "source": [
    "df = pd.read_csv(\"sample_data/tennis.csv\", delimiter=\",\", header=0)\n",
    "df"
   ]
  },
  {
   "cell_type": "code",
   "execution_count": null,
   "metadata": {},
   "outputs": [],
   "source": [
    "df = df.drop(\"Day\", axis=1)\n",
    "df"
   ]
  },
  {
   "cell_type": "code",
   "execution_count": null,
   "metadata": {},
   "outputs": [],
   "source": [
    "X_names = df.columns.to_list()[:-1]\n",
    "X_names"
   ]
  },
  {
   "cell_type": "code",
   "execution_count": null,
   "metadata": {},
   "outputs": [],
   "source": [
    "X = df.iloc[:, 0:-1]\n",
    "X"
   ]
  },
  {
   "cell_type": "code",
   "execution_count": null,
   "metadata": {},
   "outputs": [],
   "source": [
    "Y_name = df.columns.to_list()[-1]\n",
    "Y_name"
   ]
  },
  {
   "cell_type": "code",
   "execution_count": null,
   "metadata": {},
   "outputs": [],
   "source": [
    "Y = df.iloc[:, -1]\n",
    "Y"
   ]
  },
  {
   "cell_type": "markdown",
   "metadata": {},
   "source": [
    "## Build the table of observations\n",
    "Take $x$ to be the random variable Outlook and count the observations based on the data set."
   ]
  },
  {
   "cell_type": "code",
   "execution_count": null,
   "metadata": {},
   "outputs": [],
   "source": [
    "N = X[\"Outlook\"].size\n",
    "xvalues = np.unique(X[\"Outlook\"].values).tolist()\n",
    "yvalues = np.unique(Y.values).tolist()\n",
    "dimx = len(xvalues)\n",
    "dimy = len(yvalues)"
   ]
  },
  {
   "cell_type": "code",
   "execution_count": null,
   "metadata": {},
   "outputs": [],
   "source": [
    "obs = pd.DataFrame(0, columns=yvalues, index=xvalues)\n",
    "for i in range(N):\n",
    "    xi = X[\"Outlook\"][i]\n",
    "    yi = Y[i]\n",
    "    obs[yi][xi] += 1\n",
    "obs"
   ]
  },
  {
   "cell_type": "markdown",
   "metadata": {},
   "source": [
    "## Approximate the joint distribution $p(x,y)$\n",
    "Take $x$ to be Outlook and approximate the joint distribution based on the table of observations."
   ]
  },
  {
   "cell_type": "code",
   "execution_count": null,
   "metadata": {},
   "outputs": [],
   "source": [
    "m = obs.sum(axis=1)\n",
    "m"
   ]
  },
  {
   "cell_type": "code",
   "execution_count": null,
   "metadata": {},
   "outputs": [],
   "source": [
    "l = obs.sum(axis=0)\n",
    "l"
   ]
  },
  {
   "cell_type": "code",
   "execution_count": null,
   "metadata": {},
   "outputs": [],
   "source": [
    "obs[\"m\"] = m\n",
    "obs.loc[\"l\"] = l\n",
    "obs"
   ]
  },
  {
   "cell_type": "code",
   "execution_count": null,
   "metadata": {},
   "outputs": [],
   "source": [
    "joint_proba = pd.DataFrame(0, columns=yvalues, index=xvalues)\n",
    "for x in xvalues:\n",
    "    joint_proba.loc[x] = obs[yvalues].loc[x] / N\n",
    "joint_proba"
   ]
  },
  {
   "cell_type": "markdown",
   "metadata": {},
   "source": [
    "## Approximate $p(y|x)$\n",
    "Take $x$ to be Outlook and estimate the conditional probability of $y$ given $x$. Then, sample 10 values of $y$ given $x$ equal Sunny."
   ]
  },
  {
   "cell_type": "code",
   "execution_count": null,
   "metadata": {},
   "outputs": [],
   "source": [
    "p_y_x = pd.DataFrame(0, columns=yvalues, index=xvalues)\n",
    "for x in xvalues:\n",
    "    p_y_x.loc[x] = obs[yvalues].loc[x] / obs[\"m\"].loc[x]\n",
    "p_y_x"
   ]
  },
  {
   "cell_type": "code",
   "execution_count": null,
   "metadata": {},
   "outputs": [],
   "source": [
    "np.random.choice(yvalues, size=10, p=p_y_x.loc[\"Sunny\"])"
   ]
  },
  {
   "cell_type": "markdown",
   "metadata": {},
   "source": [
    "## Approximate $p(x|y)$\n",
    "Take $x$ to be Outlook and approximate the conditional distribution based on the table of observations. Then, sample 10 values of Outlook for $y$ equal Yes."
   ]
  },
  {
   "cell_type": "code",
   "execution_count": null,
   "metadata": {},
   "outputs": [],
   "source": [
    "p_x_y = pd.DataFrame(0, columns=yvalues, index=xvalues)\n",
    "for y in yvalues:\n",
    "    p_x_y[y] = obs[y] / obs[y].loc[\"l\"]\n",
    "p_x_y"
   ]
  },
  {
   "cell_type": "code",
   "execution_count": null,
   "metadata": {},
   "outputs": [],
   "source": [
    "np.random.choice(xvalues, size=10, p=p_x_y[\"Yes\"])"
   ]
  },
  {
   "cell_type": "markdown",
   "source": [
    "## Approximate $p(y,o,h,w,t)$\n",
    "*$p(y,o,h,w,t) = p(y) * p(o|y) * p(h|y,o) * p(w|y,o) * p(t|y,o,h,w)$*"
   ],
   "metadata": {
    "collapsed": false
   }
  },
  {
   "cell_type": "markdown",
   "source": [
    "### $p(y)$"
   ],
   "metadata": {
    "collapsed": false
   }
  },
  {
   "cell_type": "markdown",
   "source": [
    "Usamos la función groupby para obtener las columnas que queremos agrupar para obtener su probabilidad conjunta, para calcularla obtenemos el tamaño con la función size() y lo dividimos entre la cantidad de observaciones que tiene el data set, N."
   ],
   "metadata": {
    "collapsed": false
   }
  },
  {
   "cell_type": "code",
   "execution_count": null,
   "outputs": [],
   "source": [
    "p_y = pd.DataFrame(0, columns=[], index=[])\n",
    "p_y['P'] = df.groupby(['Tennis']).size() / N\n",
    "p_y"
   ],
   "metadata": {
    "collapsed": false
   }
  },
  {
   "cell_type": "markdown",
   "source": [
    "### $p(o|y)$\n",
    "*$p(o|y) = p(o,y) / p(y)$* "
   ],
   "metadata": {
    "collapsed": false
   }
  },
  {
   "cell_type": "markdown",
   "source": [
    "Para obtener la probabilidad condicional utilizamos la regla de la cadena: $p(x|y) = p(x,y) / p(y)$"
   ],
   "metadata": {
    "collapsed": false
   }
  },
  {
   "cell_type": "code",
   "execution_count": null,
   "outputs": [],
   "source": [
    "# p(o,y)\n",
    "joint_o_y = pd.DataFrame(0, columns=[], index=[])\n",
    "joint_o_y['P'] = df.groupby(['Outlook', 'Tennis']).size() / N\n",
    "joint_o_y"
   ],
   "metadata": {
    "collapsed": false
   }
  },
  {
   "cell_type": "code",
   "execution_count": null,
   "outputs": [],
   "source": [
    "# p(o|y)\n",
    "cond_proba_o_y = joint_o_y / p_y\n",
    "cond_proba_o_y"
   ],
   "metadata": {
    "collapsed": false
   }
  },
  {
   "cell_type": "markdown",
   "source": [
    "### $p(h|y,o)$\n",
    "*$p(h|y,o) = p(h,y,o) / p(y,o)$* "
   ],
   "metadata": {
    "collapsed": false
   }
  },
  {
   "cell_type": "code",
   "execution_count": null,
   "outputs": [],
   "source": [
    "# p(h,y,o)\n",
    "joint_h_y_o = pd.DataFrame(0, columns=[], index=[])\n",
    "joint_h_y_o['P'] = df.groupby(['Humidity', 'Outlook', 'Tennis']).size() / N\n",
    "\n",
    "joint_h_y_o"
   ],
   "metadata": {
    "collapsed": false
   }
  },
  {
   "cell_type": "code",
   "execution_count": null,
   "outputs": [],
   "source": [
    "#p(y,o)\n",
    "joint_y_o = joint_h_y_o.groupby(['Outlook','Tennis']).sum()\n",
    "joint_y_o"
   ],
   "metadata": {
    "collapsed": false
   }
  },
  {
   "cell_type": "code",
   "execution_count": null,
   "outputs": [],
   "source": [
    "#p(h|y,o) \n",
    "cond_proba_h_y_o = joint_h_y_o / joint_y_o\n",
    "cond_proba_h_y_o"
   ],
   "metadata": {
    "collapsed": false
   }
  },
  {
   "cell_type": "markdown",
   "source": [
    "### $p(w|y,o)$\n",
    "*$p(w|y,o) = p(w,y,o) / p(y,o)$* "
   ],
   "metadata": {
    "collapsed": false
   }
  },
  {
   "cell_type": "code",
   "execution_count": null,
   "outputs": [],
   "source": [
    "# p(w,y,o)\n",
    "joint_w_y_o = pd.DataFrame(0, columns=[], index=[])\n",
    "joint_w_y_o['P'] = df.groupby(['Wind', 'Outlook', 'Tennis']).size() / N\n",
    "\n",
    "joint_w_y_o"
   ],
   "metadata": {
    "collapsed": false
   }
  },
  {
   "cell_type": "code",
   "execution_count": null,
   "outputs": [],
   "source": [
    "#p(w|y,o) \n",
    "cond_proba_w_y_o = joint_w_y_o / joint_y_o\n",
    "cond_proba_w_y_o"
   ],
   "metadata": {
    "collapsed": false
   }
  },
  {
   "cell_type": "markdown",
   "source": [
    "### $p(t|y,o,h,w)$\n",
    "*$p(t|y,o,h,w) = p(t,y,o,h,w) / p(y,o,h,w)$* "
   ],
   "metadata": {
    "collapsed": false
   }
  },
  {
   "cell_type": "code",
   "execution_count": null,
   "outputs": [],
   "source": [
    "# p(t,y,o,h,w)\n",
    "joint_t_y_o_h_w = pd.DataFrame(0, columns=[], index=[])\n",
    "joint_t_y_o_h_w['P'] = df.groupby(['Temp', 'Outlook', 'Tennis', 'Humidity', 'Wind']).size() / N\n",
    "\n",
    "joint_t_y_o_h_w"
   ],
   "metadata": {
    "collapsed": false
   }
  },
  {
   "cell_type": "code",
   "execution_count": null,
   "outputs": [],
   "source": [
    "# p(y,o,h,w)\n",
    "joint_y_o_h_w = joint_t_y_o_h_w.groupby(['Outlook', 'Tennis', 'Humidity', 'Wind']).sum()\n",
    "joint_y_o_h_w"
   ],
   "metadata": {
    "collapsed": false
   }
  },
  {
   "cell_type": "code",
   "execution_count": null,
   "outputs": [],
   "source": [
    "#p(t|y,o,h,w)\n",
    "cond_proba_t_y_o_h_w = joint_t_y_o_h_w / joint_y_o_h_w\n",
    "cond_proba_t_y_o_h_w"
   ],
   "metadata": {
    "collapsed": false
   }
  },
  {
   "cell_type": "markdown",
   "source": [
    "### $p(y,o,h,w,t)$"
   ],
   "metadata": {
    "collapsed": false
   }
  },
  {
   "cell_type": "code",
   "execution_count": null,
   "outputs": [],
   "source": [
    "joint_y_o_h_w_t = p_y * cond_proba_o_y * cond_proba_h_y_o * cond_proba_w_y_o * cond_proba_t_y_o_h_w\n",
    "joint_y_o_h_w_t"
   ],
   "metadata": {
    "collapsed": false
   }
  },
  {
   "cell_type": "markdown",
   "source": [
    "## Sampling\n",
    "Se samplean 10 X con $p(y,o,h,w,t)$"
   ],
   "metadata": {
    "collapsed": false
   }
  },
  {
   "cell_type": "code",
   "execution_count": null,
   "outputs": [],
   "source": [
    "index_list =  [','.join(map(str, item)) for item in joint_y_o_h_w_t.index]\n",
    "np.random.choice(index_list, size=20, p=joint_y_o_h_w_t['P'].tolist())"
   ],
   "metadata": {
    "collapsed": false
   }
  },
  {
   "cell_type": "markdown",
   "source": [
    "## Observaciones"
   ],
   "metadata": {
    "collapsed": false
   }
  },
  {
   "cell_type": "markdown",
   "source": [
    "El resultado de la probabilidad conjunta $p(y,o,h,w,t)$ es una probabilidad uniforme para las combinaciones de $(y,o,h,w,t)$ que aparecen en el data set, lo cual se debe a que los datos provistos contienen como máximo una única ocurrencia cada combinación, por lo que la probabilidad de todos los casos posibles es $0$ o $0.071429$."
   ],
   "metadata": {
    "collapsed": false
   }
  },
  {
   "cell_type": "markdown",
   "source": [],
   "metadata": {
    "collapsed": false
   }
  }
 ],
 "metadata": {
  "kernelspec": {
   "display_name": "Python 3",
   "language": "python",
   "name": "python3"
  },
  "language_info": {
   "codemirror_mode": {
    "name": "ipython",
    "version": 3
   },
   "file_extension": ".py",
   "mimetype": "text/x-python",
   "name": "python",
   "nbconvert_exporter": "python",
   "pygments_lexer": "ipython3",
   "version": "3.10.4"
  },
  "orig_nbformat": 4
 },
 "nbformat": 4,
 "nbformat_minor": 2
}
