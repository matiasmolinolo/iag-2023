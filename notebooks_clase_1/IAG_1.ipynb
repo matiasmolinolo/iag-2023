{
 "cells": [
  {
   "cell_type": "markdown",
   "metadata": {},
   "source": [
    "# Estimating distributions (part 1)\n",
    "The goal of this notebook is to explore a first approach to approximate $p(y|x)$ and $p(x|y)$ on a tabular dataset where $x$ is discrete-valued, $x\\in\\mathbb{D}^k$, and the target $y$ is boolean, $y\\in\\{0,1\\}$."
   ]
  },
  {
   "cell_type": "markdown",
   "metadata": {},
   "source": [
    "## Imports"
   ]
  },
  {
   "cell_type": "code",
   "execution_count": 1,
   "metadata": {
    "ExecuteTime": {
     "end_time": "2023-10-03T13:59:19.136632Z",
     "start_time": "2023-10-03T13:59:18.223541Z"
    }
   },
   "outputs": [],
   "source": [
    "import numpy as np\n",
    "import pandas as pd"
   ]
  },
  {
   "cell_type": "markdown",
   "metadata": {},
   "source": [
    "## Load data set"
   ]
  },
  {
   "cell_type": "code",
   "execution_count": 2,
   "metadata": {
    "ExecuteTime": {
     "end_time": "2023-10-03T13:59:19.156831Z",
     "start_time": "2023-10-03T13:59:19.138215Z"
    }
   },
   "outputs": [
    {
     "data": {
      "text/plain": "    Day   Outlook  Temp Humidity    Wind Tennis\n0    D1     Sunny   Hot     High    Weak     No\n1    D2     Sunny   Hot     High  Strong     No\n2    D3  Overcast   Hot     High    Weak    Yes\n3    D4      Rain  Mild     High    Weak    Yes\n4    D5      Rain  Cool   Normal    Weak    Yes\n5    D6      Rain  Cool   Normal  Strong     No\n6    D7  Overcast  Cool   Normal  Strong    Yes\n7    D8     Sunny  Mild     High    Weak     No\n8    D9     Sunny  Cool   Normal    Weak    Yes\n9   D10      Rain  Mild   Normal    Weak    Yes\n10  D11     Sunny  Mild   Normal  Strong    Yes\n11  D12  Overcast  Mild     High  Strong    Yes\n12  D13  Overcast   Hot   Normal    Weak    Yes\n13  D14      Rain  Mild     High  Strong     No",
      "text/html": "<div>\n<style scoped>\n    .dataframe tbody tr th:only-of-type {\n        vertical-align: middle;\n    }\n\n    .dataframe tbody tr th {\n        vertical-align: top;\n    }\n\n    .dataframe thead th {\n        text-align: right;\n    }\n</style>\n<table border=\"1\" class=\"dataframe\">\n  <thead>\n    <tr style=\"text-align: right;\">\n      <th></th>\n      <th>Day</th>\n      <th>Outlook</th>\n      <th>Temp</th>\n      <th>Humidity</th>\n      <th>Wind</th>\n      <th>Tennis</th>\n    </tr>\n  </thead>\n  <tbody>\n    <tr>\n      <th>0</th>\n      <td>D1</td>\n      <td>Sunny</td>\n      <td>Hot</td>\n      <td>High</td>\n      <td>Weak</td>\n      <td>No</td>\n    </tr>\n    <tr>\n      <th>1</th>\n      <td>D2</td>\n      <td>Sunny</td>\n      <td>Hot</td>\n      <td>High</td>\n      <td>Strong</td>\n      <td>No</td>\n    </tr>\n    <tr>\n      <th>2</th>\n      <td>D3</td>\n      <td>Overcast</td>\n      <td>Hot</td>\n      <td>High</td>\n      <td>Weak</td>\n      <td>Yes</td>\n    </tr>\n    <tr>\n      <th>3</th>\n      <td>D4</td>\n      <td>Rain</td>\n      <td>Mild</td>\n      <td>High</td>\n      <td>Weak</td>\n      <td>Yes</td>\n    </tr>\n    <tr>\n      <th>4</th>\n      <td>D5</td>\n      <td>Rain</td>\n      <td>Cool</td>\n      <td>Normal</td>\n      <td>Weak</td>\n      <td>Yes</td>\n    </tr>\n    <tr>\n      <th>5</th>\n      <td>D6</td>\n      <td>Rain</td>\n      <td>Cool</td>\n      <td>Normal</td>\n      <td>Strong</td>\n      <td>No</td>\n    </tr>\n    <tr>\n      <th>6</th>\n      <td>D7</td>\n      <td>Overcast</td>\n      <td>Cool</td>\n      <td>Normal</td>\n      <td>Strong</td>\n      <td>Yes</td>\n    </tr>\n    <tr>\n      <th>7</th>\n      <td>D8</td>\n      <td>Sunny</td>\n      <td>Mild</td>\n      <td>High</td>\n      <td>Weak</td>\n      <td>No</td>\n    </tr>\n    <tr>\n      <th>8</th>\n      <td>D9</td>\n      <td>Sunny</td>\n      <td>Cool</td>\n      <td>Normal</td>\n      <td>Weak</td>\n      <td>Yes</td>\n    </tr>\n    <tr>\n      <th>9</th>\n      <td>D10</td>\n      <td>Rain</td>\n      <td>Mild</td>\n      <td>Normal</td>\n      <td>Weak</td>\n      <td>Yes</td>\n    </tr>\n    <tr>\n      <th>10</th>\n      <td>D11</td>\n      <td>Sunny</td>\n      <td>Mild</td>\n      <td>Normal</td>\n      <td>Strong</td>\n      <td>Yes</td>\n    </tr>\n    <tr>\n      <th>11</th>\n      <td>D12</td>\n      <td>Overcast</td>\n      <td>Mild</td>\n      <td>High</td>\n      <td>Strong</td>\n      <td>Yes</td>\n    </tr>\n    <tr>\n      <th>12</th>\n      <td>D13</td>\n      <td>Overcast</td>\n      <td>Hot</td>\n      <td>Normal</td>\n      <td>Weak</td>\n      <td>Yes</td>\n    </tr>\n    <tr>\n      <th>13</th>\n      <td>D14</td>\n      <td>Rain</td>\n      <td>Mild</td>\n      <td>High</td>\n      <td>Strong</td>\n      <td>No</td>\n    </tr>\n  </tbody>\n</table>\n</div>"
     },
     "execution_count": 2,
     "metadata": {},
     "output_type": "execute_result"
    }
   ],
   "source": [
    "df = pd.read_csv(\"sample_data/tennis.csv\", delimiter=\",\", header=0)\n",
    "df"
   ]
  },
  {
   "cell_type": "code",
   "execution_count": 3,
   "metadata": {
    "ExecuteTime": {
     "end_time": "2023-10-03T13:59:19.167351Z",
     "start_time": "2023-10-03T13:59:19.160146Z"
    }
   },
   "outputs": [
    {
     "data": {
      "text/plain": "     Outlook  Temp Humidity    Wind Tennis\n0      Sunny   Hot     High    Weak     No\n1      Sunny   Hot     High  Strong     No\n2   Overcast   Hot     High    Weak    Yes\n3       Rain  Mild     High    Weak    Yes\n4       Rain  Cool   Normal    Weak    Yes\n5       Rain  Cool   Normal  Strong     No\n6   Overcast  Cool   Normal  Strong    Yes\n7      Sunny  Mild     High    Weak     No\n8      Sunny  Cool   Normal    Weak    Yes\n9       Rain  Mild   Normal    Weak    Yes\n10     Sunny  Mild   Normal  Strong    Yes\n11  Overcast  Mild     High  Strong    Yes\n12  Overcast   Hot   Normal    Weak    Yes\n13      Rain  Mild     High  Strong     No",
      "text/html": "<div>\n<style scoped>\n    .dataframe tbody tr th:only-of-type {\n        vertical-align: middle;\n    }\n\n    .dataframe tbody tr th {\n        vertical-align: top;\n    }\n\n    .dataframe thead th {\n        text-align: right;\n    }\n</style>\n<table border=\"1\" class=\"dataframe\">\n  <thead>\n    <tr style=\"text-align: right;\">\n      <th></th>\n      <th>Outlook</th>\n      <th>Temp</th>\n      <th>Humidity</th>\n      <th>Wind</th>\n      <th>Tennis</th>\n    </tr>\n  </thead>\n  <tbody>\n    <tr>\n      <th>0</th>\n      <td>Sunny</td>\n      <td>Hot</td>\n      <td>High</td>\n      <td>Weak</td>\n      <td>No</td>\n    </tr>\n    <tr>\n      <th>1</th>\n      <td>Sunny</td>\n      <td>Hot</td>\n      <td>High</td>\n      <td>Strong</td>\n      <td>No</td>\n    </tr>\n    <tr>\n      <th>2</th>\n      <td>Overcast</td>\n      <td>Hot</td>\n      <td>High</td>\n      <td>Weak</td>\n      <td>Yes</td>\n    </tr>\n    <tr>\n      <th>3</th>\n      <td>Rain</td>\n      <td>Mild</td>\n      <td>High</td>\n      <td>Weak</td>\n      <td>Yes</td>\n    </tr>\n    <tr>\n      <th>4</th>\n      <td>Rain</td>\n      <td>Cool</td>\n      <td>Normal</td>\n      <td>Weak</td>\n      <td>Yes</td>\n    </tr>\n    <tr>\n      <th>5</th>\n      <td>Rain</td>\n      <td>Cool</td>\n      <td>Normal</td>\n      <td>Strong</td>\n      <td>No</td>\n    </tr>\n    <tr>\n      <th>6</th>\n      <td>Overcast</td>\n      <td>Cool</td>\n      <td>Normal</td>\n      <td>Strong</td>\n      <td>Yes</td>\n    </tr>\n    <tr>\n      <th>7</th>\n      <td>Sunny</td>\n      <td>Mild</td>\n      <td>High</td>\n      <td>Weak</td>\n      <td>No</td>\n    </tr>\n    <tr>\n      <th>8</th>\n      <td>Sunny</td>\n      <td>Cool</td>\n      <td>Normal</td>\n      <td>Weak</td>\n      <td>Yes</td>\n    </tr>\n    <tr>\n      <th>9</th>\n      <td>Rain</td>\n      <td>Mild</td>\n      <td>Normal</td>\n      <td>Weak</td>\n      <td>Yes</td>\n    </tr>\n    <tr>\n      <th>10</th>\n      <td>Sunny</td>\n      <td>Mild</td>\n      <td>Normal</td>\n      <td>Strong</td>\n      <td>Yes</td>\n    </tr>\n    <tr>\n      <th>11</th>\n      <td>Overcast</td>\n      <td>Mild</td>\n      <td>High</td>\n      <td>Strong</td>\n      <td>Yes</td>\n    </tr>\n    <tr>\n      <th>12</th>\n      <td>Overcast</td>\n      <td>Hot</td>\n      <td>Normal</td>\n      <td>Weak</td>\n      <td>Yes</td>\n    </tr>\n    <tr>\n      <th>13</th>\n      <td>Rain</td>\n      <td>Mild</td>\n      <td>High</td>\n      <td>Strong</td>\n      <td>No</td>\n    </tr>\n  </tbody>\n</table>\n</div>"
     },
     "execution_count": 3,
     "metadata": {},
     "output_type": "execute_result"
    }
   ],
   "source": [
    "df = df.drop(\"Day\", axis=1)\n",
    "df"
   ]
  },
  {
   "cell_type": "code",
   "execution_count": 4,
   "metadata": {
    "ExecuteTime": {
     "end_time": "2023-10-03T13:59:19.193450Z",
     "start_time": "2023-10-03T13:59:19.164298Z"
    }
   },
   "outputs": [
    {
     "data": {
      "text/plain": "['Outlook', 'Temp', 'Humidity', 'Wind']"
     },
     "execution_count": 4,
     "metadata": {},
     "output_type": "execute_result"
    }
   ],
   "source": [
    "X_names = df.columns.to_list()[:-1]\n",
    "X_names"
   ]
  },
  {
   "cell_type": "code",
   "execution_count": 5,
   "metadata": {
    "ExecuteTime": {
     "end_time": "2023-10-03T13:59:19.206809Z",
     "start_time": "2023-10-03T13:59:19.172149Z"
    }
   },
   "outputs": [
    {
     "data": {
      "text/plain": "     Outlook  Temp Humidity    Wind\n0      Sunny   Hot     High    Weak\n1      Sunny   Hot     High  Strong\n2   Overcast   Hot     High    Weak\n3       Rain  Mild     High    Weak\n4       Rain  Cool   Normal    Weak\n5       Rain  Cool   Normal  Strong\n6   Overcast  Cool   Normal  Strong\n7      Sunny  Mild     High    Weak\n8      Sunny  Cool   Normal    Weak\n9       Rain  Mild   Normal    Weak\n10     Sunny  Mild   Normal  Strong\n11  Overcast  Mild     High  Strong\n12  Overcast   Hot   Normal    Weak\n13      Rain  Mild     High  Strong",
      "text/html": "<div>\n<style scoped>\n    .dataframe tbody tr th:only-of-type {\n        vertical-align: middle;\n    }\n\n    .dataframe tbody tr th {\n        vertical-align: top;\n    }\n\n    .dataframe thead th {\n        text-align: right;\n    }\n</style>\n<table border=\"1\" class=\"dataframe\">\n  <thead>\n    <tr style=\"text-align: right;\">\n      <th></th>\n      <th>Outlook</th>\n      <th>Temp</th>\n      <th>Humidity</th>\n      <th>Wind</th>\n    </tr>\n  </thead>\n  <tbody>\n    <tr>\n      <th>0</th>\n      <td>Sunny</td>\n      <td>Hot</td>\n      <td>High</td>\n      <td>Weak</td>\n    </tr>\n    <tr>\n      <th>1</th>\n      <td>Sunny</td>\n      <td>Hot</td>\n      <td>High</td>\n      <td>Strong</td>\n    </tr>\n    <tr>\n      <th>2</th>\n      <td>Overcast</td>\n      <td>Hot</td>\n      <td>High</td>\n      <td>Weak</td>\n    </tr>\n    <tr>\n      <th>3</th>\n      <td>Rain</td>\n      <td>Mild</td>\n      <td>High</td>\n      <td>Weak</td>\n    </tr>\n    <tr>\n      <th>4</th>\n      <td>Rain</td>\n      <td>Cool</td>\n      <td>Normal</td>\n      <td>Weak</td>\n    </tr>\n    <tr>\n      <th>5</th>\n      <td>Rain</td>\n      <td>Cool</td>\n      <td>Normal</td>\n      <td>Strong</td>\n    </tr>\n    <tr>\n      <th>6</th>\n      <td>Overcast</td>\n      <td>Cool</td>\n      <td>Normal</td>\n      <td>Strong</td>\n    </tr>\n    <tr>\n      <th>7</th>\n      <td>Sunny</td>\n      <td>Mild</td>\n      <td>High</td>\n      <td>Weak</td>\n    </tr>\n    <tr>\n      <th>8</th>\n      <td>Sunny</td>\n      <td>Cool</td>\n      <td>Normal</td>\n      <td>Weak</td>\n    </tr>\n    <tr>\n      <th>9</th>\n      <td>Rain</td>\n      <td>Mild</td>\n      <td>Normal</td>\n      <td>Weak</td>\n    </tr>\n    <tr>\n      <th>10</th>\n      <td>Sunny</td>\n      <td>Mild</td>\n      <td>Normal</td>\n      <td>Strong</td>\n    </tr>\n    <tr>\n      <th>11</th>\n      <td>Overcast</td>\n      <td>Mild</td>\n      <td>High</td>\n      <td>Strong</td>\n    </tr>\n    <tr>\n      <th>12</th>\n      <td>Overcast</td>\n      <td>Hot</td>\n      <td>Normal</td>\n      <td>Weak</td>\n    </tr>\n    <tr>\n      <th>13</th>\n      <td>Rain</td>\n      <td>Mild</td>\n      <td>High</td>\n      <td>Strong</td>\n    </tr>\n  </tbody>\n</table>\n</div>"
     },
     "execution_count": 5,
     "metadata": {},
     "output_type": "execute_result"
    }
   ],
   "source": [
    "X = df.iloc[:, 0:-1]\n",
    "X"
   ]
  },
  {
   "cell_type": "code",
   "execution_count": 6,
   "metadata": {
    "ExecuteTime": {
     "end_time": "2023-10-03T13:59:19.206933Z",
     "start_time": "2023-10-03T13:59:19.175742Z"
    }
   },
   "outputs": [
    {
     "data": {
      "text/plain": "'Tennis'"
     },
     "execution_count": 6,
     "metadata": {},
     "output_type": "execute_result"
    }
   ],
   "source": [
    "Y_name = df.columns.to_list()[-1]\n",
    "Y_name"
   ]
  },
  {
   "cell_type": "code",
   "execution_count": 7,
   "metadata": {
    "ExecuteTime": {
     "end_time": "2023-10-03T13:59:19.207709Z",
     "start_time": "2023-10-03T13:59:19.178087Z"
    }
   },
   "outputs": [
    {
     "data": {
      "text/plain": "0      No\n1      No\n2     Yes\n3     Yes\n4     Yes\n5      No\n6     Yes\n7      No\n8     Yes\n9     Yes\n10    Yes\n11    Yes\n12    Yes\n13     No\nName: Tennis, dtype: object"
     },
     "execution_count": 7,
     "metadata": {},
     "output_type": "execute_result"
    }
   ],
   "source": [
    "Y = df.iloc[:, -1]\n",
    "Y"
   ]
  },
  {
   "cell_type": "markdown",
   "metadata": {},
   "source": [
    "## Build the table of observations\n",
    "Take $x$ to be the random variable Outlook and count the observations based on the data set."
   ]
  },
  {
   "cell_type": "code",
   "execution_count": 8,
   "metadata": {
    "ExecuteTime": {
     "end_time": "2023-10-03T13:59:19.207744Z",
     "start_time": "2023-10-03T13:59:19.184012Z"
    }
   },
   "outputs": [],
   "source": [
    "N = X[\"Outlook\"].size\n",
    "xvalues = np.unique(X[\"Outlook\"].values).tolist()\n",
    "yvalues = np.unique(Y.values).tolist()\n",
    "dimx = len(xvalues)\n",
    "dimy = len(yvalues)"
   ]
  },
  {
   "cell_type": "code",
   "execution_count": 9,
   "metadata": {
    "ExecuteTime": {
     "end_time": "2023-10-03T13:59:19.226147Z",
     "start_time": "2023-10-03T13:59:19.191928Z"
    }
   },
   "outputs": [
    {
     "data": {
      "text/plain": "          No  Yes\nOvercast   0    4\nRain       2    3\nSunny      3    2",
      "text/html": "<div>\n<style scoped>\n    .dataframe tbody tr th:only-of-type {\n        vertical-align: middle;\n    }\n\n    .dataframe tbody tr th {\n        vertical-align: top;\n    }\n\n    .dataframe thead th {\n        text-align: right;\n    }\n</style>\n<table border=\"1\" class=\"dataframe\">\n  <thead>\n    <tr style=\"text-align: right;\">\n      <th></th>\n      <th>No</th>\n      <th>Yes</th>\n    </tr>\n  </thead>\n  <tbody>\n    <tr>\n      <th>Overcast</th>\n      <td>0</td>\n      <td>4</td>\n    </tr>\n    <tr>\n      <th>Rain</th>\n      <td>2</td>\n      <td>3</td>\n    </tr>\n    <tr>\n      <th>Sunny</th>\n      <td>3</td>\n      <td>2</td>\n    </tr>\n  </tbody>\n</table>\n</div>"
     },
     "execution_count": 9,
     "metadata": {},
     "output_type": "execute_result"
    }
   ],
   "source": [
    "obs = pd.DataFrame(0, columns=yvalues, index=xvalues)\n",
    "for i in range(N):\n",
    "    xi = X[\"Outlook\"][i]\n",
    "    yi = Y[i]\n",
    "    obs[yi][xi] += 1\n",
    "obs"
   ]
  },
  {
   "cell_type": "markdown",
   "metadata": {},
   "source": [
    "## Approximate the joint distribution $p(x,y)$\n",
    "Take $x$ to be Outlook and approximate the joint distribution based on the table of observations."
   ]
  },
  {
   "cell_type": "code",
   "execution_count": 10,
   "metadata": {
    "ExecuteTime": {
     "end_time": "2023-10-03T13:59:19.226295Z",
     "start_time": "2023-10-03T13:59:19.195532Z"
    }
   },
   "outputs": [
    {
     "data": {
      "text/plain": "Overcast    4\nRain        5\nSunny       5\ndtype: int64"
     },
     "execution_count": 10,
     "metadata": {},
     "output_type": "execute_result"
    }
   ],
   "source": [
    "m = obs.sum(axis=1)\n",
    "m"
   ]
  },
  {
   "cell_type": "code",
   "execution_count": 11,
   "metadata": {
    "ExecuteTime": {
     "end_time": "2023-10-03T13:59:19.226486Z",
     "start_time": "2023-10-03T13:59:19.199917Z"
    }
   },
   "outputs": [
    {
     "data": {
      "text/plain": "No     5\nYes    9\ndtype: int64"
     },
     "execution_count": 11,
     "metadata": {},
     "output_type": "execute_result"
    }
   ],
   "source": [
    "l = obs.sum(axis=0)\n",
    "l"
   ]
  },
  {
   "cell_type": "code",
   "execution_count": 12,
   "metadata": {
    "ExecuteTime": {
     "end_time": "2023-10-03T13:59:19.253920Z",
     "start_time": "2023-10-03T13:59:19.209673Z"
    }
   },
   "outputs": [
    {
     "data": {
      "text/plain": "           No  Yes    m\nOvercast  0.0  4.0  4.0\nRain      2.0  3.0  5.0\nSunny     3.0  2.0  5.0\nl         5.0  9.0  NaN",
      "text/html": "<div>\n<style scoped>\n    .dataframe tbody tr th:only-of-type {\n        vertical-align: middle;\n    }\n\n    .dataframe tbody tr th {\n        vertical-align: top;\n    }\n\n    .dataframe thead th {\n        text-align: right;\n    }\n</style>\n<table border=\"1\" class=\"dataframe\">\n  <thead>\n    <tr style=\"text-align: right;\">\n      <th></th>\n      <th>No</th>\n      <th>Yes</th>\n      <th>m</th>\n    </tr>\n  </thead>\n  <tbody>\n    <tr>\n      <th>Overcast</th>\n      <td>0.0</td>\n      <td>4.0</td>\n      <td>4.0</td>\n    </tr>\n    <tr>\n      <th>Rain</th>\n      <td>2.0</td>\n      <td>3.0</td>\n      <td>5.0</td>\n    </tr>\n    <tr>\n      <th>Sunny</th>\n      <td>3.0</td>\n      <td>2.0</td>\n      <td>5.0</td>\n    </tr>\n    <tr>\n      <th>l</th>\n      <td>5.0</td>\n      <td>9.0</td>\n      <td>NaN</td>\n    </tr>\n  </tbody>\n</table>\n</div>"
     },
     "execution_count": 12,
     "metadata": {},
     "output_type": "execute_result"
    }
   ],
   "source": [
    "obs[\"m\"] = m\n",
    "obs.loc[\"l\"] = l\n",
    "obs"
   ]
  },
  {
   "cell_type": "code",
   "execution_count": 13,
   "metadata": {
    "ExecuteTime": {
     "end_time": "2023-10-03T13:59:19.285753Z",
     "start_time": "2023-10-03T13:59:19.218246Z"
    }
   },
   "outputs": [
    {
     "data": {
      "text/plain": "                No       Yes\nOvercast  0.000000  0.285714\nRain      0.142857  0.214286\nSunny     0.214286  0.142857",
      "text/html": "<div>\n<style scoped>\n    .dataframe tbody tr th:only-of-type {\n        vertical-align: middle;\n    }\n\n    .dataframe tbody tr th {\n        vertical-align: top;\n    }\n\n    .dataframe thead th {\n        text-align: right;\n    }\n</style>\n<table border=\"1\" class=\"dataframe\">\n  <thead>\n    <tr style=\"text-align: right;\">\n      <th></th>\n      <th>No</th>\n      <th>Yes</th>\n    </tr>\n  </thead>\n  <tbody>\n    <tr>\n      <th>Overcast</th>\n      <td>0.000000</td>\n      <td>0.285714</td>\n    </tr>\n    <tr>\n      <th>Rain</th>\n      <td>0.142857</td>\n      <td>0.214286</td>\n    </tr>\n    <tr>\n      <th>Sunny</th>\n      <td>0.214286</td>\n      <td>0.142857</td>\n    </tr>\n  </tbody>\n</table>\n</div>"
     },
     "execution_count": 13,
     "metadata": {},
     "output_type": "execute_result"
    }
   ],
   "source": [
    "joint_proba = pd.DataFrame(0, columns=yvalues, index=xvalues)\n",
    "for x in xvalues:\n",
    "    joint_proba.loc[x] = obs[yvalues].loc[x] / N\n",
    "joint_proba"
   ]
  },
  {
   "cell_type": "markdown",
   "metadata": {},
   "source": [
    "## Approximate $p(y|x)$\n",
    "Take $x$ to be Outlook and estimate the conditional probability of $y$ given $x$. Then, sample 10 values of $y$ given $x$ equal Sunny."
   ]
  },
  {
   "cell_type": "code",
   "execution_count": 14,
   "metadata": {
    "ExecuteTime": {
     "end_time": "2023-10-03T13:59:19.290641Z",
     "start_time": "2023-10-03T13:59:19.226077Z"
    }
   },
   "outputs": [
    {
     "data": {
      "text/plain": "           No  Yes\nOvercast  0.0  1.0\nRain      0.4  0.6\nSunny     0.6  0.4",
      "text/html": "<div>\n<style scoped>\n    .dataframe tbody tr th:only-of-type {\n        vertical-align: middle;\n    }\n\n    .dataframe tbody tr th {\n        vertical-align: top;\n    }\n\n    .dataframe thead th {\n        text-align: right;\n    }\n</style>\n<table border=\"1\" class=\"dataframe\">\n  <thead>\n    <tr style=\"text-align: right;\">\n      <th></th>\n      <th>No</th>\n      <th>Yes</th>\n    </tr>\n  </thead>\n  <tbody>\n    <tr>\n      <th>Overcast</th>\n      <td>0.0</td>\n      <td>1.0</td>\n    </tr>\n    <tr>\n      <th>Rain</th>\n      <td>0.4</td>\n      <td>0.6</td>\n    </tr>\n    <tr>\n      <th>Sunny</th>\n      <td>0.6</td>\n      <td>0.4</td>\n    </tr>\n  </tbody>\n</table>\n</div>"
     },
     "execution_count": 14,
     "metadata": {},
     "output_type": "execute_result"
    }
   ],
   "source": [
    "p_y_x = pd.DataFrame(0, columns=yvalues, index=xvalues)\n",
    "for x in xvalues:\n",
    "    p_y_x.loc[x] = obs[yvalues].loc[x] / obs[\"m\"].loc[x]\n",
    "p_y_x"
   ]
  },
  {
   "cell_type": "code",
   "execution_count": 15,
   "metadata": {
    "ExecuteTime": {
     "end_time": "2023-10-03T13:59:19.290742Z",
     "start_time": "2023-10-03T13:59:19.233462Z"
    }
   },
   "outputs": [
    {
     "data": {
      "text/plain": "array(['No', 'No', 'No', 'No', 'Yes', 'No', 'Yes', 'No', 'No', 'No'],\n      dtype='<U3')"
     },
     "execution_count": 15,
     "metadata": {},
     "output_type": "execute_result"
    }
   ],
   "source": [
    "np.random.choice(yvalues, size=10, p=p_y_x.loc[\"Sunny\"])"
   ]
  },
  {
   "cell_type": "markdown",
   "metadata": {},
   "source": [
    "## Approximate $p(x|y)$\n",
    "Take $x$ to be Outlook and approximate the conditional distribution based on the table of observations. Then, sample 10 values of Outlook for $y$ equal Yes."
   ]
  },
  {
   "cell_type": "code",
   "execution_count": 16,
   "metadata": {
    "ExecuteTime": {
     "end_time": "2023-10-03T13:59:19.290851Z",
     "start_time": "2023-10-03T13:59:19.240862Z"
    }
   },
   "outputs": [
    {
     "data": {
      "text/plain": "           No       Yes\nOvercast  0.0  0.444444\nRain      0.4  0.333333\nSunny     0.6  0.222222",
      "text/html": "<div>\n<style scoped>\n    .dataframe tbody tr th:only-of-type {\n        vertical-align: middle;\n    }\n\n    .dataframe tbody tr th {\n        vertical-align: top;\n    }\n\n    .dataframe thead th {\n        text-align: right;\n    }\n</style>\n<table border=\"1\" class=\"dataframe\">\n  <thead>\n    <tr style=\"text-align: right;\">\n      <th></th>\n      <th>No</th>\n      <th>Yes</th>\n    </tr>\n  </thead>\n  <tbody>\n    <tr>\n      <th>Overcast</th>\n      <td>0.0</td>\n      <td>0.444444</td>\n    </tr>\n    <tr>\n      <th>Rain</th>\n      <td>0.4</td>\n      <td>0.333333</td>\n    </tr>\n    <tr>\n      <th>Sunny</th>\n      <td>0.6</td>\n      <td>0.222222</td>\n    </tr>\n  </tbody>\n</table>\n</div>"
     },
     "execution_count": 16,
     "metadata": {},
     "output_type": "execute_result"
    }
   ],
   "source": [
    "p_x_y = pd.DataFrame(0, columns=yvalues, index=xvalues)\n",
    "for y in yvalues:\n",
    "    p_x_y[y] = obs[y] / obs[y].loc[\"l\"]\n",
    "p_x_y"
   ]
  },
  {
   "cell_type": "code",
   "execution_count": 17,
   "metadata": {
    "ExecuteTime": {
     "end_time": "2023-10-03T13:59:19.319180Z",
     "start_time": "2023-10-03T13:59:19.244924Z"
    }
   },
   "outputs": [
    {
     "data": {
      "text/plain": "array(['Sunny', 'Overcast', 'Rain', 'Overcast', 'Sunny', 'Sunny', 'Rain',\n       'Overcast', 'Overcast', 'Overcast'], dtype='<U8')"
     },
     "execution_count": 17,
     "metadata": {},
     "output_type": "execute_result"
    }
   ],
   "source": [
    "np.random.choice(xvalues, size=10, p=p_x_y[\"Yes\"])"
   ]
  },
  {
   "cell_type": "markdown",
   "source": [
    "## Approximate $p(y,o,h,w,t)$\n",
    "*$p(y,o,h,w,t) = p(y) * p(o|y) * p(h|y,o) * p(w|y,o) * p(t|y,o,h,w)$*"
   ],
   "metadata": {
    "collapsed": false
   }
  },
  {
   "cell_type": "markdown",
   "source": [
    "### $p(y)$"
   ],
   "metadata": {
    "collapsed": false
   }
  },
  {
   "cell_type": "markdown",
   "source": [
    "Usamos la función groupby para obtener las columnas que queremos agrupar para obtener su probabilidad conjunta, para calcularla obtenemos el tamaño con la función size() y lo dividimos entre la cantidad de observaciones que tiene el data set, N."
   ],
   "metadata": {
    "collapsed": false
   }
  },
  {
   "cell_type": "code",
   "execution_count": 18,
   "outputs": [
    {
     "data": {
      "text/plain": "               P\nTennis          \nNo      0.357143\nYes     0.642857",
      "text/html": "<div>\n<style scoped>\n    .dataframe tbody tr th:only-of-type {\n        vertical-align: middle;\n    }\n\n    .dataframe tbody tr th {\n        vertical-align: top;\n    }\n\n    .dataframe thead th {\n        text-align: right;\n    }\n</style>\n<table border=\"1\" class=\"dataframe\">\n  <thead>\n    <tr style=\"text-align: right;\">\n      <th></th>\n      <th>P</th>\n    </tr>\n    <tr>\n      <th>Tennis</th>\n      <th></th>\n    </tr>\n  </thead>\n  <tbody>\n    <tr>\n      <th>No</th>\n      <td>0.357143</td>\n    </tr>\n    <tr>\n      <th>Yes</th>\n      <td>0.642857</td>\n    </tr>\n  </tbody>\n</table>\n</div>"
     },
     "execution_count": 18,
     "metadata": {},
     "output_type": "execute_result"
    }
   ],
   "source": [
    "p_y = pd.DataFrame(0, columns=[], index=[])\n",
    "p_y['P'] = df.groupby(['Tennis']).size() / N\n",
    "p_y"
   ],
   "metadata": {
    "collapsed": false,
    "ExecuteTime": {
     "end_time": "2023-10-03T13:59:19.328937Z",
     "start_time": "2023-10-03T13:59:19.253006Z"
    }
   }
  },
  {
   "cell_type": "markdown",
   "source": [
    "### $p(o|y)$\n",
    "*$p(o|y) = p(o,y) / p(y)$* "
   ],
   "metadata": {
    "collapsed": false
   }
  },
  {
   "cell_type": "markdown",
   "source": [
    "Para obtener la probabilidad condicional utilizamos la regla de la cadena: $p(x|y) = p(x,y) / p(y)$"
   ],
   "metadata": {
    "collapsed": false
   }
  },
  {
   "cell_type": "code",
   "execution_count": 19,
   "outputs": [
    {
     "data": {
      "text/plain": "                        P\nOutlook  Tennis          \nOvercast Yes     0.285714\nRain     No      0.142857\n         Yes     0.214286\nSunny    No      0.214286\n         Yes     0.142857",
      "text/html": "<div>\n<style scoped>\n    .dataframe tbody tr th:only-of-type {\n        vertical-align: middle;\n    }\n\n    .dataframe tbody tr th {\n        vertical-align: top;\n    }\n\n    .dataframe thead th {\n        text-align: right;\n    }\n</style>\n<table border=\"1\" class=\"dataframe\">\n  <thead>\n    <tr style=\"text-align: right;\">\n      <th></th>\n      <th></th>\n      <th>P</th>\n    </tr>\n    <tr>\n      <th>Outlook</th>\n      <th>Tennis</th>\n      <th></th>\n    </tr>\n  </thead>\n  <tbody>\n    <tr>\n      <th>Overcast</th>\n      <th>Yes</th>\n      <td>0.285714</td>\n    </tr>\n    <tr>\n      <th rowspan=\"2\" valign=\"top\">Rain</th>\n      <th>No</th>\n      <td>0.142857</td>\n    </tr>\n    <tr>\n      <th>Yes</th>\n      <td>0.214286</td>\n    </tr>\n    <tr>\n      <th rowspan=\"2\" valign=\"top\">Sunny</th>\n      <th>No</th>\n      <td>0.214286</td>\n    </tr>\n    <tr>\n      <th>Yes</th>\n      <td>0.142857</td>\n    </tr>\n  </tbody>\n</table>\n</div>"
     },
     "execution_count": 19,
     "metadata": {},
     "output_type": "execute_result"
    }
   ],
   "source": [
    "# p(o,y)\n",
    "joint_o_y = pd.DataFrame(0, columns=[], index=[])\n",
    "joint_o_y['P'] = df.groupby(['Outlook', 'Tennis']).size() / N\n",
    "joint_o_y"
   ],
   "metadata": {
    "collapsed": false,
    "ExecuteTime": {
     "end_time": "2023-10-03T13:59:19.345040Z",
     "start_time": "2023-10-03T13:59:19.257905Z"
    }
   }
  },
  {
   "cell_type": "code",
   "execution_count": 20,
   "outputs": [
    {
     "data": {
      "text/plain": "                        P\nOutlook  Tennis          \nOvercast Yes     0.444444\nRain     No      0.400000\n         Yes     0.333333\nSunny    No      0.600000\n         Yes     0.222222",
      "text/html": "<div>\n<style scoped>\n    .dataframe tbody tr th:only-of-type {\n        vertical-align: middle;\n    }\n\n    .dataframe tbody tr th {\n        vertical-align: top;\n    }\n\n    .dataframe thead th {\n        text-align: right;\n    }\n</style>\n<table border=\"1\" class=\"dataframe\">\n  <thead>\n    <tr style=\"text-align: right;\">\n      <th></th>\n      <th></th>\n      <th>P</th>\n    </tr>\n    <tr>\n      <th>Outlook</th>\n      <th>Tennis</th>\n      <th></th>\n    </tr>\n  </thead>\n  <tbody>\n    <tr>\n      <th>Overcast</th>\n      <th>Yes</th>\n      <td>0.444444</td>\n    </tr>\n    <tr>\n      <th rowspan=\"2\" valign=\"top\">Rain</th>\n      <th>No</th>\n      <td>0.400000</td>\n    </tr>\n    <tr>\n      <th>Yes</th>\n      <td>0.333333</td>\n    </tr>\n    <tr>\n      <th rowspan=\"2\" valign=\"top\">Sunny</th>\n      <th>No</th>\n      <td>0.600000</td>\n    </tr>\n    <tr>\n      <th>Yes</th>\n      <td>0.222222</td>\n    </tr>\n  </tbody>\n</table>\n</div>"
     },
     "execution_count": 20,
     "metadata": {},
     "output_type": "execute_result"
    }
   ],
   "source": [
    "# p(o|y)\n",
    "cond_proba_o_y = joint_o_y / p_y\n",
    "cond_proba_o_y"
   ],
   "metadata": {
    "collapsed": false,
    "ExecuteTime": {
     "end_time": "2023-10-03T13:59:19.345232Z",
     "start_time": "2023-10-03T13:59:19.268853Z"
    }
   }
  },
  {
   "cell_type": "markdown",
   "source": [
    "### $p(h|y,o)$\n",
    "*$p(h|y,o) = p(h,y,o) / p(y,o)$* "
   ],
   "metadata": {
    "collapsed": false
   }
  },
  {
   "cell_type": "code",
   "execution_count": 21,
   "outputs": [
    {
     "data": {
      "text/plain": "                                 P\nHumidity Outlook  Tennis          \nHigh     Overcast Yes     0.142857\n         Rain     No      0.071429\n                  Yes     0.071429\n         Sunny    No      0.214286\nNormal   Overcast Yes     0.142857\n         Rain     No      0.071429\n                  Yes     0.142857\n         Sunny    Yes     0.142857",
      "text/html": "<div>\n<style scoped>\n    .dataframe tbody tr th:only-of-type {\n        vertical-align: middle;\n    }\n\n    .dataframe tbody tr th {\n        vertical-align: top;\n    }\n\n    .dataframe thead th {\n        text-align: right;\n    }\n</style>\n<table border=\"1\" class=\"dataframe\">\n  <thead>\n    <tr style=\"text-align: right;\">\n      <th></th>\n      <th></th>\n      <th></th>\n      <th>P</th>\n    </tr>\n    <tr>\n      <th>Humidity</th>\n      <th>Outlook</th>\n      <th>Tennis</th>\n      <th></th>\n    </tr>\n  </thead>\n  <tbody>\n    <tr>\n      <th rowspan=\"4\" valign=\"top\">High</th>\n      <th>Overcast</th>\n      <th>Yes</th>\n      <td>0.142857</td>\n    </tr>\n    <tr>\n      <th rowspan=\"2\" valign=\"top\">Rain</th>\n      <th>No</th>\n      <td>0.071429</td>\n    </tr>\n    <tr>\n      <th>Yes</th>\n      <td>0.071429</td>\n    </tr>\n    <tr>\n      <th>Sunny</th>\n      <th>No</th>\n      <td>0.214286</td>\n    </tr>\n    <tr>\n      <th rowspan=\"4\" valign=\"top\">Normal</th>\n      <th>Overcast</th>\n      <th>Yes</th>\n      <td>0.142857</td>\n    </tr>\n    <tr>\n      <th rowspan=\"2\" valign=\"top\">Rain</th>\n      <th>No</th>\n      <td>0.071429</td>\n    </tr>\n    <tr>\n      <th>Yes</th>\n      <td>0.142857</td>\n    </tr>\n    <tr>\n      <th>Sunny</th>\n      <th>Yes</th>\n      <td>0.142857</td>\n    </tr>\n  </tbody>\n</table>\n</div>"
     },
     "execution_count": 21,
     "metadata": {},
     "output_type": "execute_result"
    }
   ],
   "source": [
    "# p(h,y,o)\n",
    "joint_h_y_o = pd.DataFrame(0, columns=[], index=[])\n",
    "joint_h_y_o['P'] = df.groupby(['Humidity', 'Outlook', 'Tennis']).size() / N\n",
    "\n",
    "joint_h_y_o"
   ],
   "metadata": {
    "collapsed": false,
    "ExecuteTime": {
     "end_time": "2023-10-03T13:59:19.352408Z",
     "start_time": "2023-10-03T13:59:19.271895Z"
    }
   }
  },
  {
   "cell_type": "code",
   "execution_count": 22,
   "outputs": [
    {
     "data": {
      "text/plain": "                        P\nOutlook  Tennis          \nOvercast Yes     0.285714\nRain     No      0.142857\n         Yes     0.214286\nSunny    No      0.214286\n         Yes     0.142857",
      "text/html": "<div>\n<style scoped>\n    .dataframe tbody tr th:only-of-type {\n        vertical-align: middle;\n    }\n\n    .dataframe tbody tr th {\n        vertical-align: top;\n    }\n\n    .dataframe thead th {\n        text-align: right;\n    }\n</style>\n<table border=\"1\" class=\"dataframe\">\n  <thead>\n    <tr style=\"text-align: right;\">\n      <th></th>\n      <th></th>\n      <th>P</th>\n    </tr>\n    <tr>\n      <th>Outlook</th>\n      <th>Tennis</th>\n      <th></th>\n    </tr>\n  </thead>\n  <tbody>\n    <tr>\n      <th>Overcast</th>\n      <th>Yes</th>\n      <td>0.285714</td>\n    </tr>\n    <tr>\n      <th rowspan=\"2\" valign=\"top\">Rain</th>\n      <th>No</th>\n      <td>0.142857</td>\n    </tr>\n    <tr>\n      <th>Yes</th>\n      <td>0.214286</td>\n    </tr>\n    <tr>\n      <th rowspan=\"2\" valign=\"top\">Sunny</th>\n      <th>No</th>\n      <td>0.214286</td>\n    </tr>\n    <tr>\n      <th>Yes</th>\n      <td>0.142857</td>\n    </tr>\n  </tbody>\n</table>\n</div>"
     },
     "execution_count": 22,
     "metadata": {},
     "output_type": "execute_result"
    }
   ],
   "source": [
    "#p(y,o)\n",
    "joint_y_o = joint_h_y_o.groupby(['Outlook','Tennis']).sum()\n",
    "joint_y_o"
   ],
   "metadata": {
    "collapsed": false,
    "ExecuteTime": {
     "end_time": "2023-10-03T13:59:19.373Z",
     "start_time": "2023-10-03T13:59:19.302463Z"
    }
   }
  },
  {
   "cell_type": "code",
   "execution_count": 23,
   "outputs": [
    {
     "data": {
      "text/plain": "                                 P\nOutlook  Tennis Humidity          \nOvercast Yes    High      0.500000\n                Normal    0.500000\nRain     No     High      0.500000\n                Normal    0.500000\n         Yes    High      0.333333\n                Normal    0.666667\nSunny    No     High      1.000000\n         Yes    Normal    1.000000",
      "text/html": "<div>\n<style scoped>\n    .dataframe tbody tr th:only-of-type {\n        vertical-align: middle;\n    }\n\n    .dataframe tbody tr th {\n        vertical-align: top;\n    }\n\n    .dataframe thead th {\n        text-align: right;\n    }\n</style>\n<table border=\"1\" class=\"dataframe\">\n  <thead>\n    <tr style=\"text-align: right;\">\n      <th></th>\n      <th></th>\n      <th></th>\n      <th>P</th>\n    </tr>\n    <tr>\n      <th>Outlook</th>\n      <th>Tennis</th>\n      <th>Humidity</th>\n      <th></th>\n    </tr>\n  </thead>\n  <tbody>\n    <tr>\n      <th rowspan=\"2\" valign=\"top\">Overcast</th>\n      <th rowspan=\"2\" valign=\"top\">Yes</th>\n      <th>High</th>\n      <td>0.500000</td>\n    </tr>\n    <tr>\n      <th>Normal</th>\n      <td>0.500000</td>\n    </tr>\n    <tr>\n      <th rowspan=\"4\" valign=\"top\">Rain</th>\n      <th rowspan=\"2\" valign=\"top\">No</th>\n      <th>High</th>\n      <td>0.500000</td>\n    </tr>\n    <tr>\n      <th>Normal</th>\n      <td>0.500000</td>\n    </tr>\n    <tr>\n      <th rowspan=\"2\" valign=\"top\">Yes</th>\n      <th>High</th>\n      <td>0.333333</td>\n    </tr>\n    <tr>\n      <th>Normal</th>\n      <td>0.666667</td>\n    </tr>\n    <tr>\n      <th rowspan=\"2\" valign=\"top\">Sunny</th>\n      <th>No</th>\n      <th>High</th>\n      <td>1.000000</td>\n    </tr>\n    <tr>\n      <th>Yes</th>\n      <th>Normal</th>\n      <td>1.000000</td>\n    </tr>\n  </tbody>\n</table>\n</div>"
     },
     "execution_count": 23,
     "metadata": {},
     "output_type": "execute_result"
    }
   ],
   "source": [
    "#p(h|y,o) \n",
    "cond_proba_h_y_o = joint_h_y_o / joint_y_o\n",
    "cond_proba_h_y_o"
   ],
   "metadata": {
    "collapsed": false,
    "ExecuteTime": {
     "end_time": "2023-10-03T13:59:19.398314Z",
     "start_time": "2023-10-03T13:59:19.305859Z"
    }
   }
  },
  {
   "cell_type": "markdown",
   "source": [
    "### $p(w|y,o)$\n",
    "*$p(w|y,o) = p(w,y,o) / p(y,o)$* "
   ],
   "metadata": {
    "collapsed": false
   }
  },
  {
   "cell_type": "code",
   "execution_count": 24,
   "outputs": [
    {
     "data": {
      "text/plain": "                               P\nWind   Outlook  Tennis          \nStrong Overcast Yes     0.142857\n       Rain     No      0.142857\n       Sunny    No      0.071429\n                Yes     0.071429\nWeak   Overcast Yes     0.142857\n       Rain     Yes     0.214286\n       Sunny    No      0.142857\n                Yes     0.071429",
      "text/html": "<div>\n<style scoped>\n    .dataframe tbody tr th:only-of-type {\n        vertical-align: middle;\n    }\n\n    .dataframe tbody tr th {\n        vertical-align: top;\n    }\n\n    .dataframe thead th {\n        text-align: right;\n    }\n</style>\n<table border=\"1\" class=\"dataframe\">\n  <thead>\n    <tr style=\"text-align: right;\">\n      <th></th>\n      <th></th>\n      <th></th>\n      <th>P</th>\n    </tr>\n    <tr>\n      <th>Wind</th>\n      <th>Outlook</th>\n      <th>Tennis</th>\n      <th></th>\n    </tr>\n  </thead>\n  <tbody>\n    <tr>\n      <th rowspan=\"4\" valign=\"top\">Strong</th>\n      <th>Overcast</th>\n      <th>Yes</th>\n      <td>0.142857</td>\n    </tr>\n    <tr>\n      <th>Rain</th>\n      <th>No</th>\n      <td>0.142857</td>\n    </tr>\n    <tr>\n      <th rowspan=\"2\" valign=\"top\">Sunny</th>\n      <th>No</th>\n      <td>0.071429</td>\n    </tr>\n    <tr>\n      <th>Yes</th>\n      <td>0.071429</td>\n    </tr>\n    <tr>\n      <th rowspan=\"4\" valign=\"top\">Weak</th>\n      <th>Overcast</th>\n      <th>Yes</th>\n      <td>0.142857</td>\n    </tr>\n    <tr>\n      <th>Rain</th>\n      <th>Yes</th>\n      <td>0.214286</td>\n    </tr>\n    <tr>\n      <th rowspan=\"2\" valign=\"top\">Sunny</th>\n      <th>No</th>\n      <td>0.142857</td>\n    </tr>\n    <tr>\n      <th>Yes</th>\n      <td>0.071429</td>\n    </tr>\n  </tbody>\n</table>\n</div>"
     },
     "execution_count": 24,
     "metadata": {},
     "output_type": "execute_result"
    }
   ],
   "source": [
    "# p(w,y,o)\n",
    "joint_w_y_o = pd.DataFrame(0, columns=[], index=[])\n",
    "joint_w_y_o['P'] = df.groupby(['Wind', 'Outlook', 'Tennis']).size() / N\n",
    "\n",
    "joint_w_y_o"
   ],
   "metadata": {
    "collapsed": false,
    "ExecuteTime": {
     "end_time": "2023-10-03T13:59:19.407504Z",
     "start_time": "2023-10-03T13:59:19.322940Z"
    }
   }
  },
  {
   "cell_type": "code",
   "execution_count": 25,
   "outputs": [
    {
     "data": {
      "text/plain": "                               P\nOutlook  Tennis Wind            \nOvercast Yes    Strong  0.500000\n                Weak    0.500000\nRain     No     Strong  1.000000\n         Yes    Weak    1.000000\nSunny    No     Strong  0.333333\n                Weak    0.666667\n         Yes    Strong  0.500000\n                Weak    0.500000",
      "text/html": "<div>\n<style scoped>\n    .dataframe tbody tr th:only-of-type {\n        vertical-align: middle;\n    }\n\n    .dataframe tbody tr th {\n        vertical-align: top;\n    }\n\n    .dataframe thead th {\n        text-align: right;\n    }\n</style>\n<table border=\"1\" class=\"dataframe\">\n  <thead>\n    <tr style=\"text-align: right;\">\n      <th></th>\n      <th></th>\n      <th></th>\n      <th>P</th>\n    </tr>\n    <tr>\n      <th>Outlook</th>\n      <th>Tennis</th>\n      <th>Wind</th>\n      <th></th>\n    </tr>\n  </thead>\n  <tbody>\n    <tr>\n      <th rowspan=\"2\" valign=\"top\">Overcast</th>\n      <th rowspan=\"2\" valign=\"top\">Yes</th>\n      <th>Strong</th>\n      <td>0.500000</td>\n    </tr>\n    <tr>\n      <th>Weak</th>\n      <td>0.500000</td>\n    </tr>\n    <tr>\n      <th rowspan=\"2\" valign=\"top\">Rain</th>\n      <th>No</th>\n      <th>Strong</th>\n      <td>1.000000</td>\n    </tr>\n    <tr>\n      <th>Yes</th>\n      <th>Weak</th>\n      <td>1.000000</td>\n    </tr>\n    <tr>\n      <th rowspan=\"4\" valign=\"top\">Sunny</th>\n      <th rowspan=\"2\" valign=\"top\">No</th>\n      <th>Strong</th>\n      <td>0.333333</td>\n    </tr>\n    <tr>\n      <th>Weak</th>\n      <td>0.666667</td>\n    </tr>\n    <tr>\n      <th rowspan=\"2\" valign=\"top\">Yes</th>\n      <th>Strong</th>\n      <td>0.500000</td>\n    </tr>\n    <tr>\n      <th>Weak</th>\n      <td>0.500000</td>\n    </tr>\n  </tbody>\n</table>\n</div>"
     },
     "execution_count": 25,
     "metadata": {},
     "output_type": "execute_result"
    }
   ],
   "source": [
    "#p(w|y,o) \n",
    "cond_proba_w_y_o = joint_w_y_o / joint_y_o\n",
    "cond_proba_w_y_o"
   ],
   "metadata": {
    "collapsed": false,
    "ExecuteTime": {
     "end_time": "2023-10-03T13:59:19.408341Z",
     "start_time": "2023-10-03T13:59:19.330397Z"
    }
   }
  },
  {
   "cell_type": "markdown",
   "source": [
    "### $p(t|y,o,h,w)$\n",
    "*$p(t|y,o,h,w) = p(t,y,o,h,w) / p(y,o,h,w)$* "
   ],
   "metadata": {
    "collapsed": false
   }
  },
  {
   "cell_type": "code",
   "execution_count": 26,
   "outputs": [
    {
     "data": {
      "text/plain": "                                             P\nTemp Outlook  Tennis Humidity Wind            \nCool Overcast Yes    Normal   Strong  0.071429\n     Rain     No     Normal   Strong  0.071429\n              Yes    Normal   Weak    0.071429\n     Sunny    Yes    Normal   Weak    0.071429\nHot  Overcast Yes    High     Weak    0.071429\n                     Normal   Weak    0.071429\n     Sunny    No     High     Strong  0.071429\n                              Weak    0.071429\nMild Overcast Yes    High     Strong  0.071429\n     Rain     No     High     Strong  0.071429\n              Yes    High     Weak    0.071429\n                     Normal   Weak    0.071429\n     Sunny    No     High     Weak    0.071429\n              Yes    Normal   Strong  0.071429",
      "text/html": "<div>\n<style scoped>\n    .dataframe tbody tr th:only-of-type {\n        vertical-align: middle;\n    }\n\n    .dataframe tbody tr th {\n        vertical-align: top;\n    }\n\n    .dataframe thead th {\n        text-align: right;\n    }\n</style>\n<table border=\"1\" class=\"dataframe\">\n  <thead>\n    <tr style=\"text-align: right;\">\n      <th></th>\n      <th></th>\n      <th></th>\n      <th></th>\n      <th></th>\n      <th>P</th>\n    </tr>\n    <tr>\n      <th>Temp</th>\n      <th>Outlook</th>\n      <th>Tennis</th>\n      <th>Humidity</th>\n      <th>Wind</th>\n      <th></th>\n    </tr>\n  </thead>\n  <tbody>\n    <tr>\n      <th rowspan=\"4\" valign=\"top\">Cool</th>\n      <th>Overcast</th>\n      <th>Yes</th>\n      <th>Normal</th>\n      <th>Strong</th>\n      <td>0.071429</td>\n    </tr>\n    <tr>\n      <th rowspan=\"2\" valign=\"top\">Rain</th>\n      <th>No</th>\n      <th>Normal</th>\n      <th>Strong</th>\n      <td>0.071429</td>\n    </tr>\n    <tr>\n      <th>Yes</th>\n      <th>Normal</th>\n      <th>Weak</th>\n      <td>0.071429</td>\n    </tr>\n    <tr>\n      <th>Sunny</th>\n      <th>Yes</th>\n      <th>Normal</th>\n      <th>Weak</th>\n      <td>0.071429</td>\n    </tr>\n    <tr>\n      <th rowspan=\"4\" valign=\"top\">Hot</th>\n      <th rowspan=\"2\" valign=\"top\">Overcast</th>\n      <th rowspan=\"2\" valign=\"top\">Yes</th>\n      <th>High</th>\n      <th>Weak</th>\n      <td>0.071429</td>\n    </tr>\n    <tr>\n      <th>Normal</th>\n      <th>Weak</th>\n      <td>0.071429</td>\n    </tr>\n    <tr>\n      <th rowspan=\"2\" valign=\"top\">Sunny</th>\n      <th rowspan=\"2\" valign=\"top\">No</th>\n      <th rowspan=\"2\" valign=\"top\">High</th>\n      <th>Strong</th>\n      <td>0.071429</td>\n    </tr>\n    <tr>\n      <th>Weak</th>\n      <td>0.071429</td>\n    </tr>\n    <tr>\n      <th rowspan=\"6\" valign=\"top\">Mild</th>\n      <th>Overcast</th>\n      <th>Yes</th>\n      <th>High</th>\n      <th>Strong</th>\n      <td>0.071429</td>\n    </tr>\n    <tr>\n      <th rowspan=\"3\" valign=\"top\">Rain</th>\n      <th>No</th>\n      <th>High</th>\n      <th>Strong</th>\n      <td>0.071429</td>\n    </tr>\n    <tr>\n      <th rowspan=\"2\" valign=\"top\">Yes</th>\n      <th>High</th>\n      <th>Weak</th>\n      <td>0.071429</td>\n    </tr>\n    <tr>\n      <th>Normal</th>\n      <th>Weak</th>\n      <td>0.071429</td>\n    </tr>\n    <tr>\n      <th rowspan=\"2\" valign=\"top\">Sunny</th>\n      <th>No</th>\n      <th>High</th>\n      <th>Weak</th>\n      <td>0.071429</td>\n    </tr>\n    <tr>\n      <th>Yes</th>\n      <th>Normal</th>\n      <th>Strong</th>\n      <td>0.071429</td>\n    </tr>\n  </tbody>\n</table>\n</div>"
     },
     "execution_count": 26,
     "metadata": {},
     "output_type": "execute_result"
    }
   ],
   "source": [
    "# p(t,y,o,h,w)\n",
    "joint_t_y_o_h_w = pd.DataFrame(0, columns=[], index=[])\n",
    "joint_t_y_o_h_w['P'] = df.groupby(['Temp', 'Outlook', 'Tennis', 'Humidity', 'Wind']).size() / N\n",
    "\n",
    "joint_t_y_o_h_w"
   ],
   "metadata": {
    "collapsed": false,
    "ExecuteTime": {
     "end_time": "2023-10-03T13:59:19.428900Z",
     "start_time": "2023-10-03T13:59:19.333295Z"
    }
   }
  },
  {
   "cell_type": "code",
   "execution_count": 27,
   "outputs": [
    {
     "data": {
      "text/plain": "                                        P\nOutlook  Tennis Humidity Wind            \nOvercast Yes    High     Strong  0.071429\n                         Weak    0.071429\n                Normal   Strong  0.071429\n                         Weak    0.071429\nRain     No     High     Strong  0.071429\n                Normal   Strong  0.071429\n         Yes    High     Weak    0.071429\n                Normal   Weak    0.142857\nSunny    No     High     Strong  0.071429\n                         Weak    0.142857\n         Yes    Normal   Strong  0.071429\n                         Weak    0.071429",
      "text/html": "<div>\n<style scoped>\n    .dataframe tbody tr th:only-of-type {\n        vertical-align: middle;\n    }\n\n    .dataframe tbody tr th {\n        vertical-align: top;\n    }\n\n    .dataframe thead th {\n        text-align: right;\n    }\n</style>\n<table border=\"1\" class=\"dataframe\">\n  <thead>\n    <tr style=\"text-align: right;\">\n      <th></th>\n      <th></th>\n      <th></th>\n      <th></th>\n      <th>P</th>\n    </tr>\n    <tr>\n      <th>Outlook</th>\n      <th>Tennis</th>\n      <th>Humidity</th>\n      <th>Wind</th>\n      <th></th>\n    </tr>\n  </thead>\n  <tbody>\n    <tr>\n      <th rowspan=\"4\" valign=\"top\">Overcast</th>\n      <th rowspan=\"4\" valign=\"top\">Yes</th>\n      <th rowspan=\"2\" valign=\"top\">High</th>\n      <th>Strong</th>\n      <td>0.071429</td>\n    </tr>\n    <tr>\n      <th>Weak</th>\n      <td>0.071429</td>\n    </tr>\n    <tr>\n      <th rowspan=\"2\" valign=\"top\">Normal</th>\n      <th>Strong</th>\n      <td>0.071429</td>\n    </tr>\n    <tr>\n      <th>Weak</th>\n      <td>0.071429</td>\n    </tr>\n    <tr>\n      <th rowspan=\"4\" valign=\"top\">Rain</th>\n      <th rowspan=\"2\" valign=\"top\">No</th>\n      <th>High</th>\n      <th>Strong</th>\n      <td>0.071429</td>\n    </tr>\n    <tr>\n      <th>Normal</th>\n      <th>Strong</th>\n      <td>0.071429</td>\n    </tr>\n    <tr>\n      <th rowspan=\"2\" valign=\"top\">Yes</th>\n      <th>High</th>\n      <th>Weak</th>\n      <td>0.071429</td>\n    </tr>\n    <tr>\n      <th>Normal</th>\n      <th>Weak</th>\n      <td>0.142857</td>\n    </tr>\n    <tr>\n      <th rowspan=\"4\" valign=\"top\">Sunny</th>\n      <th rowspan=\"2\" valign=\"top\">No</th>\n      <th rowspan=\"2\" valign=\"top\">High</th>\n      <th>Strong</th>\n      <td>0.071429</td>\n    </tr>\n    <tr>\n      <th>Weak</th>\n      <td>0.142857</td>\n    </tr>\n    <tr>\n      <th rowspan=\"2\" valign=\"top\">Yes</th>\n      <th rowspan=\"2\" valign=\"top\">Normal</th>\n      <th>Strong</th>\n      <td>0.071429</td>\n    </tr>\n    <tr>\n      <th>Weak</th>\n      <td>0.071429</td>\n    </tr>\n  </tbody>\n</table>\n</div>"
     },
     "execution_count": 27,
     "metadata": {},
     "output_type": "execute_result"
    }
   ],
   "source": [
    "# p(y,o,h,w)\n",
    "joint_y_o_h_w = joint_t_y_o_h_w.groupby(['Outlook', 'Tennis', 'Humidity', 'Wind']).sum()\n",
    "joint_y_o_h_w"
   ],
   "metadata": {
    "collapsed": false,
    "ExecuteTime": {
     "end_time": "2023-10-03T13:59:19.431676Z",
     "start_time": "2023-10-03T13:59:19.342929Z"
    }
   }
  },
  {
   "cell_type": "code",
   "execution_count": 28,
   "outputs": [
    {
     "data": {
      "text/plain": "                                        P\nOutlook  Tennis Humidity Wind   Temp     \nOvercast Yes    High     Strong Mild  1.0\n                         Weak   Hot   1.0\n                Normal   Strong Cool  1.0\n                         Weak   Hot   1.0\nRain     No     High     Strong Mild  1.0\n                Normal   Strong Cool  1.0\n         Yes    High     Weak   Mild  1.0\n                Normal   Weak   Cool  0.5\n                                Mild  0.5\nSunny    No     High     Strong Hot   1.0\n                         Weak   Hot   0.5\n                                Mild  0.5\n         Yes    Normal   Strong Mild  1.0\n                         Weak   Cool  1.0",
      "text/html": "<div>\n<style scoped>\n    .dataframe tbody tr th:only-of-type {\n        vertical-align: middle;\n    }\n\n    .dataframe tbody tr th {\n        vertical-align: top;\n    }\n\n    .dataframe thead th {\n        text-align: right;\n    }\n</style>\n<table border=\"1\" class=\"dataframe\">\n  <thead>\n    <tr style=\"text-align: right;\">\n      <th></th>\n      <th></th>\n      <th></th>\n      <th></th>\n      <th></th>\n      <th>P</th>\n    </tr>\n    <tr>\n      <th>Outlook</th>\n      <th>Tennis</th>\n      <th>Humidity</th>\n      <th>Wind</th>\n      <th>Temp</th>\n      <th></th>\n    </tr>\n  </thead>\n  <tbody>\n    <tr>\n      <th rowspan=\"4\" valign=\"top\">Overcast</th>\n      <th rowspan=\"4\" valign=\"top\">Yes</th>\n      <th rowspan=\"2\" valign=\"top\">High</th>\n      <th>Strong</th>\n      <th>Mild</th>\n      <td>1.0</td>\n    </tr>\n    <tr>\n      <th>Weak</th>\n      <th>Hot</th>\n      <td>1.0</td>\n    </tr>\n    <tr>\n      <th rowspan=\"2\" valign=\"top\">Normal</th>\n      <th>Strong</th>\n      <th>Cool</th>\n      <td>1.0</td>\n    </tr>\n    <tr>\n      <th>Weak</th>\n      <th>Hot</th>\n      <td>1.0</td>\n    </tr>\n    <tr>\n      <th rowspan=\"5\" valign=\"top\">Rain</th>\n      <th rowspan=\"2\" valign=\"top\">No</th>\n      <th>High</th>\n      <th>Strong</th>\n      <th>Mild</th>\n      <td>1.0</td>\n    </tr>\n    <tr>\n      <th>Normal</th>\n      <th>Strong</th>\n      <th>Cool</th>\n      <td>1.0</td>\n    </tr>\n    <tr>\n      <th rowspan=\"3\" valign=\"top\">Yes</th>\n      <th>High</th>\n      <th>Weak</th>\n      <th>Mild</th>\n      <td>1.0</td>\n    </tr>\n    <tr>\n      <th rowspan=\"2\" valign=\"top\">Normal</th>\n      <th rowspan=\"2\" valign=\"top\">Weak</th>\n      <th>Cool</th>\n      <td>0.5</td>\n    </tr>\n    <tr>\n      <th>Mild</th>\n      <td>0.5</td>\n    </tr>\n    <tr>\n      <th rowspan=\"5\" valign=\"top\">Sunny</th>\n      <th rowspan=\"3\" valign=\"top\">No</th>\n      <th rowspan=\"3\" valign=\"top\">High</th>\n      <th>Strong</th>\n      <th>Hot</th>\n      <td>1.0</td>\n    </tr>\n    <tr>\n      <th rowspan=\"2\" valign=\"top\">Weak</th>\n      <th>Hot</th>\n      <td>0.5</td>\n    </tr>\n    <tr>\n      <th>Mild</th>\n      <td>0.5</td>\n    </tr>\n    <tr>\n      <th rowspan=\"2\" valign=\"top\">Yes</th>\n      <th rowspan=\"2\" valign=\"top\">Normal</th>\n      <th>Strong</th>\n      <th>Mild</th>\n      <td>1.0</td>\n    </tr>\n    <tr>\n      <th>Weak</th>\n      <th>Cool</th>\n      <td>1.0</td>\n    </tr>\n  </tbody>\n</table>\n</div>"
     },
     "execution_count": 28,
     "metadata": {},
     "output_type": "execute_result"
    }
   ],
   "source": [
    "#p(t|y,o,h,w)\n",
    "cond_proba_t_y_o_h_w = joint_t_y_o_h_w / joint_y_o_h_w\n",
    "cond_proba_t_y_o_h_w"
   ],
   "metadata": {
    "collapsed": false,
    "ExecuteTime": {
     "end_time": "2023-10-03T13:59:19.449921Z",
     "start_time": "2023-10-03T13:59:19.350991Z"
    }
   }
  },
  {
   "cell_type": "markdown",
   "source": [
    "### $p(y,o,h,w,t)$"
   ],
   "metadata": {
    "collapsed": false
   }
  },
  {
   "cell_type": "code",
   "execution_count": 29,
   "outputs": [
    {
     "data": {
      "text/plain": "                                             P\nOutlook  Tennis Humidity Wind   Temp          \nOvercast Yes    High     Strong Mild  0.071429\n                         Weak   Hot   0.071429\n                Normal   Strong Cool  0.071429\n                         Weak   Hot   0.071429\nRain     No     High     Strong Mild  0.071429\n                Normal   Strong Cool  0.071429\n         Yes    High     Weak   Mild  0.071429\n                Normal   Weak   Cool  0.071429\n                                Mild  0.071429\nSunny    No     High     Strong Hot   0.071429\n                         Weak   Hot   0.071429\n                                Mild  0.071429\n         Yes    Normal   Strong Mild  0.071429\n                         Weak   Cool  0.071429",
      "text/html": "<div>\n<style scoped>\n    .dataframe tbody tr th:only-of-type {\n        vertical-align: middle;\n    }\n\n    .dataframe tbody tr th {\n        vertical-align: top;\n    }\n\n    .dataframe thead th {\n        text-align: right;\n    }\n</style>\n<table border=\"1\" class=\"dataframe\">\n  <thead>\n    <tr style=\"text-align: right;\">\n      <th></th>\n      <th></th>\n      <th></th>\n      <th></th>\n      <th></th>\n      <th>P</th>\n    </tr>\n    <tr>\n      <th>Outlook</th>\n      <th>Tennis</th>\n      <th>Humidity</th>\n      <th>Wind</th>\n      <th>Temp</th>\n      <th></th>\n    </tr>\n  </thead>\n  <tbody>\n    <tr>\n      <th rowspan=\"4\" valign=\"top\">Overcast</th>\n      <th rowspan=\"4\" valign=\"top\">Yes</th>\n      <th rowspan=\"2\" valign=\"top\">High</th>\n      <th>Strong</th>\n      <th>Mild</th>\n      <td>0.071429</td>\n    </tr>\n    <tr>\n      <th>Weak</th>\n      <th>Hot</th>\n      <td>0.071429</td>\n    </tr>\n    <tr>\n      <th rowspan=\"2\" valign=\"top\">Normal</th>\n      <th>Strong</th>\n      <th>Cool</th>\n      <td>0.071429</td>\n    </tr>\n    <tr>\n      <th>Weak</th>\n      <th>Hot</th>\n      <td>0.071429</td>\n    </tr>\n    <tr>\n      <th rowspan=\"5\" valign=\"top\">Rain</th>\n      <th rowspan=\"2\" valign=\"top\">No</th>\n      <th>High</th>\n      <th>Strong</th>\n      <th>Mild</th>\n      <td>0.071429</td>\n    </tr>\n    <tr>\n      <th>Normal</th>\n      <th>Strong</th>\n      <th>Cool</th>\n      <td>0.071429</td>\n    </tr>\n    <tr>\n      <th rowspan=\"3\" valign=\"top\">Yes</th>\n      <th>High</th>\n      <th>Weak</th>\n      <th>Mild</th>\n      <td>0.071429</td>\n    </tr>\n    <tr>\n      <th rowspan=\"2\" valign=\"top\">Normal</th>\n      <th rowspan=\"2\" valign=\"top\">Weak</th>\n      <th>Cool</th>\n      <td>0.071429</td>\n    </tr>\n    <tr>\n      <th>Mild</th>\n      <td>0.071429</td>\n    </tr>\n    <tr>\n      <th rowspan=\"5\" valign=\"top\">Sunny</th>\n      <th rowspan=\"3\" valign=\"top\">No</th>\n      <th rowspan=\"3\" valign=\"top\">High</th>\n      <th>Strong</th>\n      <th>Hot</th>\n      <td>0.071429</td>\n    </tr>\n    <tr>\n      <th rowspan=\"2\" valign=\"top\">Weak</th>\n      <th>Hot</th>\n      <td>0.071429</td>\n    </tr>\n    <tr>\n      <th>Mild</th>\n      <td>0.071429</td>\n    </tr>\n    <tr>\n      <th rowspan=\"2\" valign=\"top\">Yes</th>\n      <th rowspan=\"2\" valign=\"top\">Normal</th>\n      <th>Strong</th>\n      <th>Mild</th>\n      <td>0.071429</td>\n    </tr>\n    <tr>\n      <th>Weak</th>\n      <th>Cool</th>\n      <td>0.071429</td>\n    </tr>\n  </tbody>\n</table>\n</div>"
     },
     "execution_count": 29,
     "metadata": {},
     "output_type": "execute_result"
    }
   ],
   "source": [
    "joint_y_o_h_w_t = p_y * cond_proba_o_y * cond_proba_h_y_o * cond_proba_w_y_o * cond_proba_t_y_o_h_w\n",
    "joint_y_o_h_w_t"
   ],
   "metadata": {
    "collapsed": false,
    "ExecuteTime": {
     "end_time": "2023-10-03T13:59:19.456107Z",
     "start_time": "2023-10-03T13:59:19.360869Z"
    }
   }
  },
  {
   "cell_type": "markdown",
   "source": [
    "## Sampling\n",
    "Se samplean 10 X con $p(y,o,h,w,t)$"
   ],
   "metadata": {
    "collapsed": false
   }
  },
  {
   "cell_type": "code",
   "execution_count": 30,
   "outputs": [
    {
     "data": {
      "text/plain": "array(['Rain,No,High,Strong,Mild', 'Sunny,No,High,Weak,Hot',\n       'Sunny,Yes,Normal,Weak,Cool', 'Sunny,No,High,Weak,Mild',\n       'Rain,Yes,Normal,Weak,Mild', 'Rain,No,Normal,Strong,Cool',\n       'Sunny,Yes,Normal,Weak,Cool', 'Overcast,Yes,High,Weak,Hot',\n       'Rain,Yes,High,Weak,Mild', 'Sunny,Yes,Normal,Strong,Mild',\n       'Sunny,No,High,Weak,Hot', 'Overcast,Yes,High,Weak,Hot',\n       'Sunny,Yes,Normal,Strong,Mild', 'Rain,Yes,Normal,Weak,Cool',\n       'Sunny,No,High,Weak,Hot', 'Overcast,Yes,Normal,Weak,Hot',\n       'Sunny,No,High,Weak,Hot', 'Overcast,Yes,High,Strong,Mild',\n       'Sunny,No,High,Weak,Mild', 'Overcast,Yes,High,Strong,Mild'],\n      dtype='<U31')"
     },
     "execution_count": 30,
     "metadata": {},
     "output_type": "execute_result"
    }
   ],
   "source": [
    "index_list =  [','.join(map(str, item)) for item in joint_y_o_h_w_t.index]\n",
    "np.random.choice(index_list, size=20, p=joint_y_o_h_w_t['P'].tolist())"
   ],
   "metadata": {
    "collapsed": false,
    "ExecuteTime": {
     "end_time": "2023-10-03T13:59:19.473829Z",
     "start_time": "2023-10-03T13:59:19.374180Z"
    }
   }
  },
  {
   "cell_type": "markdown",
   "source": [
    "## Observaciones"
   ],
   "metadata": {
    "collapsed": false
   }
  },
  {
   "cell_type": "markdown",
   "source": [
    "El resultado de la probabilidad conjunta $p(y,o,h,w,t)$ es una probabilidad uniforme para las combinaciones de (y,o,h,w,t) que aparecen en el data set, lo cual se debe a que los datos provistos contienen como máximo una única ocurrencia cada uno, por lo que la probabilidad de todos los casos posibles es 0 o 0.071429."
   ],
   "metadata": {
    "collapsed": false
   }
  },
  {
   "cell_type": "markdown",
   "source": [],
   "metadata": {
    "collapsed": false
   }
  }
 ],
 "metadata": {
  "kernelspec": {
   "display_name": "Python 3",
   "language": "python",
   "name": "python3"
  },
  "language_info": {
   "codemirror_mode": {
    "name": "ipython",
    "version": 3
   },
   "file_extension": ".py",
   "mimetype": "text/x-python",
   "name": "python",
   "nbconvert_exporter": "python",
   "pygments_lexer": "ipython3",
   "version": "3.10.4"
  },
  "orig_nbformat": 4
 },
 "nbformat": 4,
 "nbformat_minor": 2
}
