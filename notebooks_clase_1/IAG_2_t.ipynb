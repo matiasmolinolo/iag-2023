{
 "cells": [
  {
   "cell_type": "markdown",
   "metadata": {
    "id": "JgTH-vb24nd5"
   },
   "source": [
    "# Estimating distributions (part 2)\n",
    "The goal of this notebook is to explore a first approach to approximate $p(y|x)$ and $p(x|y)$ on a tabular dataset where $x$ is real-valued, $x\\in\\mathbb{R}^k$, and the target $y$ is discrete and finite, $y\\in\\{0,\\ldots,d\\}⊆\\mathbb{N}, d\\geq 1$."
   ]
  },
  {
   "cell_type": "markdown",
   "metadata": {
    "id": "Q2k8eV_m4blR"
   },
   "source": [
    "## Imports"
   ]
  },
  {
   "cell_type": "code",
   "execution_count": 1,
   "metadata": {
    "ExecuteTime": {
     "end_time": "2023-10-03T22:39:56.013758Z",
     "start_time": "2023-10-03T22:39:54.311009Z"
    },
    "id": "btNpRxlWh7P7"
   },
   "outputs": [],
   "source": [
    "from sklearn import datasets\n",
    "import numpy as np\n",
    "import pandas as pd\n",
    "import matplotlib.pyplot as plt"
   ]
  },
  {
   "cell_type": "markdown",
   "metadata": {
    "id": "mNBA2Pdc3a_E"
   },
   "source": [
    "## Load data set"
   ]
  },
  {
   "cell_type": "code",
   "execution_count": 2,
   "metadata": {
    "ExecuteTime": {
     "end_time": "2023-10-03T22:39:56.019313Z",
     "start_time": "2023-10-03T22:39:56.014020Z"
    },
    "id": "UuXlZy-0iMsg"
   },
   "outputs": [],
   "source": [
    "iris = datasets.load_iris()"
   ]
  },
  {
   "cell_type": "code",
   "execution_count": 3,
   "metadata": {
    "ExecuteTime": {
     "end_time": "2023-10-03T22:39:56.024697Z",
     "start_time": "2023-10-03T22:39:56.021494Z"
    },
    "colab": {
     "base_uri": "https://localhost:8080/"
    },
    "id": "QAz6Nk1oowVb",
    "outputId": "0f68d3b9-3366-474a-f380-01686b52a5fb"
   },
   "outputs": [
    {
     "data": {
      "text/plain": [
       "array(['setosa', 'versicolor', 'virginica'], dtype='<U10')"
      ]
     },
     "execution_count": 3,
     "metadata": {},
     "output_type": "execute_result"
    }
   ],
   "source": [
    "iris.target_names"
   ]
  },
  {
   "cell_type": "code",
   "execution_count": 4,
   "metadata": {
    "ExecuteTime": {
     "end_time": "2023-10-03T22:39:56.068343Z",
     "start_time": "2023-10-03T22:39:56.065088Z"
    },
    "colab": {
     "base_uri": "https://localhost:8080/"
    },
    "id": "DEc7gkxalucI",
    "outputId": "031d3263-2bc4-4d72-e011-35c22d601d3e"
   },
   "outputs": [
    {
     "data": {
      "text/plain": [
       "['sepal length (cm)',\n",
       " 'sepal width (cm)',\n",
       " 'petal length (cm)',\n",
       " 'petal width (cm)']"
      ]
     },
     "execution_count": 4,
     "metadata": {},
     "output_type": "execute_result"
    }
   ],
   "source": [
    "iris.feature_names"
   ]
  },
  {
   "cell_type": "code",
   "execution_count": 5,
   "metadata": {
    "ExecuteTime": {
     "end_time": "2023-10-03T22:39:56.073245Z",
     "start_time": "2023-10-03T22:39:56.069963Z"
    },
    "id": "5wKijNM9iVEY"
   },
   "outputs": [],
   "source": [
    "X = iris.data\n",
    "y = iris.target"
   ]
  },
  {
   "cell_type": "code",
   "execution_count": 6,
   "metadata": {
    "ExecuteTime": {
     "end_time": "2023-10-03T22:39:56.112156Z",
     "start_time": "2023-10-03T22:39:56.072152Z"
    },
    "collapsed": false
   },
   "outputs": [
    {
     "data": {
      "text/plain": [
       "array([5.1, 4.9, 4.7, 4.6, 5. , 5.4, 4.6, 5. , 4.4, 4.9, 5.4, 4.8, 4.8,\n",
       "       4.3, 5.8, 5.7, 5.4, 5.1, 5.7, 5.1, 5.4, 5.1, 4.6, 5.1, 4.8, 5. ,\n",
       "       5. , 5.2, 5.2, 4.7, 4.8, 5.4, 5.2, 5.5, 4.9, 5. , 5.5, 4.9, 4.4,\n",
       "       5.1, 5. , 4.5, 4.4, 5. , 5.1, 4.8, 5.1, 4.6, 5.3, 5. , 7. , 6.4,\n",
       "       6.9, 5.5, 6.5, 5.7, 6.3, 4.9, 6.6, 5.2, 5. , 5.9, 6. , 6.1, 5.6,\n",
       "       6.7, 5.6, 5.8, 6.2, 5.6, 5.9, 6.1, 6.3, 6.1, 6.4, 6.6, 6.8, 6.7,\n",
       "       6. , 5.7, 5.5, 5.5, 5.8, 6. , 5.4, 6. , 6.7, 6.3, 5.6, 5.5, 5.5,\n",
       "       6.1, 5.8, 5. , 5.6, 5.7, 5.7, 6.2, 5.1, 5.7, 6.3, 5.8, 7.1, 6.3,\n",
       "       6.5, 7.6, 4.9, 7.3, 6.7, 7.2, 6.5, 6.4, 6.8, 5.7, 5.8, 6.4, 6.5,\n",
       "       7.7, 7.7, 6. , 6.9, 5.6, 7.7, 6.3, 6.7, 7.2, 6.2, 6.1, 6.4, 7.2,\n",
       "       7.4, 7.9, 6.4, 6.3, 6.1, 7.7, 6.3, 6.4, 6. , 6.9, 6.7, 6.9, 5.8,\n",
       "       6.8, 6.7, 6.7, 6.3, 6.5, 6.2, 5.9])"
      ]
     },
     "execution_count": 6,
     "metadata": {},
     "output_type": "execute_result"
    }
   ],
   "source": [
    "sepal_length = X[:, 0]\n",
    "sepal_length"
   ]
  },
  {
   "cell_type": "markdown",
   "metadata": {
    "collapsed": false
   },
   "source": [
    "## Approximate $p(y|x)$\n",
    "Take $x$ to be sepal length and estimate the conditional probability of the target variable $y$ given $x$. Then, sample 10 values of $y$ given a $x=4.75$."
   ]
  },
  {
   "cell_type": "markdown",
   "metadata": {
    "collapsed": false
   },
   "source": [
    "Realizamos un histograma de sepal length, diferenciando por clase. "
   ]
  },
  {
   "cell_type": "code",
   "execution_count": 7,
   "metadata": {
    "ExecuteTime": {
     "end_time": "2023-10-03T22:39:56.112609Z",
     "start_time": "2023-10-03T22:39:56.092714Z"
    },
    "collapsed": false
   },
   "outputs": [],
   "source": [
    "setosa_sepal_length = sepal_length[y == 0]\n",
    "versicolor_sepal_length = sepal_length[y == 1]\n",
    "virginica_sepal_length = sepal_length[y == 2]"
   ]
  },
  {
   "cell_type": "code",
   "execution_count": 8,
   "metadata": {
    "ExecuteTime": {
     "end_time": "2023-10-03T22:39:56.235676Z",
     "start_time": "2023-10-03T22:39:56.100286Z"
    },
    "collapsed": false
   },
   "outputs": [
    {
     "data": {
      "image/png": "[encoded data removed]",
      "text/plain": [
       "<Figure size 640x480 with 1 Axes>"
      ]
     },
     "metadata": {},
     "output_type": "display_data"
    }
   ],
   "source": [
    "plt.hist(sepal_length, bins=10, color=\"orange\", label=\"All\")\n",
    "plt.hist(setosa_sepal_length, bins=10, color=\"blue\", label=\"Setosa\")\n",
    "plt.hist(virginica_sepal_length, bins=10, color=\"green\", label=\"Virginica\")\n",
    "plt.hist(versicolor_sepal_length, bins=10, color=\"red\", label=\"Versicolor\")\n",
    "plt.xlabel(\"Sepal length (cm)\")\n",
    "plt.ylabel(\"Frequency\")\n",
    "plt.title(\"Sepal length per class\")\n",
    "plt.legend()\n",
    "plt.grid(True)\n",
    "plt.show()"
   ]
  },
  {
   "cell_type": "markdown",
   "metadata": {
    "collapsed": false
   },
   "source": [
    "Definimos los bins y discretizamos sepal length:"
   ]
  },
  {
   "cell_type": "code",
   "execution_count": 9,
   "metadata": {
    "ExecuteTime": {
     "end_time": "2023-10-03T22:39:56.303601Z",
     "start_time": "2023-10-03T22:39:56.240371Z"
    }
   },
   "outputs": [
    {
     "name": "stdout",
     "output_type": "stream",
     "text": [
      "[ 3  2  2  1  2  3  1  2  1  2  3  2  2  1  4  4  3  3  4  3  3  3  1  3\n",
      "  2  2  2  3  3  2  2  3  3  4  2  2  4  2  1  3  2  1  1  2  3  2  3  1\n",
      "  3  2  7  6  7  4  6  4  5  2  6  3  2  5  5  5  4  7  4  4  5  4  5  5\n",
      "  5  5  6  6  7  7  5  4  4  4  4  5  3  5  7  5  4  4  4  5  4  2  4  4\n",
      "  4  5  3  4  5  4  7  5  6  9  2  8  7  8  6  6  7  4  4  6  6  9  9  5\n",
      "  7  4  9  5  7  8  5  5  6  8  8 10  6  5  5  9  5  6  5  7  7  7  4  7\n",
      "  7  7  5  6  5  5]\n"
     ]
    },
    {
     "data": {
      "image/png": "[encoded data removed]",
      "text/plain": [
       "<Figure size 640x480 with 1 Axes>"
      ]
     },
     "metadata": {},
     "output_type": "display_data"
    }
   ],
   "source": [
    "bins = np.linspace(sepal_length.min(), sepal_length.max(), 10)\n",
    "\n",
    "sepal_length = np.digitize(sepal_length, bins)\n",
    "\n",
    "print(sepal_length)\n",
    "\n",
    "plt.hist(sepal_length)\n",
    "plt.show()"
   ]
  },
  {
   "cell_type": "markdown",
   "metadata": {
    "collapsed": false
   },
   "source": [
    "Redefinimos los datos de $X$ divididos por clase con los nuevos datos discretizados, y obtenemos la frecuencia para los bins de cada clase"
   ]
  },
  {
   "cell_type": "code",
   "execution_count": 10,
   "metadata": {
    "ExecuteTime": {
     "end_time": "2023-10-03T22:39:56.310299Z",
     "start_time": "2023-10-03T22:39:56.303668Z"
    },
    "collapsed": false
   },
   "outputs": [],
   "source": [
    "setosa_sepal_length = sepal_length[y == 0]\n",
    "versicolor_sepal_length = sepal_length[y == 1]\n",
    "virginica_sepal_length = sepal_length[y == 2]"
   ]
  },
  {
   "cell_type": "code",
   "execution_count": 11,
   "metadata": {
    "ExecuteTime": {
     "end_time": "2023-10-03T22:39:56.312093Z",
     "start_time": "2023-10-03T22:39:56.308398Z"
    },
    "collapsed": false
   },
   "outputs": [
    {
     "name": "stdout",
     "output_type": "stream",
     "text": [
      "Setosa bins frequencies:  [9, 19, 17, 5, 0, 0, 0, 0, 0, 0]\n",
      "Versicolor bins frequencies:  [0, 3, 3, 18, 15, 5, 6, 0, 0, 0]\n",
      "Virginica bins frequencies:  [0, 1, 0, 5, 13, 9, 11, 5, 5, 1]\n"
     ]
    }
   ],
   "source": [
    "setosa_bin_frequencies, _ = np.histogram(setosa_sepal_length, bins=10, range=(1,10))\n",
    "print(\"Setosa bins frequencies: \", setosa_bin_frequencies.tolist())\n",
    "\n",
    "versicolor_bin_frequencies, _ = np.histogram(versicolor_sepal_length, bins=10, range=(1,10))\n",
    "print(\"Versicolor bins frequencies: \", versicolor_bin_frequencies.tolist())\n",
    "\n",
    "virginica_bin_frequencies, _ = np.histogram(virginica_sepal_length, bins=10, range=(1,10))\n",
    "print(\"Virginica bins frequencies: \", virginica_bin_frequencies.tolist())"
   ]
  },
  {
   "cell_type": "code",
   "execution_count": 12,
   "metadata": {
    "ExecuteTime": {
     "end_time": "2023-10-03T22:39:56.319409Z",
     "start_time": "2023-10-03T22:39:56.311964Z"
    },
    "collapsed": false
   },
   "outputs": [
    {
     "name": "stdout",
     "output_type": "stream",
     "text": [
      "[1, 2, 3, 4, 5, 6, 7, 8, 9, 10] [0, 1, 2]\n"
     ]
    }
   ],
   "source": [
    "xvalues = np.unique(sepal_length).tolist()\n",
    "yvalues = np.unique(y).tolist()\n",
    "\n",
    "print(xvalues, yvalues)"
   ]
  },
  {
   "cell_type": "code",
   "execution_count": 13,
   "metadata": {
    "ExecuteTime": {
     "end_time": "2023-10-03T22:39:56.319622Z",
     "start_time": "2023-10-03T22:39:56.317675Z"
    },
    "collapsed": false
   },
   "outputs": [
    {
     "data": {
      "text/plain": [
       "['setosa', 'versicolor', 'virginica']"
      ]
     },
     "execution_count": 13,
     "metadata": {},
     "output_type": "execute_result"
    }
   ],
   "source": [
    "categories = list(map(lambda x: iris.target_names[x], yvalues))\n",
    "categories"
   ]
  },
  {
   "cell_type": "markdown",
   "metadata": {
    "collapsed": false
   },
   "source": [
    "Vamos a calcular $p(y|x)$ dividiendo la frecuencia de la clase en un bin entre la frecuencia total de ese bin"
   ]
  },
  {
   "cell_type": "code",
   "execution_count": 14,
   "metadata": {
    "ExecuteTime": {
     "end_time": "2023-10-03T22:39:56.400127Z",
     "start_time": "2023-10-03T22:39:56.322728Z"
    },
    "collapsed": false
   },
   "outputs": [
    {
     "data": {
      "text/plain": [
       "array([ 9, 23, 20, 28, 28, 14, 17,  5,  5,  1])"
      ]
     },
     "execution_count": 14,
     "metadata": {},
     "output_type": "execute_result"
    }
   ],
   "source": [
    "bin_frequencies, _ = np.histogram(sepal_length, bins=10, range=(1,10))\n",
    "bin_frequencies"
   ]
  },
  {
   "cell_type": "code",
   "execution_count": 15,
   "metadata": {
    "ExecuteTime": {
     "end_time": "2023-10-03T22:39:56.400733Z",
     "start_time": "2023-10-03T22:39:56.330008Z"
    },
    "collapsed": false
   },
   "outputs": [
    {
     "data": {
      "text/html": [
       "<div>\n",
       "<style scoped>\n",
       "    .dataframe tbody tr th:only-of-type {\n",
       "        vertical-align: middle;\n",
       "    }\n",
       "\n",
       "    .dataframe tbody tr th {\n",
       "        vertical-align: top;\n",
       "    }\n",
       "\n",
       "    .dataframe thead th {\n",
       "        text-align: right;\n",
       "    }\n",
       "</style>\n",
       "<table border=\"1\" class=\"dataframe\">\n",
       "  <thead>\n",
       "    <tr style=\"text-align: right;\">\n",
       "      <th></th>\n",
       "      <th>setosa</th>\n",
       "      <th>versicolor</th>\n",
       "      <th>virginica</th>\n",
       "    </tr>\n",
       "  </thead>\n",
       "  <tbody>\n",
       "    <tr>\n",
       "      <th>0</th>\n",
       "      <td>1.000000</td>\n",
       "      <td>0.000000</td>\n",
       "      <td>0.000000</td>\n",
       "    </tr>\n",
       "    <tr>\n",
       "      <th>1</th>\n",
       "      <td>0.826087</td>\n",
       "      <td>0.130435</td>\n",
       "      <td>0.043478</td>\n",
       "    </tr>\n",
       "    <tr>\n",
       "      <th>2</th>\n",
       "      <td>0.850000</td>\n",
       "      <td>0.150000</td>\n",
       "      <td>0.000000</td>\n",
       "    </tr>\n",
       "    <tr>\n",
       "      <th>3</th>\n",
       "      <td>0.178571</td>\n",
       "      <td>0.642857</td>\n",
       "      <td>0.178571</td>\n",
       "    </tr>\n",
       "    <tr>\n",
       "      <th>4</th>\n",
       "      <td>0.000000</td>\n",
       "      <td>0.535714</td>\n",
       "      <td>0.464286</td>\n",
       "    </tr>\n",
       "    <tr>\n",
       "      <th>5</th>\n",
       "      <td>0.000000</td>\n",
       "      <td>0.357143</td>\n",
       "      <td>0.642857</td>\n",
       "    </tr>\n",
       "    <tr>\n",
       "      <th>6</th>\n",
       "      <td>0.000000</td>\n",
       "      <td>0.352941</td>\n",
       "      <td>0.647059</td>\n",
       "    </tr>\n",
       "    <tr>\n",
       "      <th>7</th>\n",
       "      <td>0.000000</td>\n",
       "      <td>0.000000</td>\n",
       "      <td>1.000000</td>\n",
       "    </tr>\n",
       "    <tr>\n",
       "      <th>8</th>\n",
       "      <td>0.000000</td>\n",
       "      <td>0.000000</td>\n",
       "      <td>1.000000</td>\n",
       "    </tr>\n",
       "    <tr>\n",
       "      <th>9</th>\n",
       "      <td>0.000000</td>\n",
       "      <td>0.000000</td>\n",
       "      <td>1.000000</td>\n",
       "    </tr>\n",
       "  </tbody>\n",
       "</table>\n",
       "</div>"
      ],
      "text/plain": [
       "     setosa  versicolor  virginica\n",
       "0  1.000000    0.000000   0.000000\n",
       "1  0.826087    0.130435   0.043478\n",
       "2  0.850000    0.150000   0.000000\n",
       "3  0.178571    0.642857   0.178571\n",
       "4  0.000000    0.535714   0.464286\n",
       "5  0.000000    0.357143   0.642857\n",
       "6  0.000000    0.352941   0.647059\n",
       "7  0.000000    0.000000   1.000000\n",
       "8  0.000000    0.000000   1.000000\n",
       "9  0.000000    0.000000   1.000000"
      ]
     },
     "execution_count": 15,
     "metadata": {},
     "output_type": "execute_result"
    }
   ],
   "source": [
    "p_y_x = pd.DataFrame(0, columns=categories, index=[])\n",
    "p_y_x[\"setosa\"] = setosa_bin_frequencies / bin_frequencies\n",
    "p_y_x[\"versicolor\"] = versicolor_bin_frequencies / bin_frequencies\n",
    "p_y_x[\"virginica\"] = virginica_bin_frequencies / bin_frequencies\n",
    "p_y_x"
   ]
  },
  {
   "cell_type": "code",
   "execution_count": 16,
   "metadata": {
    "ExecuteTime": {
     "end_time": "2023-10-03T22:39:56.400825Z",
     "start_time": "2023-10-03T22:39:56.338187Z"
    },
    "collapsed": false
   },
   "outputs": [
    {
     "data": {
      "text/plain": [
       "2"
      ]
     },
     "execution_count": 16,
     "metadata": {},
     "output_type": "execute_result"
    }
   ],
   "source": [
    "pred_bin = np.digitize(4.75, bins)\n",
    "pred_bin"
   ]
  },
  {
   "cell_type": "code",
   "execution_count": 17,
   "metadata": {
    "ExecuteTime": {
     "end_time": "2023-10-03T22:39:56.400898Z",
     "start_time": "2023-10-03T22:39:56.342958Z"
    },
    "collapsed": false
   },
   "outputs": [
    {
     "data": {
      "text/plain": [
       "['setosa',\n",
       " 'virginica',\n",
       " 'setosa',\n",
       " 'setosa',\n",
       " 'setosa',\n",
       " 'setosa',\n",
       " 'versicolor',\n",
       " 'setosa',\n",
       " 'versicolor',\n",
       " 'setosa']"
      ]
     },
     "execution_count": 17,
     "metadata": {},
     "output_type": "execute_result"
    }
   ],
   "source": [
    "predictions = np.random.choice(categories, size=10, p=p_y_x.loc[pred_bin - 1]).tolist()\n",
    "predictions"
   ]
  },
  {
   "cell_type": "markdown",
   "metadata": {
    "collapsed": false
   },
   "source": [
    "## Otra forma utilizando un modelo de tipo mezcla de gaussianas\n",
    "$p(x) = ∑_y p(y) * N(μ_y,σ_y)$ manteniendo $X =$ sepal length"
   ]
  },
  {
   "cell_type": "markdown",
   "metadata": {
    "collapsed": false
   },
   "source": [
    "Obtenemos la media y la desviación estándar del sepal length de cada clase utilizando numpy"
   ]
  },
  {
   "cell_type": "code",
   "execution_count": 18,
   "metadata": {
    "ExecuteTime": {
     "end_time": "2023-10-03T22:39:56.400936Z",
     "start_time": "2023-10-03T22:39:56.348663Z"
    },
    "collapsed": false
   },
   "outputs": [],
   "source": [
    "setosa_mean = np.mean(setosa_sepal_length)\n",
    "versicolor_mean = np.mean(versicolor_sepal_length)\n",
    "virginica_mean = np.mean(virginica_sepal_length)\n",
    "\n",
    "setosa_std_dev = np.std(setosa_sepal_length)\n",
    "versicolor_std_dev = np.std(versicolor_sepal_length)\n",
    "virginica_std_dev = np.std(virginica_sepal_length)\n",
    "\n",
    "means = np.array([setosa_mean, versicolor_mean, virginica_mean])\n",
    "stds = np.array([setosa_std_dev, versicolor_std_dev, virginica_std_dev])\n",
    "p_y = np.ones(3) / 3\n",
    "classes = np.unique(y)"
   ]
  },
  {
   "cell_type": "markdown",
   "metadata": {
    "collapsed": false
   },
   "source": [
    "Sampleo una clase $y$ y, a partir de la media y la desviación estándar, genero una muestra con distribución normal para la $X$ de esa clase "
   ]
  },
  {
   "cell_type": "code",
   "execution_count": 19,
   "metadata": {
    "ExecuteTime": {
     "end_time": "2023-10-03T22:39:56.400999Z",
     "start_time": "2023-10-03T22:39:56.352354Z"
    },
    "collapsed": false
   },
   "outputs": [
    {
     "data": {
      "text/plain": [
       "0"
      ]
     },
     "execution_count": 19,
     "metadata": {},
     "output_type": "execute_result"
    }
   ],
   "source": [
    "c = np.random.choice(classes, p=p_y)\n",
    "c"
   ]
  },
  {
   "cell_type": "code",
   "execution_count": 20,
   "metadata": {
    "ExecuteTime": {
     "end_time": "2023-10-03T22:41:34.221122Z",
     "start_time": "2023-10-03T22:41:34.217887Z"
    },
    "collapsed": false
   },
   "outputs": [
    {
     "data": {
      "text/plain": [
       "array([2.30853636, 0.55110854, 1.93032447, 2.25529138, 0.65730467,\n",
       "       3.15233652, 1.91569011, 1.75114666, 3.50626918, 2.16317894,\n",
       "       3.25755197, 1.61905481, 2.00838179, 3.78538077, 2.75683438,\n",
       "       1.88871466, 2.38752378, 2.40775219, 1.68648966, 3.94293421,\n",
       "       2.05104314, 1.87142278, 3.81636138, 3.95796118, 1.94068742,\n",
       "       2.08783834, 2.57026975, 2.88931063, 1.26622536, 3.7173417 ,\n",
       "       2.91422167, 2.1613533 , 2.63874015, 2.55011072, 1.83850566,\n",
       "       3.28177891, 2.90979465, 2.74232808, 2.70449372, 1.37302204,\n",
       "       2.39899973, 1.16669996, 2.90031616, 1.52079546, 3.51078571,\n",
       "       1.35346551, 2.79717437, 1.71094619, 4.09308857, 4.30405601,\n",
       "       2.26127072, 2.45059731, 3.00013645, 2.44748287, 1.93671664,\n",
       "       2.0467603 , 2.56138247, 2.95686955, 2.31877432, 3.24184995,\n",
       "       2.54759422, 4.0664683 , 1.04486292, 2.64666113, 1.80017002,\n",
       "       2.23556402, 3.65948652, 2.74812623, 2.22039175, 0.82488773,\n",
       "       3.79259679, 1.39682553, 1.56835755, 2.21548031, 2.52205712,\n",
       "       3.95067199, 1.47282888, 3.37440946, 2.10928567, 1.62261625,\n",
       "       2.68468485, 2.80492388, 2.84698036, 0.63750205, 3.37658374,\n",
       "       1.73516211, 2.1571566 , 1.60264594, 2.38444544, 1.49487132,\n",
       "       1.69117415, 1.68619941, 3.25177359, 3.70655065, 2.28182445,\n",
       "       0.98263144, 2.3295374 , 1.70065954, 3.50278613, 2.14287943])"
      ]
     },
     "execution_count": 20,
     "metadata": {},
     "output_type": "execute_result"
    }
   ],
   "source": [
    "sampled_x = np.random.normal(means[c], stds[c], 100)\n",
    "sampled_x"
   ]
  },
  {
   "cell_type": "code",
   "execution_count": 21,
   "metadata": {
    "ExecuteTime": {
     "end_time": "2023-10-03T22:41:34.771567Z",
     "start_time": "2023-10-03T22:41:34.698470Z"
    },
    "collapsed": false
   },
   "outputs": [
    {
     "data": {
      "text/plain": [
       "(array([ 4.,  4., 10., 18., 19., 15.,  9.,  9.,  6.,  6.]),\n",
       " array([0.55110854, 0.92640328, 1.30169803, 1.67699278, 2.05228752,\n",
       "        2.42758227, 2.80287702, 3.17817177, 3.55346651, 3.92876126,\n",
       "        4.30405601]),\n",
       " <BarContainer object of 10 artists>)"
      ]
     },
     "execution_count": 21,
     "metadata": {},
     "output_type": "execute_result"
    },
    {
     "data": {
      "image/png": "[encoded data removed]",
      "text/plain": [
       "<Figure size 640x480 with 1 Axes>"
      ]
     },
     "metadata": {},
     "output_type": "display_data"
    }
   ],
   "source": [
    "plt.hist(sampled_x)"
   ]
  },
  {
   "cell_type": "code",
   "execution_count": 22,
   "metadata": {
    "ExecuteTime": {
     "end_time": "2023-10-03T22:39:56.588710Z",
     "start_time": "2023-10-03T22:39:56.439222Z"
    },
    "collapsed": false
   },
   "outputs": [
    {
     "name": "stdout",
     "output_type": "stream",
     "text": [
      "Media de los datos sampleados:  2.4101309874370234\n",
      "Media original:  2.36\n",
      "Desviación estándar de los datos sampleados:  0.8527246394767622\n",
      "Desviación estándar original:  0.8890444308357147\n"
     ]
    }
   ],
   "source": [
    "print(\"Media de los datos sampleados: \", np.mean(sampled_x))\n",
    "print(\"Media original: \", means[c])\n",
    "\n",
    "print(\"Desviación estándar de los datos sampleados: \", np.std(sampled_x))\n",
    "print(\"Desviación estándar original: \", stds[c])"
   ]
  },
  {
   "cell_type": "markdown",
   "metadata": {
    "collapsed": false
   },
   "source": [
    "Se puede observar que los datos sampleados tienen distribución normal y la misma es similar a la original."
   ]
  },
  {
   "cell_type": "markdown",
   "metadata": {
    "id": "SA-qw4kN5IE9"
   },
   "source": [
    "## Approximate $p(x|y)$\n",
    "Take $y$ to be setosa and estimate the probability of sepal length given setosa (or, equivalently, the *likelihood* of setosa given sepal length). Then, generate 10 samples of sepal length and label them appropriately."
   ]
  },
  {
   "cell_type": "markdown",
   "metadata": {
    "collapsed": false
   },
   "source": [
    "### Histogramas\n",
    "Realizamos histogramas separando por $y$ para observar la distribución de cada clase."
   ]
  },
  {
   "cell_type": "markdown",
   "metadata": {
    "collapsed": false
   },
   "source": [
    "#### Setosa"
   ]
  },
  {
   "cell_type": "code",
   "execution_count": 23,
   "metadata": {
    "ExecuteTime": {
     "end_time": "2023-10-03T22:39:56.813822Z",
     "start_time": "2023-10-03T22:39:56.448696Z"
    },
    "collapsed": false
   },
   "outputs": [
    {
     "data": {
      "text/plain": [
       "(array([ 9.,  0.,  0., 19.,  0.,  0., 17.,  0.,  0.,  5.]),\n",
       " array([1. , 1.3, 1.6, 1.9, 2.2, 2.5, 2.8, 3.1, 3.4, 3.7, 4. ]),\n",
       " <BarContainer object of 10 artists>)"
      ]
     },
     "execution_count": 23,
     "metadata": {},
     "output_type": "execute_result"
    },
    {
     "data": {
      "image/png": "[encoded data removed]",
      "text/plain": [
       "<Figure size 640x480 with 1 Axes>"
      ]
     },
     "metadata": {},
     "output_type": "display_data"
    }
   ],
   "source": [
    "plt.hist(setosa_sepal_length, bins=10)"
   ]
  },
  {
   "cell_type": "code",
   "execution_count": 24,
   "metadata": {
    "ExecuteTime": {
     "end_time": "2023-10-03T22:39:56.813947Z",
     "start_time": "2023-10-03T22:39:56.521117Z"
    },
    "collapsed": false
   },
   "outputs": [
    {
     "data": {
      "text/plain": [
       "array([3, 2, 2, 1, 2, 3, 1, 2, 1, 2, 3, 2, 2, 1, 4, 4, 3, 3, 4, 3, 3, 3,\n",
       "       1, 3, 2, 2, 2, 3, 3, 2, 2, 3, 3, 4, 2, 2, 4, 2, 1, 3, 2, 1, 1, 2,\n",
       "       3, 2, 3, 1, 3, 2])"
      ]
     },
     "execution_count": 24,
     "metadata": {},
     "output_type": "execute_result"
    }
   ],
   "source": [
    "setosa_sepal_length"
   ]
  },
  {
   "cell_type": "code",
   "execution_count": 25,
   "metadata": {
    "ExecuteTime": {
     "end_time": "2023-10-03T22:39:56.814013Z",
     "start_time": "2023-10-03T22:39:56.525150Z"
    },
    "collapsed": false
   },
   "outputs": [
    {
     "name": "stdout",
     "output_type": "stream",
     "text": [
      "Bins frequencies:  [9, 19, 17, 5, 0, 0, 0, 0, 0, 0]\n",
      "Mean:  2.36\n",
      "Standard deviation:  0.8890444308357147\n"
     ]
    }
   ],
   "source": [
    "print(\"Bins frequencies: \", setosa_bin_frequencies.tolist())\n",
    "\n",
    "print(\"Mean: \", setosa_mean)\n",
    "\n",
    "print(\"Standard deviation: \", setosa_std_dev)\n",
    "\n",
    "setosa_sample = np.random.normal(setosa_mean, setosa_std_dev, 1000)"
   ]
  },
  {
   "cell_type": "code",
   "execution_count": 26,
   "metadata": {
    "ExecuteTime": {
     "end_time": "2023-10-03T22:39:56.817649Z",
     "start_time": "2023-10-03T22:39:56.530684Z"
    },
    "collapsed": false
   },
   "outputs": [
    {
     "data": {
      "text/plain": [
       "(array([ 1.,  3.,  1.,  0.,  1.,  1.,  5.,  8.,  8.,  9., 12., 16., 19.,\n",
       "        16., 28., 26., 26., 35., 38., 34., 66., 54., 48., 62., 43., 50.,\n",
       "        49., 44., 48., 39., 33., 32., 26., 27., 20., 18.,  8., 10., 14.,\n",
       "         4.,  6.,  3.,  3.,  2.,  1.,  1.,  1.,  0.,  0.,  1.]),\n",
       " array([-0.45800208, -0.34168761, -0.22537313, -0.10905865,  0.00725583,\n",
       "         0.1235703 ,  0.23988478,  0.35619926,  0.47251373,  0.58882821,\n",
       "         0.70514269,  0.82145717,  0.93777164,  1.05408612,  1.1704006 ,\n",
       "         1.28671508,  1.40302955,  1.51934403,  1.63565851,  1.75197298,\n",
       "         1.86828746,  1.98460194,  2.10091642,  2.21723089,  2.33354537,\n",
       "         2.44985985,  2.56617433,  2.6824888 ,  2.79880328,  2.91511776,\n",
       "         3.03143223,  3.14774671,  3.26406119,  3.38037567,  3.49669014,\n",
       "         3.61300462,  3.7293191 ,  3.84563357,  3.96194805,  4.07826253,\n",
       "         4.19457701,  4.31089148,  4.42720596,  4.54352044,  4.65983492,\n",
       "         4.77614939,  4.89246387,  5.00877835,  5.12509282,  5.2414073 ,\n",
       "         5.35772178]),\n",
       " <BarContainer object of 50 artists>)"
      ]
     },
     "execution_count": 26,
     "metadata": {},
     "output_type": "execute_result"
    },
    {
     "data": {
      "image/png": "[encoded data removed]",
      "text/plain": [
       "<Figure size 640x480 with 1 Axes>"
      ]
     },
     "metadata": {},
     "output_type": "display_data"
    }
   ],
   "source": [
    "plt.hist(setosa_sample, bins=50)"
   ]
  },
  {
   "cell_type": "markdown",
   "metadata": {
    "collapsed": false
   },
   "source": [
    "#### Versicolor"
   ]
  },
  {
   "cell_type": "code",
   "execution_count": 27,
   "metadata": {
    "ExecuteTime": {
     "end_time": "2023-10-03T22:39:56.817783Z",
     "start_time": "2023-10-03T22:39:56.785658Z"
    },
    "collapsed": false
   },
   "outputs": [
    {
     "data": {
      "text/plain": [
       "(array([ 3.,  0.,  3.,  0., 18.,  0., 15.,  0.,  5.,  6.]),\n",
       " array([2. , 2.5, 3. , 3.5, 4. , 4.5, 5. , 5.5, 6. , 6.5, 7. ]),\n",
       " <BarContainer object of 10 artists>)"
      ]
     },
     "execution_count": 27,
     "metadata": {},
     "output_type": "execute_result"
    },
    {
     "data": {
      "image/png": "[encoded data removed]",
      "text/plain": [
       "<Figure size 640x480 with 1 Axes>"
      ]
     },
     "metadata": {},
     "output_type": "display_data"
    }
   ],
   "source": [
    "plt.hist(versicolor_sepal_length)"
   ]
  },
  {
   "cell_type": "code",
   "execution_count": 28,
   "metadata": {
    "ExecuteTime": {
     "end_time": "2023-10-03T22:39:56.817851Z",
     "start_time": "2023-10-03T22:39:56.785836Z"
    },
    "collapsed": false
   },
   "outputs": [
    {
     "name": "stdout",
     "output_type": "stream",
     "text": [
      "Bins frequencies:  [0, 3, 3, 18, 15, 5, 6, 0, 0, 0]\n",
      "Mean:  4.68\n",
      "Standard deviation:  1.2718490476467716\n"
     ]
    }
   ],
   "source": [
    "print(\"Bins frequencies: \", versicolor_bin_frequencies.tolist())\n",
    "\n",
    "print(\"Mean: \", versicolor_mean)\n",
    "\n",
    "print(\"Standard deviation: \", versicolor_std_dev)\n",
    "\n",
    "versicolor_sample = np.random.normal(versicolor_mean, versicolor_std_dev, 1000)"
   ]
  },
  {
   "cell_type": "code",
   "execution_count": 29,
   "metadata": {
    "ExecuteTime": {
     "end_time": "2023-10-03T22:39:56.967241Z",
     "start_time": "2023-10-03T22:39:56.785871Z"
    },
    "collapsed": false
   },
   "outputs": [
    {
     "data": {
      "text/plain": [
       "(array([ 1.,  1.,  1.,  2.,  0.,  0.,  0.,  2.,  4.,  4.,  5., 12.,  8.,\n",
       "        12., 11., 24., 22., 21., 31., 38., 30., 45., 45., 43., 39., 45.,\n",
       "        57., 66., 49., 40., 45., 27., 33., 38., 33., 23., 24., 27., 23.,\n",
       "        13.,  6., 13.,  6.,  7.,  9.,  9.,  3.,  2.,  0.,  1.]),\n",
       " array([0.3830315 , 0.54196832, 0.70090514, 0.85984197, 1.01877879,\n",
       "        1.17771561, 1.33665243, 1.49558926, 1.65452608, 1.8134629 ,\n",
       "        1.97239972, 2.13133655, 2.29027337, 2.44921019, 2.60814701,\n",
       "        2.76708384, 2.92602066, 3.08495748, 3.2438943 , 3.40283113,\n",
       "        3.56176795, 3.72070477, 3.87964159, 4.03857842, 4.19751524,\n",
       "        4.35645206, 4.51538888, 4.67432571, 4.83326253, 4.99219935,\n",
       "        5.15113617, 5.310073  , 5.46900982, 5.62794664, 5.78688346,\n",
       "        5.94582029, 6.10475711, 6.26369393, 6.42263075, 6.58156758,\n",
       "        6.7405044 , 6.89944122, 7.05837804, 7.21731487, 7.37625169,\n",
       "        7.53518851, 7.69412533, 7.85306216, 8.01199898, 8.1709358 ,\n",
       "        8.32987262]),\n",
       " <BarContainer object of 50 artists>)"
      ]
     },
     "execution_count": 29,
     "metadata": {},
     "output_type": "execute_result"
    },
    {
     "data": {
      "image/png": "[encoded data removed]",
      "text/plain": [
       "<Figure size 640x480 with 1 Axes>"
      ]
     },
     "metadata": {},
     "output_type": "display_data"
    }
   ],
   "source": [
    "plt.hist(versicolor_sample, bins=50)"
   ]
  },
  {
   "cell_type": "markdown",
   "metadata": {
    "collapsed": false
   },
   "source": [
    "#### Virginica"
   ]
  },
  {
   "cell_type": "code",
   "execution_count": 30,
   "metadata": {
    "ExecuteTime": {
     "end_time": "2023-10-03T22:39:56.970200Z",
     "start_time": "2023-10-03T22:39:56.847721Z"
    },
    "collapsed": false
   },
   "outputs": [
    {
     "data": {
      "text/plain": [
       "(array([ 1.,  0.,  5., 13.,  0.,  9., 11.,  5.,  5.,  1.]),\n",
       " array([ 2. ,  2.8,  3.6,  4.4,  5.2,  6. ,  6.8,  7.6,  8.4,  9.2, 10. ]),\n",
       " <BarContainer object of 10 artists>)"
      ]
     },
     "execution_count": 30,
     "metadata": {},
     "output_type": "execute_result"
    },
    {
     "data": {
      "image/png": "[encoded data removed]",
      "text/plain": [
       "<Figure size 640x480 with 1 Axes>"
      ]
     },
     "metadata": {},
     "output_type": "display_data"
    }
   ],
   "source": [
    "plt.hist(virginica_sepal_length)"
   ]
  },
  {
   "cell_type": "code",
   "execution_count": 31,
   "metadata": {
    "ExecuteTime": {
     "end_time": "2023-10-03T22:39:56.970310Z",
     "start_time": "2023-10-03T22:39:56.915218Z"
    },
    "collapsed": false
   },
   "outputs": [
    {
     "name": "stdout",
     "output_type": "stream",
     "text": [
      "Bins frequencies:  [0, 1, 0, 5, 13, 9, 11, 5, 5, 1]\n",
      "Mean:  6.26\n",
      "Standard deviation:  1.659035864591239\n"
     ]
    }
   ],
   "source": [
    "print(\"Bins frequencies: \", virginica_bin_frequencies.tolist())\n",
    "\n",
    "print(\"Mean: \", virginica_mean)\n",
    "\n",
    "print(\"Standard deviation: \", virginica_std_dev)\n",
    "\n",
    "virginica_sample = np.random.normal(virginica_mean, virginica_std_dev, 1000)"
   ]
  },
  {
   "cell_type": "code",
   "execution_count": 32,
   "metadata": {
    "ExecuteTime": {
     "end_time": "2023-10-03T22:39:57.055427Z",
     "start_time": "2023-10-03T22:39:56.922845Z"
    },
    "collapsed": false
   },
   "outputs": [
    {
     "data": {
      "text/plain": [
       "(array([ 1.,  0.,  0.,  2.,  0.,  0.,  0.,  1.,  3.,  4.,  9.,  6.,  9.,\n",
       "         5., 16., 18., 25., 32., 29., 30., 37., 34., 39., 46., 51., 55.,\n",
       "        64., 52., 49., 49., 48., 43., 33., 42., 32., 21., 21., 20., 25.,\n",
       "        17.,  7.,  4.,  8.,  5.,  5.,  1.,  0.,  0.,  1.,  1.]),\n",
       " array([ 0.17054947,  0.39560202,  0.62065456,  0.8457071 ,  1.07075965,\n",
       "         1.29581219,  1.52086473,  1.74591727,  1.97096982,  2.19602236,\n",
       "         2.4210749 ,  2.64612745,  2.87117999,  3.09623253,  3.32128507,\n",
       "         3.54633762,  3.77139016,  3.9964427 ,  4.22149525,  4.44654779,\n",
       "         4.67160033,  4.89665287,  5.12170542,  5.34675796,  5.5718105 ,\n",
       "         5.79686305,  6.02191559,  6.24696813,  6.47202067,  6.69707322,\n",
       "         6.92212576,  7.1471783 ,  7.37223085,  7.59728339,  7.82233593,\n",
       "         8.04738848,  8.27244102,  8.49749356,  8.7225461 ,  8.94759865,\n",
       "         9.17265119,  9.39770373,  9.62275628,  9.84780882, 10.07286136,\n",
       "        10.2979139 , 10.52296645, 10.74801899, 10.97307153, 11.19812408,\n",
       "        11.42317662]),\n",
       " <BarContainer object of 50 artists>)"
      ]
     },
     "execution_count": 32,
     "metadata": {},
     "output_type": "execute_result"
    },
    {
     "data": {
      "image/png": "[encoded data removed]",
      "text/plain": [
       "<Figure size 640x480 with 1 Axes>"
      ]
     },
     "metadata": {},
     "output_type": "display_data"
    }
   ],
   "source": [
    "plt.hist(virginica_sample, bins=50)"
   ]
  },
  {
   "cell_type": "markdown",
   "metadata": {
    "collapsed": false
   },
   "source": [
    "Comprobamos que en los datos originales hay 3 distribuciones normales pero distintas, ya que cada una tiene una media y desviación estándar distinta: "
   ]
  },
  {
   "cell_type": "code",
   "execution_count": 33,
   "metadata": {
    "ExecuteTime": {
     "end_time": "2023-10-03T22:39:57.138203Z",
     "start_time": "2023-10-03T22:39:57.027373Z"
    },
    "collapsed": false
   },
   "outputs": [
    {
     "data": {
      "image/png": "[encoded data removed]",
      "text/plain": [
       "<Figure size 640x480 with 1 Axes>"
      ]
     },
     "metadata": {},
     "output_type": "display_data"
    }
   ],
   "source": [
    "plt.hist(setosa_sepal_length, bins=10, color=\"blue\", label=\"Setosa\")\n",
    "plt.hist(versicolor_sepal_length, bins=10, color=\"red\", label=\"Versicolor\")\n",
    "plt.hist(virginica_sepal_length, bins=10, color=\"green\", label=\"Virginica\")\n",
    "plt.xlabel(\"Sepal length\")\n",
    "plt.ylabel(\"Frequency\")\n",
    "plt.title(\"Discretized data\")\n",
    "plt.legend()\n",
    "plt.grid(True)\n",
    "plt.show()"
   ]
  },
  {
   "cell_type": "code",
   "execution_count": 34,
   "metadata": {
    "ExecuteTime": {
     "end_time": "2023-10-03T22:39:57.407279Z",
     "start_time": "2023-10-03T22:39:57.186428Z"
    },
    "collapsed": false
   },
   "outputs": [
    {
     "data": {
      "image/png": "[encoded data removed]",
      "text/plain": [
       "<Figure size 640x480 with 1 Axes>"
      ]
     },
     "metadata": {},
     "output_type": "display_data"
    }
   ],
   "source": [
    "plt.hist(setosa_sample, bins=50, color=\"blue\", label=\"Setosa\")\n",
    "plt.hist(versicolor_sample, bins=50, color=\"red\", label=\"Versicolor\")\n",
    "plt.hist(virginica_sample, bins=50, color=\"green\", label=\"Virginica\")\n",
    "plt.xlabel(\"Sepal length\")\n",
    "plt.ylabel(\"Frequency\")\n",
    "plt.title(\"Sampled data\")\n",
    "plt.legend()\n",
    "plt.grid(True)\n",
    "plt.show()"
   ]
  },
  {
   "cell_type": "markdown",
   "metadata": {
    "collapsed": false
   },
   "source": [
    "Definimos p(x|y) a partir de los histogramas"
   ]
  },
  {
   "cell_type": "code",
   "execution_count": 35,
   "metadata": {
    "ExecuteTime": {
     "end_time": "2023-10-03T22:39:57.416082Z",
     "start_time": "2023-10-03T22:39:57.413195Z"
    },
    "collapsed": false
   },
   "outputs": [
    {
     "data": {
      "text/html": [
       "<div>\n",
       "<style scoped>\n",
       "    .dataframe tbody tr th:only-of-type {\n",
       "        vertical-align: middle;\n",
       "    }\n",
       "\n",
       "    .dataframe tbody tr th {\n",
       "        vertical-align: top;\n",
       "    }\n",
       "\n",
       "    .dataframe thead th {\n",
       "        text-align: right;\n",
       "    }\n",
       "</style>\n",
       "<table border=\"1\" class=\"dataframe\">\n",
       "  <thead>\n",
       "    <tr style=\"text-align: right;\">\n",
       "      <th></th>\n",
       "      <th>setosa</th>\n",
       "      <th>versicolor</th>\n",
       "      <th>virginica</th>\n",
       "    </tr>\n",
       "  </thead>\n",
       "  <tbody>\n",
       "    <tr>\n",
       "      <th>0</th>\n",
       "      <td>0.18</td>\n",
       "      <td>0.00</td>\n",
       "      <td>0.00</td>\n",
       "    </tr>\n",
       "    <tr>\n",
       "      <th>1</th>\n",
       "      <td>0.38</td>\n",
       "      <td>0.06</td>\n",
       "      <td>0.02</td>\n",
       "    </tr>\n",
       "    <tr>\n",
       "      <th>2</th>\n",
       "      <td>0.34</td>\n",
       "      <td>0.06</td>\n",
       "      <td>0.00</td>\n",
       "    </tr>\n",
       "    <tr>\n",
       "      <th>3</th>\n",
       "      <td>0.10</td>\n",
       "      <td>0.36</td>\n",
       "      <td>0.10</td>\n",
       "    </tr>\n",
       "    <tr>\n",
       "      <th>4</th>\n",
       "      <td>0.00</td>\n",
       "      <td>0.30</td>\n",
       "      <td>0.26</td>\n",
       "    </tr>\n",
       "    <tr>\n",
       "      <th>5</th>\n",
       "      <td>0.00</td>\n",
       "      <td>0.10</td>\n",
       "      <td>0.18</td>\n",
       "    </tr>\n",
       "    <tr>\n",
       "      <th>6</th>\n",
       "      <td>0.00</td>\n",
       "      <td>0.12</td>\n",
       "      <td>0.22</td>\n",
       "    </tr>\n",
       "    <tr>\n",
       "      <th>7</th>\n",
       "      <td>0.00</td>\n",
       "      <td>0.00</td>\n",
       "      <td>0.10</td>\n",
       "    </tr>\n",
       "    <tr>\n",
       "      <th>8</th>\n",
       "      <td>0.00</td>\n",
       "      <td>0.00</td>\n",
       "      <td>0.10</td>\n",
       "    </tr>\n",
       "    <tr>\n",
       "      <th>9</th>\n",
       "      <td>0.00</td>\n",
       "      <td>0.00</td>\n",
       "      <td>0.02</td>\n",
       "    </tr>\n",
       "  </tbody>\n",
       "</table>\n",
       "</div>"
      ],
      "text/plain": [
       "   setosa  versicolor  virginica\n",
       "0    0.18        0.00       0.00\n",
       "1    0.38        0.06       0.02\n",
       "2    0.34        0.06       0.00\n",
       "3    0.10        0.36       0.10\n",
       "4    0.00        0.30       0.26\n",
       "5    0.00        0.10       0.18\n",
       "6    0.00        0.12       0.22\n",
       "7    0.00        0.00       0.10\n",
       "8    0.00        0.00       0.10\n",
       "9    0.00        0.00       0.02"
      ]
     },
     "execution_count": 35,
     "metadata": {},
     "output_type": "execute_result"
    }
   ],
   "source": [
    "p_x_y = pd.DataFrame(0, columns=categories, index=[])\n",
    "p_x_y[\"setosa\"] = setosa_bin_frequencies / np.sum(setosa_bin_frequencies)\n",
    "p_x_y[\"versicolor\"] = versicolor_bin_frequencies / np.sum(versicolor_bin_frequencies)\n",
    "p_x_y[\"virginica\"] = virginica_bin_frequencies / np.sum(virginica_bin_frequencies)\n",
    "p_x_y"
   ]
  },
  {
   "cell_type": "markdown",
   "metadata": {
    "collapsed": false
   },
   "source": [
    "Se samplea un bin de acuerdo a p(x|y) y dentro del bin obtenido se samplea un x con distribución uniforme"
   ]
  },
  {
   "cell_type": "code",
   "execution_count": 36,
   "metadata": {
    "ExecuteTime": {
     "end_time": "2023-10-03T22:39:57.426630Z",
     "start_time": "2023-10-03T22:39:57.418395Z"
    },
    "collapsed": false
   },
   "outputs": [
    {
     "data": {
      "text/plain": [
       "array([4.52934496, 4.36279352, 5.25085972, 4.87018935, 4.35875775,\n",
       "       4.87060544, 4.8661165 , 4.35366507, 4.42744661, 4.92807343])"
      ]
     },
     "execution_count": 36,
     "metadata": {},
     "output_type": "execute_result"
    }
   ],
   "source": [
    "sampled_bins = np.random.choice(xvalues, size=10, p=p_x_y[\"setosa\"])\n",
    "sampled_values = np.random.uniform(low=np.where(sampled_bins - 2 == -1, bins[0], bins[sampled_bins - 2]), high=np.where(sampled_bins - 2 == -1, bins[1], bins[sampled_bins - 1]))\n",
    "sampled_values"
   ]
  },
  {
   "cell_type": "code",
   "execution_count": null,
   "metadata": {},
   "outputs": [],
   "source": []
  }
 ],
 "metadata": {
  "colab": {
   "provenance": [],
   "toc_visible": true
  },
  "kernelspec": {
   "display_name": "Python 3 (ipykernel)",
   "language": "python",
   "name": "python3"
  },
  "language_info": {
   "codemirror_mode": {
    "name": "ipython",
    "version": 3
   },
   "file_extension": ".py",
   "mimetype": "text/x-python",
   "name": "python",
   "nbconvert_exporter": "python",
   "pygments_lexer": "ipython3",
   "version": "3.10.4"
  }
 },
 "nbformat": 4,
 "nbformat_minor": 0
}
