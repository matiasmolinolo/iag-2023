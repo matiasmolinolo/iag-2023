{
 "cells": [
  {
   "cell_type": "markdown",
   "metadata": {
    "id": "JgTH-vb24nd5"
   },
   "source": [
    "# Estimating distributions (part 2)\n",
    "The goal of this notebook is to explore a first approach to approximate $p(y|x)$ and $p(x|y)$ on a tabular dataset where $x$ is real-valued, $x\\in\\mathbb{R}^k$, and the target $y$ is discrete and finite, $y\\in\\{0,\\ldots,d\\}⊆\\mathbb{N}, d\\geq 1$."
   ]
  },
  {
   "cell_type": "markdown",
   "metadata": {
    "id": "Q2k8eV_m4blR"
   },
   "source": [
    "## Imports"
   ]
  },
  {
   "cell_type": "code",
   "execution_count": 1,
   "metadata": {
    "id": "btNpRxlWh7P7",
    "ExecuteTime": {
     "end_time": "2023-10-03T21:21:36.029260Z",
     "start_time": "2023-10-03T21:21:34.445021Z"
    }
   },
   "outputs": [],
   "source": [
    "from sklearn import datasets\n",
    "import numpy as np\n",
    "import pandas as pd\n",
    "import matplotlib.pyplot as plt"
   ]
  },
  {
   "cell_type": "markdown",
   "metadata": {
    "id": "mNBA2Pdc3a_E"
   },
   "source": [
    "## Load data set"
   ]
  },
  {
   "cell_type": "code",
   "execution_count": 2,
   "metadata": {
    "id": "UuXlZy-0iMsg",
    "ExecuteTime": {
     "end_time": "2023-10-03T21:21:36.036722Z",
     "start_time": "2023-10-03T21:21:36.029972Z"
    }
   },
   "outputs": [],
   "source": [
    "iris = datasets.load_iris()"
   ]
  },
  {
   "cell_type": "code",
   "execution_count": 3,
   "metadata": {
    "colab": {
     "base_uri": "https://localhost:8080/"
    },
    "id": "QAz6Nk1oowVb",
    "outputId": "0f68d3b9-3366-474a-f380-01686b52a5fb",
    "ExecuteTime": {
     "end_time": "2023-10-03T21:21:36.038846Z",
     "start_time": "2023-10-03T21:21:36.035714Z"
    }
   },
   "outputs": [
    {
     "data": {
      "text/plain": "array(['setosa', 'versicolor', 'virginica'], dtype='<U10')"
     },
     "execution_count": 3,
     "metadata": {},
     "output_type": "execute_result"
    }
   ],
   "source": [
    "iris.target_names"
   ]
  },
  {
   "cell_type": "code",
   "execution_count": 4,
   "metadata": {
    "colab": {
     "base_uri": "https://localhost:8080/"
    },
    "id": "DEc7gkxalucI",
    "outputId": "031d3263-2bc4-4d72-e011-35c22d601d3e",
    "ExecuteTime": {
     "end_time": "2023-10-03T21:21:36.085305Z",
     "start_time": "2023-10-03T21:21:36.038311Z"
    }
   },
   "outputs": [
    {
     "data": {
      "text/plain": "['sepal length (cm)',\n 'sepal width (cm)',\n 'petal length (cm)',\n 'petal width (cm)']"
     },
     "execution_count": 4,
     "metadata": {},
     "output_type": "execute_result"
    }
   ],
   "source": [
    "iris.feature_names"
   ]
  },
  {
   "cell_type": "code",
   "execution_count": 5,
   "metadata": {
    "id": "5wKijNM9iVEY",
    "ExecuteTime": {
     "end_time": "2023-10-03T21:21:36.085421Z",
     "start_time": "2023-10-03T21:21:36.082022Z"
    }
   },
   "outputs": [],
   "source": [
    "X = iris.data\n",
    "y = iris.target"
   ]
  },
  {
   "cell_type": "code",
   "execution_count": 6,
   "outputs": [
    {
     "data": {
      "text/plain": "array([5.1, 4.9, 4.7, 4.6, 5. , 5.4, 4.6, 5. , 4.4, 4.9, 5.4, 4.8, 4.8,\n       4.3, 5.8, 5.7, 5.4, 5.1, 5.7, 5.1, 5.4, 5.1, 4.6, 5.1, 4.8, 5. ,\n       5. , 5.2, 5.2, 4.7, 4.8, 5.4, 5.2, 5.5, 4.9, 5. , 5.5, 4.9, 4.4,\n       5.1, 5. , 4.5, 4.4, 5. , 5.1, 4.8, 5.1, 4.6, 5.3, 5. , 7. , 6.4,\n       6.9, 5.5, 6.5, 5.7, 6.3, 4.9, 6.6, 5.2, 5. , 5.9, 6. , 6.1, 5.6,\n       6.7, 5.6, 5.8, 6.2, 5.6, 5.9, 6.1, 6.3, 6.1, 6.4, 6.6, 6.8, 6.7,\n       6. , 5.7, 5.5, 5.5, 5.8, 6. , 5.4, 6. , 6.7, 6.3, 5.6, 5.5, 5.5,\n       6.1, 5.8, 5. , 5.6, 5.7, 5.7, 6.2, 5.1, 5.7, 6.3, 5.8, 7.1, 6.3,\n       6.5, 7.6, 4.9, 7.3, 6.7, 7.2, 6.5, 6.4, 6.8, 5.7, 5.8, 6.4, 6.5,\n       7.7, 7.7, 6. , 6.9, 5.6, 7.7, 6.3, 6.7, 7.2, 6.2, 6.1, 6.4, 7.2,\n       7.4, 7.9, 6.4, 6.3, 6.1, 7.7, 6.3, 6.4, 6. , 6.9, 6.7, 6.9, 5.8,\n       6.8, 6.7, 6.7, 6.3, 6.5, 6.2, 5.9])"
     },
     "execution_count": 6,
     "metadata": {},
     "output_type": "execute_result"
    }
   ],
   "source": [
    "sepal_length = X[:, 0]\n",
    "sepal_length"
   ],
   "metadata": {
    "collapsed": false,
    "ExecuteTime": {
     "end_time": "2023-10-03T21:21:36.088517Z",
     "start_time": "2023-10-03T21:21:36.083923Z"
    }
   }
  },
  {
   "cell_type": "markdown",
   "source": [
    "## Approximate $p(y|x)$\n",
    "Take $x$ to be sepal length and estimate the conditional probability of the target variable $y$ given $x$. Then, sample 10 values of $y$ given a $x=4.75$."
   ],
   "metadata": {
    "collapsed": false
   }
  },
  {
   "cell_type": "markdown",
   "source": [
    "Realizamos un histograma de sepal length, diferenciando por clase. "
   ],
   "metadata": {
    "collapsed": false
   }
  },
  {
   "cell_type": "code",
   "execution_count": 7,
   "outputs": [],
   "source": [
    "setosa_sepal_length = sepal_length[y == 0]\n",
    "versicolor_sepal_length = sepal_length[y == 1]\n",
    "virginica_sepal_length = sepal_length[y == 2]"
   ],
   "metadata": {
    "collapsed": false,
    "ExecuteTime": {
     "end_time": "2023-10-03T21:21:36.095230Z",
     "start_time": "2023-10-03T21:21:36.090116Z"
    }
   }
  },
  {
   "cell_type": "code",
   "execution_count": 8,
   "outputs": [
    {
     "data": {
      "text/plain": "<Figure size 640x480 with 1 Axes>",
      "image/png": "[encoded data removed]"
     },
     "metadata": {},
     "output_type": "display_data"
    }
   ],
   "source": [
    "plt.hist(sepal_length, bins=10, color=\"orange\", label=\"All\")\n",
    "plt.hist(setosa_sepal_length, bins=10, color=\"blue\", label=\"Setosa\")\n",
    "plt.hist(virginica_sepal_length, bins=10, color=\"green\", label=\"Virginica\")\n",
    "plt.hist(versicolor_sepal_length, bins=10, color=\"red\", label=\"Versicolor\")\n",
    "plt.xlabel(\"Sepal length (cm)\")\n",
    "plt.ylabel(\"Frequency\")\n",
    "plt.title(\"Sepal length per class\")\n",
    "plt.legend()\n",
    "plt.grid(True)\n",
    "plt.show()"
   ],
   "metadata": {
    "collapsed": false,
    "ExecuteTime": {
     "end_time": "2023-10-03T21:21:36.232110Z",
     "start_time": "2023-10-03T21:21:36.098157Z"
    }
   }
  },
  {
   "cell_type": "markdown",
   "source": [
    "Definimos los bins y discretizamos sepal length:"
   ],
   "metadata": {
    "collapsed": false
   }
  },
  {
   "cell_type": "code",
   "execution_count": 9,
   "metadata": {
    "ExecuteTime": {
     "end_time": "2023-10-03T21:21:36.296087Z",
     "start_time": "2023-10-03T21:21:36.239755Z"
    }
   },
   "outputs": [
    {
     "name": "stdout",
     "output_type": "stream",
     "text": [
      "[ 3  2  2  1  2  3  1  2  1  2  3  2  2  1  4  4  3  3  4  3  3  3  1  3\n",
      "  2  2  2  3  3  2  2  3  3  4  2  2  4  2  1  3  2  1  1  2  3  2  3  1\n",
      "  3  2  7  6  7  4  6  4  5  2  6  3  2  5  5  5  4  7  4  4  5  4  5  5\n",
      "  5  5  6  6  7  7  5  4  4  4  4  5  3  5  7  5  4  4  4  5  4  2  4  4\n",
      "  4  5  3  4  5  4  7  5  6  9  2  8  7  8  6  6  7  4  4  6  6  9  9  5\n",
      "  7  4  9  5  7  8  5  5  6  8  8 10  6  5  5  9  5  6  5  7  7  7  4  7\n",
      "  7  7  5  6  5  5]\n"
     ]
    },
    {
     "data": {
      "text/plain": "<Figure size 640x480 with 1 Axes>",
      "image/png": "[encoded data removed]"
     },
     "metadata": {},
     "output_type": "display_data"
    }
   ],
   "source": [
    "bins = np.linspace(sepal_length.min(), sepal_length.max(), 10)\n",
    "\n",
    "sepal_length = np.digitize(sepal_length, bins)\n",
    "\n",
    "print(sepal_length)\n",
    "\n",
    "plt.hist(sepal_length)\n",
    "plt.show()"
   ]
  },
  {
   "cell_type": "code",
   "execution_count": 10,
   "metadata": {
    "ExecuteTime": {
     "end_time": "2023-10-03T21:21:36.306755Z",
     "start_time": "2023-10-03T21:21:36.299424Z"
    }
   },
   "outputs": [
    {
     "name": "stdout",
     "output_type": "stream",
     "text": [
      "[1, 2, 3, 4, 5, 6, 7, 8, 9, 10] [0, 1, 2]\n"
     ]
    }
   ],
   "source": [
    "xvalues = np.unique(sepal_length).tolist()\n",
    "yvalues = np.unique(y).tolist()\n",
    "\n",
    "print(xvalues, yvalues)"
   ]
  },
  {
   "cell_type": "code",
   "execution_count": 11,
   "metadata": {
    "ExecuteTime": {
     "end_time": "2023-10-03T21:21:36.306867Z",
     "start_time": "2023-10-03T21:21:36.303283Z"
    }
   },
   "outputs": [
    {
     "data": {
      "text/plain": "['setosa', 'versicolor', 'virginica']"
     },
     "execution_count": 11,
     "metadata": {},
     "output_type": "execute_result"
    }
   ],
   "source": [
    "categories = list(map(lambda x: iris.target_names[x], yvalues))\n",
    "categories"
   ]
  },
  {
   "cell_type": "code",
   "execution_count": 12,
   "metadata": {
    "ExecuteTime": {
     "end_time": "2023-10-03T21:21:36.384074Z",
     "start_time": "2023-10-03T21:21:36.323869Z"
    }
   },
   "outputs": [
    {
     "data": {
      "text/plain": "    setosa  versicolor  virginica\n1        9           0          0\n2       19           3          1\n3       17           3          0\n4        5          18          5\n5        0          15         13\n6        0           5          9\n7        0           6         11\n8        0           0          5\n9        0           0          5\n10       0           0          1",
      "text/html": "<div>\n<style scoped>\n    .dataframe tbody tr th:only-of-type {\n        vertical-align: middle;\n    }\n\n    .dataframe tbody tr th {\n        vertical-align: top;\n    }\n\n    .dataframe thead th {\n        text-align: right;\n    }\n</style>\n<table border=\"1\" class=\"dataframe\">\n  <thead>\n    <tr style=\"text-align: right;\">\n      <th></th>\n      <th>setosa</th>\n      <th>versicolor</th>\n      <th>virginica</th>\n    </tr>\n  </thead>\n  <tbody>\n    <tr>\n      <th>1</th>\n      <td>9</td>\n      <td>0</td>\n      <td>0</td>\n    </tr>\n    <tr>\n      <th>2</th>\n      <td>19</td>\n      <td>3</td>\n      <td>1</td>\n    </tr>\n    <tr>\n      <th>3</th>\n      <td>17</td>\n      <td>3</td>\n      <td>0</td>\n    </tr>\n    <tr>\n      <th>4</th>\n      <td>5</td>\n      <td>18</td>\n      <td>5</td>\n    </tr>\n    <tr>\n      <th>5</th>\n      <td>0</td>\n      <td>15</td>\n      <td>13</td>\n    </tr>\n    <tr>\n      <th>6</th>\n      <td>0</td>\n      <td>5</td>\n      <td>9</td>\n    </tr>\n    <tr>\n      <th>7</th>\n      <td>0</td>\n      <td>6</td>\n      <td>11</td>\n    </tr>\n    <tr>\n      <th>8</th>\n      <td>0</td>\n      <td>0</td>\n      <td>5</td>\n    </tr>\n    <tr>\n      <th>9</th>\n      <td>0</td>\n      <td>0</td>\n      <td>5</td>\n    </tr>\n    <tr>\n      <th>10</th>\n      <td>0</td>\n      <td>0</td>\n      <td>1</td>\n    </tr>\n  </tbody>\n</table>\n</div>"
     },
     "execution_count": 12,
     "metadata": {},
     "output_type": "execute_result"
    }
   ],
   "source": [
    "N = len(sepal_length)\n",
    "obs = pd.DataFrame(0, columns=categories, index=xvalues)\n",
    "for i in range(N):\n",
    "    xi = sepal_length[i]\n",
    "    yi = categories[y[i]]\n",
    "    obs[yi][xi] += 1\n",
    "obs"
   ]
  },
  {
   "cell_type": "code",
   "execution_count": 13,
   "metadata": {
    "ExecuteTime": {
     "end_time": "2023-10-03T21:21:36.384274Z",
     "start_time": "2023-10-03T21:21:36.332271Z"
    }
   },
   "outputs": [
    {
     "data": {
      "text/plain": "1      9\n2     23\n3     20\n4     28\n5     28\n6     14\n7     17\n8      5\n9      5\n10     1\ndtype: int64"
     },
     "execution_count": 13,
     "metadata": {},
     "output_type": "execute_result"
    }
   ],
   "source": [
    "m = obs.sum(axis=1)\n",
    "m"
   ]
  },
  {
   "cell_type": "code",
   "execution_count": 14,
   "metadata": {
    "ExecuteTime": {
     "end_time": "2023-10-03T21:21:36.384366Z",
     "start_time": "2023-10-03T21:21:36.337795Z"
    }
   },
   "outputs": [
    {
     "data": {
      "text/plain": "setosa        50\nversicolor    50\nvirginica     50\ndtype: int64"
     },
     "execution_count": 14,
     "metadata": {},
     "output_type": "execute_result"
    }
   ],
   "source": [
    "l = obs.sum(axis=0)\n",
    "l"
   ]
  },
  {
   "cell_type": "code",
   "execution_count": 15,
   "metadata": {
    "ExecuteTime": {
     "end_time": "2023-10-03T21:21:36.384802Z",
     "start_time": "2023-10-03T21:21:36.346803Z"
    }
   },
   "outputs": [
    {
     "data": {
      "text/plain": "    setosa  versicolor  virginica     m\n1      9.0         0.0        0.0   9.0\n2     19.0         3.0        1.0  23.0\n3     17.0         3.0        0.0  20.0\n4      5.0        18.0        5.0  28.0\n5      0.0        15.0       13.0  28.0\n6      0.0         5.0        9.0  14.0\n7      0.0         6.0       11.0  17.0\n8      0.0         0.0        5.0   5.0\n9      0.0         0.0        5.0   5.0\n10     0.0         0.0        1.0   1.0\nl     50.0        50.0       50.0   NaN",
      "text/html": "<div>\n<style scoped>\n    .dataframe tbody tr th:only-of-type {\n        vertical-align: middle;\n    }\n\n    .dataframe tbody tr th {\n        vertical-align: top;\n    }\n\n    .dataframe thead th {\n        text-align: right;\n    }\n</style>\n<table border=\"1\" class=\"dataframe\">\n  <thead>\n    <tr style=\"text-align: right;\">\n      <th></th>\n      <th>setosa</th>\n      <th>versicolor</th>\n      <th>virginica</th>\n      <th>m</th>\n    </tr>\n  </thead>\n  <tbody>\n    <tr>\n      <th>1</th>\n      <td>9.0</td>\n      <td>0.0</td>\n      <td>0.0</td>\n      <td>9.0</td>\n    </tr>\n    <tr>\n      <th>2</th>\n      <td>19.0</td>\n      <td>3.0</td>\n      <td>1.0</td>\n      <td>23.0</td>\n    </tr>\n    <tr>\n      <th>3</th>\n      <td>17.0</td>\n      <td>3.0</td>\n      <td>0.0</td>\n      <td>20.0</td>\n    </tr>\n    <tr>\n      <th>4</th>\n      <td>5.0</td>\n      <td>18.0</td>\n      <td>5.0</td>\n      <td>28.0</td>\n    </tr>\n    <tr>\n      <th>5</th>\n      <td>0.0</td>\n      <td>15.0</td>\n      <td>13.0</td>\n      <td>28.0</td>\n    </tr>\n    <tr>\n      <th>6</th>\n      <td>0.0</td>\n      <td>5.0</td>\n      <td>9.0</td>\n      <td>14.0</td>\n    </tr>\n    <tr>\n      <th>7</th>\n      <td>0.0</td>\n      <td>6.0</td>\n      <td>11.0</td>\n      <td>17.0</td>\n    </tr>\n    <tr>\n      <th>8</th>\n      <td>0.0</td>\n      <td>0.0</td>\n      <td>5.0</td>\n      <td>5.0</td>\n    </tr>\n    <tr>\n      <th>9</th>\n      <td>0.0</td>\n      <td>0.0</td>\n      <td>5.0</td>\n      <td>5.0</td>\n    </tr>\n    <tr>\n      <th>10</th>\n      <td>0.0</td>\n      <td>0.0</td>\n      <td>1.0</td>\n      <td>1.0</td>\n    </tr>\n    <tr>\n      <th>l</th>\n      <td>50.0</td>\n      <td>50.0</td>\n      <td>50.0</td>\n      <td>NaN</td>\n    </tr>\n  </tbody>\n</table>\n</div>"
     },
     "execution_count": 15,
     "metadata": {},
     "output_type": "execute_result"
    }
   ],
   "source": [
    "obs[\"m\"] = m\n",
    "obs.loc[\"l\"] = l\n",
    "obs"
   ]
  },
  {
   "cell_type": "code",
   "execution_count": 16,
   "metadata": {
    "ExecuteTime": {
     "end_time": "2023-10-03T21:21:36.385161Z",
     "start_time": "2023-10-03T21:21:36.352409Z"
    }
   },
   "outputs": [
    {
     "data": {
      "text/plain": "      setosa  versicolor  virginica\n1   1.000000    0.000000   0.000000\n2   0.826087    0.130435   0.043478\n3   0.850000    0.150000   0.000000\n4   0.178571    0.642857   0.178571\n5   0.000000    0.535714   0.464286\n6   0.000000    0.357143   0.642857\n7   0.000000    0.352941   0.647059\n8   0.000000    0.000000   1.000000\n9   0.000000    0.000000   1.000000\n10  0.000000    0.000000   1.000000",
      "text/html": "<div>\n<style scoped>\n    .dataframe tbody tr th:only-of-type {\n        vertical-align: middle;\n    }\n\n    .dataframe tbody tr th {\n        vertical-align: top;\n    }\n\n    .dataframe thead th {\n        text-align: right;\n    }\n</style>\n<table border=\"1\" class=\"dataframe\">\n  <thead>\n    <tr style=\"text-align: right;\">\n      <th></th>\n      <th>setosa</th>\n      <th>versicolor</th>\n      <th>virginica</th>\n    </tr>\n  </thead>\n  <tbody>\n    <tr>\n      <th>1</th>\n      <td>1.000000</td>\n      <td>0.000000</td>\n      <td>0.000000</td>\n    </tr>\n    <tr>\n      <th>2</th>\n      <td>0.826087</td>\n      <td>0.130435</td>\n      <td>0.043478</td>\n    </tr>\n    <tr>\n      <th>3</th>\n      <td>0.850000</td>\n      <td>0.150000</td>\n      <td>0.000000</td>\n    </tr>\n    <tr>\n      <th>4</th>\n      <td>0.178571</td>\n      <td>0.642857</td>\n      <td>0.178571</td>\n    </tr>\n    <tr>\n      <th>5</th>\n      <td>0.000000</td>\n      <td>0.535714</td>\n      <td>0.464286</td>\n    </tr>\n    <tr>\n      <th>6</th>\n      <td>0.000000</td>\n      <td>0.357143</td>\n      <td>0.642857</td>\n    </tr>\n    <tr>\n      <th>7</th>\n      <td>0.000000</td>\n      <td>0.352941</td>\n      <td>0.647059</td>\n    </tr>\n    <tr>\n      <th>8</th>\n      <td>0.000000</td>\n      <td>0.000000</td>\n      <td>1.000000</td>\n    </tr>\n    <tr>\n      <th>9</th>\n      <td>0.000000</td>\n      <td>0.000000</td>\n      <td>1.000000</td>\n    </tr>\n    <tr>\n      <th>10</th>\n      <td>0.000000</td>\n      <td>0.000000</td>\n      <td>1.000000</td>\n    </tr>\n  </tbody>\n</table>\n</div>"
     },
     "execution_count": 16,
     "metadata": {},
     "output_type": "execute_result"
    }
   ],
   "source": [
    "p_y_x = pd.DataFrame(0, columns=categories, index=xvalues)\n",
    "for x in xvalues:\n",
    "    p_y_x.loc[x] = obs[categories].loc[x] / obs[\"m\"].loc[x]\n",
    "p_y_x"
   ]
  },
  {
   "cell_type": "code",
   "execution_count": 17,
   "metadata": {
    "ExecuteTime": {
     "end_time": "2023-10-03T21:21:36.385254Z",
     "start_time": "2023-10-03T21:21:36.364801Z"
    }
   },
   "outputs": [
    {
     "data": {
      "text/plain": "2"
     },
     "execution_count": 17,
     "metadata": {},
     "output_type": "execute_result"
    }
   ],
   "source": [
    "pred_bin = np.digitize(4.75, bins)\n",
    "pred_bin"
   ]
  },
  {
   "cell_type": "code",
   "execution_count": 18,
   "metadata": {
    "ExecuteTime": {
     "end_time": "2023-10-03T21:21:36.385318Z",
     "start_time": "2023-10-03T21:21:36.369260Z"
    }
   },
   "outputs": [
    {
     "data": {
      "text/plain": "['setosa',\n 'setosa',\n 'setosa',\n 'setosa',\n 'setosa',\n 'setosa',\n 'virginica',\n 'setosa',\n 'setosa',\n 'setosa']"
     },
     "execution_count": 18,
     "metadata": {},
     "output_type": "execute_result"
    }
   ],
   "source": [
    "predictions = np.random.choice(categories, size=10, p=p_y_x.loc[pred_bin]).tolist()\n",
    "predictions"
   ]
  },
  {
   "cell_type": "markdown",
   "source": [
    "### Otra forma utilizando un modelo de tipo mezcla de gaussianas\n",
    "$p(x) = ∑_y p(y) * N(μ_y,σ_y)$ manteniendo $X =$ sepal length"
   ],
   "metadata": {
    "collapsed": false
   }
  },
  {
   "cell_type": "code",
   "execution_count": 19,
   "outputs": [],
   "source": [
    "setosa_sepal_length = sepal_length[y == 0]\n",
    "versicolor_sepal_length = sepal_length[y == 1]\n",
    "virginica_sepal_length = sepal_length[y == 2]"
   ],
   "metadata": {
    "collapsed": false,
    "ExecuteTime": {
     "end_time": "2023-10-03T21:21:36.385346Z",
     "start_time": "2023-10-03T21:21:36.372167Z"
    }
   }
  },
  {
   "cell_type": "code",
   "execution_count": 20,
   "outputs": [],
   "source": [
    "setosa_mean = np.mean(setosa_sepal_length)\n",
    "versicolor_mean = np.mean(versicolor_sepal_length)\n",
    "virginica_mean = np.mean(virginica_sepal_length)\n",
    "\n",
    "setosa_std_dev = np.std(setosa_sepal_length)\n",
    "versicolor_std_dev = np.std(versicolor_sepal_length)\n",
    "virginica_std_dev = np.std(virginica_sepal_length)\n",
    "\n",
    "means = np.array([setosa_mean, versicolor_mean, virginica_mean])\n",
    "stds = np.array([setosa_std_dev, versicolor_std_dev, virginica_std_dev])\n",
    "p_y = np.ones(3) / 3\n",
    "classes = np.unique(y)"
   ],
   "metadata": {
    "collapsed": false,
    "ExecuteTime": {
     "end_time": "2023-10-03T21:21:36.386220Z",
     "start_time": "2023-10-03T21:21:36.376169Z"
    }
   }
  },
  {
   "cell_type": "markdown",
   "source": [
    "Sampleo una clase $y$ y a partir de la media y la desviación estandar genero una muestra con distribución normal para la $X$ de esa clase "
   ],
   "metadata": {
    "collapsed": false
   }
  },
  {
   "cell_type": "code",
   "execution_count": 21,
   "outputs": [
    {
     "data": {
      "text/plain": "2"
     },
     "execution_count": 21,
     "metadata": {},
     "output_type": "execute_result"
    }
   ],
   "source": [
    "c = np.random.choice(classes, p=p_y)\n",
    "c"
   ],
   "metadata": {
    "collapsed": false,
    "ExecuteTime": {
     "end_time": "2023-10-03T21:21:36.386504Z",
     "start_time": "2023-10-03T21:21:36.379374Z"
    }
   }
  },
  {
   "cell_type": "code",
   "execution_count": 22,
   "outputs": [
    {
     "data": {
      "text/plain": "array([ 6.00602058,  7.42277309,  6.82942123,  6.91376023,  5.52808476,\n        7.93443217,  7.81373613,  5.23761293,  5.94028708,  5.42254102,\n        6.54731417,  4.44859469,  5.70589501,  5.39698101,  6.49340198,\n        4.23603912, 10.02217903,  5.06856516,  6.85134263,  6.25252248,\n        5.46555708,  5.85232522,  6.83920027,  4.28575651,  3.80809562,\n        5.72973952,  9.81163656,  6.43725762,  8.86251824,  2.81239885,\n        7.16000572,  3.50858755,  7.62655067,  7.22772439,  6.31926474,\n        7.26306193,  9.70565251,  7.88714881,  4.20647304,  6.5700256 ,\n        4.31947026,  6.89595016,  6.85338755,  7.55925179,  4.68947378,\n        6.26061982,  3.36055759,  4.98132531,  7.39273136,  4.92918668,\n        7.30555132,  4.94386887,  7.53731224,  3.54508025,  5.31692854,\n        5.38448779,  5.85255325,  7.28314425,  8.09489638,  8.44360425,\n        5.67119822,  7.38512043,  4.65689727,  6.78157961,  7.6808147 ,\n        5.63515514,  4.34602483,  5.06628338,  4.9783639 ,  4.27372434,\n        7.27275953,  5.51968375,  5.28785824,  6.87122964,  6.08392789,\n        7.03970403,  7.01525922,  8.96972367,  5.11985723,  5.34100901,\n        9.41913159,  6.26834331,  5.7148785 ,  7.52360296,  8.30933263,\n        7.2616042 ,  6.7872483 ,  7.89770559,  5.11173374,  7.1550716 ,\n        5.35200827,  4.87582628,  6.12297961,  7.48894256,  7.47691351,\n        7.37194661,  8.74559394,  4.42230968,  6.98408889,  6.47456405])"
     },
     "execution_count": 22,
     "metadata": {},
     "output_type": "execute_result"
    }
   ],
   "source": [
    "sampled_x = np.random.normal(means[c], stds[c], 100)\n",
    "sampled_x"
   ],
   "metadata": {
    "collapsed": false,
    "ExecuteTime": {
     "end_time": "2023-10-03T21:21:36.411174Z",
     "start_time": "2023-10-03T21:21:36.384289Z"
    }
   }
  },
  {
   "cell_type": "code",
   "execution_count": 23,
   "outputs": [
    {
     "data": {
      "text/plain": "(array([ 3.,  4., 11., 19., 13., 17., 20.,  6.,  3.,  4.]),\n array([ 2.81239885,  3.53337687,  4.25435489,  4.9753329 ,  5.69631092,\n         6.41728894,  7.13826696,  7.85924497,  8.58022299,  9.30120101,\n        10.02217903]),\n <BarContainer object of 10 artists>)"
     },
     "execution_count": 23,
     "metadata": {},
     "output_type": "execute_result"
    },
    {
     "data": {
      "text/plain": "<Figure size 640x480 with 1 Axes>",
      "image/png": "[encoded data removed]"
     },
     "metadata": {},
     "output_type": "display_data"
    }
   ],
   "source": [
    "plt.hist(sampled_x)"
   ],
   "metadata": {
    "collapsed": false,
    "ExecuteTime": {
     "end_time": "2023-10-03T21:21:36.556064Z",
     "start_time": "2023-10-03T21:21:36.387292Z"
    }
   }
  },
  {
   "cell_type": "markdown",
   "metadata": {
    "id": "SA-qw4kN5IE9"
   },
   "source": [
    "## Approximate $p(x|y)$\n",
    "Take $y$ to be setosa and estimate the probability of sepal length given setosa (or, equivalently, the *likelihood* of setosa given sepal length). Then, generate 10 samples of sepal length and label them appropriately."
   ]
  },
  {
   "cell_type": "markdown",
   "source": [
    "### Histogramas\n",
    "Realizamos histogramas separando por $y$ para observar la distribución de cada clase."
   ],
   "metadata": {
    "collapsed": false
   }
  },
  {
   "cell_type": "markdown",
   "source": [
    "#### Setosa"
   ],
   "metadata": {
    "collapsed": false
   }
  },
  {
   "cell_type": "code",
   "execution_count": 24,
   "outputs": [
    {
     "data": {
      "text/plain": "(array([ 9.,  0.,  0., 19.,  0.,  0., 17.,  0.,  0.,  5.]),\n array([1. , 1.3, 1.6, 1.9, 2.2, 2.5, 2.8, 3.1, 3.4, 3.7, 4. ]),\n <BarContainer object of 10 artists>)"
     },
     "execution_count": 24,
     "metadata": {},
     "output_type": "execute_result"
    },
    {
     "data": {
      "text/plain": "<Figure size 640x480 with 1 Axes>",
      "image/png": "[encoded data removed]"
     },
     "metadata": {},
     "output_type": "display_data"
    }
   ],
   "source": [
    "plt.hist(setosa_sepal_length, bins=10)"
   ],
   "metadata": {
    "collapsed": false,
    "ExecuteTime": {
     "end_time": "2023-10-03T21:21:36.558783Z",
     "start_time": "2023-10-03T21:21:36.469526Z"
    }
   }
  },
  {
   "cell_type": "code",
   "execution_count": 25,
   "outputs": [
    {
     "name": "stdout",
     "output_type": "stream",
     "text": [
      "Bins frequencies:  [9, 0, 0, 19, 0, 0, 17, 0, 0, 5]\n",
      "Mean:  2.36\n",
      "Standard deviation:  0.8890444308357147\n"
     ]
    }
   ],
   "source": [
    "setosa_bin_frequencies, _ = np.histogram(setosa_sepal_length)\n",
    "print(\"Bins frequencies: \", setosa_bin_frequencies.tolist())\n",
    "\n",
    "print(\"Mean: \", setosa_mean)\n",
    "\n",
    "print(\"Standard deviation: \", setosa_std_dev)\n",
    "\n",
    "setosa_sample = np.random.normal(setosa_mean, setosa_std_dev, 1000)"
   ],
   "metadata": {
    "collapsed": false,
    "ExecuteTime": {
     "end_time": "2023-10-03T21:21:36.558898Z",
     "start_time": "2023-10-03T21:21:36.537424Z"
    }
   }
  },
  {
   "cell_type": "code",
   "execution_count": 26,
   "outputs": [
    {
     "data": {
      "text/plain": "(array([ 1.,  0.,  0.,  0.,  0.,  3.,  0.,  1.,  2.,  3.,  3.,  3.,  4.,\n        11.,  9., 17., 13., 28., 31., 34., 36., 35., 43., 44., 51., 55.,\n        46., 56., 54., 55., 44., 35., 43., 37., 33., 26., 29., 30., 20.,\n        17., 16.,  7.,  9.,  4.,  3.,  4.,  1.,  2.,  1.,  1.]),\n array([-0.92835046, -0.80880694, -0.68926342, -0.5697199 , -0.45017638,\n        -0.33063286, -0.21108933, -0.09154581,  0.02799771,  0.14754123,\n         0.26708475,  0.38662827,  0.50617179,  0.62571531,  0.74525883,\n         0.86480235,  0.98434587,  1.10388939,  1.22343292,  1.34297644,\n         1.46251996,  1.58206348,  1.701607  ,  1.82115052,  1.94069404,\n         2.06023756,  2.17978108,  2.2993246 ,  2.41886812,  2.53841164,\n         2.65795517,  2.77749869,  2.89704221,  3.01658573,  3.13612925,\n         3.25567277,  3.37521629,  3.49475981,  3.61430333,  3.73384685,\n         3.85339037,  3.97293389,  4.09247742,  4.21202094,  4.33156446,\n         4.45110798,  4.5706515 ,  4.69019502,  4.80973854,  4.92928206,\n         5.04882558]),\n <BarContainer object of 50 artists>)"
     },
     "execution_count": 26,
     "metadata": {},
     "output_type": "execute_result"
    },
    {
     "data": {
      "text/plain": "<Figure size 640x480 with 1 Axes>",
      "image/png": "[encoded data removed]"
     },
     "metadata": {},
     "output_type": "display_data"
    }
   ],
   "source": [
    "plt.hist(setosa_sample, bins=50)"
   ],
   "metadata": {
    "collapsed": false,
    "ExecuteTime": {
     "end_time": "2023-10-03T21:21:36.659145Z",
     "start_time": "2023-10-03T21:21:36.544355Z"
    }
   }
  },
  {
   "cell_type": "markdown",
   "source": [
    "#### Versicolor"
   ],
   "metadata": {
    "collapsed": false
   }
  },
  {
   "cell_type": "code",
   "execution_count": 27,
   "outputs": [
    {
     "data": {
      "text/plain": "(array([ 3.,  0.,  3.,  0., 18.,  0., 15.,  0.,  5.,  6.]),\n array([2. , 2.5, 3. , 3.5, 4. , 4.5, 5. , 5.5, 6. , 6.5, 7. ]),\n <BarContainer object of 10 artists>)"
     },
     "execution_count": 27,
     "metadata": {},
     "output_type": "execute_result"
    },
    {
     "data": {
      "text/plain": "<Figure size 640x480 with 1 Axes>",
      "image/png": "[encoded data removed]"
     },
     "metadata": {},
     "output_type": "display_data"
    }
   ],
   "source": [
    "plt.hist(versicolor_sepal_length)"
   ],
   "metadata": {
    "collapsed": false,
    "ExecuteTime": {
     "end_time": "2023-10-03T21:21:36.736377Z",
     "start_time": "2023-10-03T21:21:36.652853Z"
    }
   }
  },
  {
   "cell_type": "code",
   "execution_count": 28,
   "outputs": [
    {
     "name": "stdout",
     "output_type": "stream",
     "text": [
      "Bins frequencies:  [3, 0, 3, 0, 18, 0, 15, 0, 5, 6]\n",
      "Mean:  4.68\n",
      "Standard deviation:  1.2718490476467716\n"
     ]
    }
   ],
   "source": [
    "versicolor_bin_frequencies, _ = np.histogram(versicolor_sepal_length)\n",
    "print(\"Bins frequencies: \", versicolor_bin_frequencies.tolist())\n",
    "\n",
    "print(\"Mean: \", versicolor_mean)\n",
    "\n",
    "print(\"Standard deviation: \", versicolor_std_dev)\n",
    "\n",
    "versicolor_sample = np.random.normal(versicolor_mean, versicolor_std_dev, 1000)"
   ],
   "metadata": {
    "collapsed": false,
    "ExecuteTime": {
     "end_time": "2023-10-03T21:21:36.736517Z",
     "start_time": "2023-10-03T21:21:36.721073Z"
    }
   }
  },
  {
   "cell_type": "code",
   "execution_count": 29,
   "outputs": [
    {
     "data": {
      "text/plain": "(array([ 2.,  4.,  3.,  4.,  6.,  7.,  6.,  9.,  9., 21., 12., 17., 23.,\n        27., 21., 33., 39., 26., 41., 31., 46., 37., 44., 49., 53., 39.,\n        48., 48., 43., 33., 27., 21., 28., 23., 30., 16., 18., 12.,  9.,\n         5.,  6.,  9.,  4.,  1.,  3.,  3.,  2.,  1.,  0.,  1.]),\n array([1.33356892, 1.47638605, 1.61920319, 1.76202033, 1.90483746,\n        2.0476546 , 2.19047173, 2.33328887, 2.47610601, 2.61892314,\n        2.76174028, 2.90455741, 3.04737455, 3.19019169, 3.33300882,\n        3.47582596, 3.61864309, 3.76146023, 3.90427737, 4.0470945 ,\n        4.18991164, 4.33272877, 4.47554591, 4.61836305, 4.76118018,\n        4.90399732, 5.04681445, 5.18963159, 5.33244873, 5.47526586,\n        5.618083  , 5.76090013, 5.90371727, 6.04653441, 6.18935154,\n        6.33216868, 6.47498581, 6.61780295, 6.76062009, 6.90343722,\n        7.04625436, 7.18907149, 7.33188863, 7.47470577, 7.6175229 ,\n        7.76034004, 7.90315717, 8.04597431, 8.18879145, 8.33160858,\n        8.47442572]),\n <BarContainer object of 50 artists>)"
     },
     "execution_count": 29,
     "metadata": {},
     "output_type": "execute_result"
    },
    {
     "data": {
      "text/plain": "<Figure size 640x480 with 1 Axes>",
      "image/png": "[encoded data removed]"
     },
     "metadata": {},
     "output_type": "display_data"
    }
   ],
   "source": [
    "plt.hist(versicolor_sample, bins=50)"
   ],
   "metadata": {
    "collapsed": false,
    "ExecuteTime": {
     "end_time": "2023-10-03T21:21:36.829624Z",
     "start_time": "2023-10-03T21:21:36.727477Z"
    }
   }
  },
  {
   "cell_type": "markdown",
   "source": [
    "#### Virginica"
   ],
   "metadata": {
    "collapsed": false
   }
  },
  {
   "cell_type": "code",
   "execution_count": 30,
   "outputs": [
    {
     "data": {
      "text/plain": "(array([ 1.,  0.,  5., 13.,  0.,  9., 11.,  5.,  5.,  1.]),\n array([ 2. ,  2.8,  3.6,  4.4,  5.2,  6. ,  6.8,  7.6,  8.4,  9.2, 10. ]),\n <BarContainer object of 10 artists>)"
     },
     "execution_count": 30,
     "metadata": {},
     "output_type": "execute_result"
    },
    {
     "data": {
      "text/plain": "<Figure size 640x480 with 1 Axes>",
      "image/png": "[encoded data removed]"
     },
     "metadata": {},
     "output_type": "display_data"
    }
   ],
   "source": [
    "plt.hist(virginica_sepal_length)"
   ],
   "metadata": {
    "collapsed": false,
    "ExecuteTime": {
     "end_time": "2023-10-03T21:21:36.899889Z",
     "start_time": "2023-10-03T21:21:36.830689Z"
    }
   }
  },
  {
   "cell_type": "code",
   "execution_count": 31,
   "outputs": [
    {
     "name": "stdout",
     "output_type": "stream",
     "text": [
      "Bins frequencies:  [1, 0, 5, 13, 0, 9, 11, 5, 5, 1]\n",
      "Mean:  6.26\n",
      "Standard deviation:  1.659035864591239\n"
     ]
    }
   ],
   "source": [
    "virginica_bin_frequencies, _ = np.histogram(virginica_sepal_length)\n",
    "print(\"Bins frequencies: \", virginica_bin_frequencies.tolist())\n",
    "\n",
    "print(\"Mean: \", virginica_mean)\n",
    "\n",
    "print(\"Standard deviation: \", virginica_std_dev)\n",
    "\n",
    "virginica_sample = np.random.normal(virginica_mean, virginica_std_dev, 1000)"
   ],
   "metadata": {
    "collapsed": false,
    "ExecuteTime": {
     "end_time": "2023-10-03T21:21:36.907498Z",
     "start_time": "2023-10-03T21:21:36.899477Z"
    }
   }
  },
  {
   "cell_type": "code",
   "execution_count": 32,
   "outputs": [
    {
     "data": {
      "text/plain": "(array([ 2.,  3.,  3.,  2.,  6.,  8., 10.,  8., 11., 14., 17., 17., 22.,\n        22., 23., 30., 41., 36., 53., 41., 47., 47., 45., 39., 43., 39.,\n        45., 53., 37., 40., 32., 24., 21., 16., 16., 19.,  7., 13.,  8.,\n         6., 11.,  2.,  4.,  6.,  7.,  1.,  2.,  0.,  0.,  1.]),\n array([ 1.87618762,  2.06736112,  2.25853463,  2.44970813,  2.64088163,\n         2.83205513,  3.02322864,  3.21440214,  3.40557564,  3.59674915,\n         3.78792265,  3.97909615,  4.17026965,  4.36144316,  4.55261666,\n         4.74379016,  4.93496367,  5.12613717,  5.31731067,  5.50848417,\n         5.69965768,  5.89083118,  6.08200468,  6.27317819,  6.46435169,\n         6.65552519,  6.84669869,  7.0378722 ,  7.2290457 ,  7.4202192 ,\n         7.61139271,  7.80256621,  7.99373971,  8.18491321,  8.37608672,\n         8.56726022,  8.75843372,  8.94960722,  9.14078073,  9.33195423,\n         9.52312773,  9.71430124,  9.90547474, 10.09664824, 10.28782174,\n        10.47899525, 10.67016875, 10.86134225, 11.05251576, 11.24368926,\n        11.43486276]),\n <BarContainer object of 50 artists>)"
     },
     "execution_count": 32,
     "metadata": {},
     "output_type": "execute_result"
    },
    {
     "data": {
      "text/plain": "<Figure size 640x480 with 1 Axes>",
      "image/png": "[encoded data removed]"
     },
     "metadata": {},
     "output_type": "display_data"
    }
   ],
   "source": [
    "plt.hist(virginica_sample, bins=50)"
   ],
   "metadata": {
    "collapsed": false,
    "ExecuteTime": {
     "end_time": "2023-10-03T21:21:36.998980Z",
     "start_time": "2023-10-03T21:21:36.906705Z"
    }
   }
  },
  {
   "cell_type": "markdown",
   "source": [
    "Comprobamos que hay 3 distribuciones normales pero distintas: "
   ],
   "metadata": {
    "collapsed": false
   }
  },
  {
   "cell_type": "code",
   "execution_count": 33,
   "outputs": [
    {
     "data": {
      "text/plain": "<Figure size 640x480 with 1 Axes>",
      "image/png": "[encoded data removed]"
     },
     "metadata": {},
     "output_type": "display_data"
    }
   ],
   "source": [
    "plt.hist(setosa_sepal_length, bins=10, color=\"blue\", label=\"Setosa\")\n",
    "plt.hist(versicolor_sepal_length, bins=10, color=\"red\", label=\"Versicolor\")\n",
    "plt.hist(virginica_sepal_length, bins=10, color=\"green\", label=\"Virginica\")\n",
    "plt.xlabel(\"Sepal length\")\n",
    "plt.ylabel(\"Frequency\")\n",
    "plt.title(\"Original data\")\n",
    "plt.legend()\n",
    "plt.grid(True)\n",
    "plt.show()"
   ],
   "metadata": {
    "collapsed": false,
    "ExecuteTime": {
     "end_time": "2023-10-03T21:21:37.105673Z",
     "start_time": "2023-10-03T21:21:36.998827Z"
    }
   }
  },
  {
   "cell_type": "code",
   "execution_count": 34,
   "outputs": [
    {
     "data": {
      "text/plain": "<Figure size 640x480 with 1 Axes>",
      "image/png": "[encoded data removed]"
     },
     "metadata": {},
     "output_type": "display_data"
    }
   ],
   "source": [
    "plt.hist(setosa_sample, bins=50, color=\"blue\", label=\"Setosa\")\n",
    "plt.hist(versicolor_sample, bins=50, color=\"red\", label=\"Versicolor\")\n",
    "plt.hist(virginica_sample, bins=50, color=\"green\", label=\"Virginica\")\n",
    "plt.xlabel(\"Sepal length\")\n",
    "plt.ylabel(\"Frequency\")\n",
    "plt.title(\"Sampled data\")\n",
    "plt.legend()\n",
    "plt.grid(True)\n",
    "plt.show()"
   ],
   "metadata": {
    "collapsed": false,
    "ExecuteTime": {
     "end_time": "2023-10-03T21:21:37.373836Z",
     "start_time": "2023-10-03T21:21:37.104720Z"
    }
   }
  },
  {
   "cell_type": "markdown",
   "source": [
    "Definimos p(x|y) a partir de los histogramas"
   ],
   "metadata": {
    "collapsed": false
   }
  },
  {
   "cell_type": "code",
   "execution_count": 35,
   "outputs": [
    {
     "data": {
      "text/plain": "   setosa  versicolor  virginica\n0    0.18        0.06       0.02\n1    0.00        0.00       0.00\n2    0.00        0.06       0.10\n3    0.38        0.00       0.26\n4    0.00        0.36       0.00\n5    0.00        0.00       0.18\n6    0.34        0.30       0.22\n7    0.00        0.00       0.10\n8    0.00        0.10       0.10\n9    0.10        0.12       0.02",
      "text/html": "<div>\n<style scoped>\n    .dataframe tbody tr th:only-of-type {\n        vertical-align: middle;\n    }\n\n    .dataframe tbody tr th {\n        vertical-align: top;\n    }\n\n    .dataframe thead th {\n        text-align: right;\n    }\n</style>\n<table border=\"1\" class=\"dataframe\">\n  <thead>\n    <tr style=\"text-align: right;\">\n      <th></th>\n      <th>setosa</th>\n      <th>versicolor</th>\n      <th>virginica</th>\n    </tr>\n  </thead>\n  <tbody>\n    <tr>\n      <th>0</th>\n      <td>0.18</td>\n      <td>0.06</td>\n      <td>0.02</td>\n    </tr>\n    <tr>\n      <th>1</th>\n      <td>0.00</td>\n      <td>0.00</td>\n      <td>0.00</td>\n    </tr>\n    <tr>\n      <th>2</th>\n      <td>0.00</td>\n      <td>0.06</td>\n      <td>0.10</td>\n    </tr>\n    <tr>\n      <th>3</th>\n      <td>0.38</td>\n      <td>0.00</td>\n      <td>0.26</td>\n    </tr>\n    <tr>\n      <th>4</th>\n      <td>0.00</td>\n      <td>0.36</td>\n      <td>0.00</td>\n    </tr>\n    <tr>\n      <th>5</th>\n      <td>0.00</td>\n      <td>0.00</td>\n      <td>0.18</td>\n    </tr>\n    <tr>\n      <th>6</th>\n      <td>0.34</td>\n      <td>0.30</td>\n      <td>0.22</td>\n    </tr>\n    <tr>\n      <th>7</th>\n      <td>0.00</td>\n      <td>0.00</td>\n      <td>0.10</td>\n    </tr>\n    <tr>\n      <th>8</th>\n      <td>0.00</td>\n      <td>0.10</td>\n      <td>0.10</td>\n    </tr>\n    <tr>\n      <th>9</th>\n      <td>0.10</td>\n      <td>0.12</td>\n      <td>0.02</td>\n    </tr>\n  </tbody>\n</table>\n</div>"
     },
     "execution_count": 35,
     "metadata": {},
     "output_type": "execute_result"
    }
   ],
   "source": [
    "p_x_y = pd.DataFrame(0, columns=categories, index=[])\n",
    "p_x_y[\"setosa\"] = setosa_bin_frequencies / np.sum(setosa_bin_frequencies)\n",
    "p_x_y[\"versicolor\"] = versicolor_bin_frequencies / np.sum(versicolor_bin_frequencies)\n",
    "p_x_y[\"virginica\"] = virginica_bin_frequencies / np.sum(virginica_bin_frequencies)\n",
    "p_x_y"
   ],
   "metadata": {
    "collapsed": false,
    "ExecuteTime": {
     "end_time": "2023-10-03T21:21:37.382096Z",
     "start_time": "2023-10-03T21:21:37.378850Z"
    }
   }
  },
  {
   "cell_type": "markdown",
   "source": [
    "Se samplea un bin de acuerdo a p(x|y) y dentro del bin obtenido se samplea un x con distribución uniforme"
   ],
   "metadata": {
    "collapsed": false
   }
  },
  {
   "cell_type": "code",
   "execution_count": 36,
   "outputs": [
    {
     "data": {
      "text/plain": "array([6.52239819, 5.14096443, 4.45706569, 6.41355894, 7.77994062,\n       5.4646327 , 4.41743359, 4.49193348, 7.80965049, 6.68215019])"
     },
     "execution_count": 36,
     "metadata": {},
     "output_type": "execute_result"
    }
   ],
   "source": [
    "sampled_bins = np.random.choice(xvalues, size=10, p=p_x_y[\"setosa\"])\n",
    "sampled_values = np.random.uniform(low=np.where(sampled_bins - 2 == -1, bins[0], bins[sampled_bins - 2]), high=np.where(sampled_bins - 2 == -1, bins[1], bins[sampled_bins - 1]))\n",
    "sampled_values"
   ],
   "metadata": {
    "collapsed": false,
    "ExecuteTime": {
     "end_time": "2023-10-03T21:21:37.388120Z",
     "start_time": "2023-10-03T21:21:37.384447Z"
    }
   }
  }
 ],
 "metadata": {
  "colab": {
   "provenance": [],
   "toc_visible": true
  },
  "kernelspec": {
   "name": "python3",
   "language": "python",
   "display_name": "Python 3 (ipykernel)"
  },
  "language_info": {
   "codemirror_mode": {
    "name": "ipython",
    "version": 3
   },
   "file_extension": ".py",
   "mimetype": "text/x-python",
   "name": "python",
   "nbconvert_exporter": "python",
   "pygments_lexer": "ipython3",
   "version": "3.10.4"
  }
 },
 "nbformat": 4,
 "nbformat_minor": 0
}
