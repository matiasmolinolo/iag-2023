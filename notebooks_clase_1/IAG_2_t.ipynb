{
 "cells": [
  {
   "cell_type": "markdown",
   "metadata": {
    "id": "JgTH-vb24nd5"
   },
   "source": [
    "# Estimating distributions (part 2)\n",
    "The goal of this notebook is to explore a first approach to approximate $p(y|x)$ and $p(x|y)$ on a tabular dataset where $x$ is real-valued, $x\\in\\mathbb{R}^k$, and the target $y$ is discrete and finite, $y\\in\\{0,\\ldots,d\\}⊆\\mathbb{N}, d\\geq 1$."
   ]
  },
  {
   "cell_type": "markdown",
   "metadata": {
    "id": "Q2k8eV_m4blR"
   },
   "source": [
    "## Imports"
   ]
  },
  {
   "cell_type": "code",
   "execution_count": 1,
   "metadata": {
    "id": "btNpRxlWh7P7",
    "ExecuteTime": {
     "end_time": "2023-10-02T21:52:35.248197Z",
     "start_time": "2023-10-02T21:52:33.551261Z"
    }
   },
   "outputs": [],
   "source": [
    "from sklearn import datasets\n",
    "import numpy as np\n",
    "import pandas as pd"
   ]
  },
  {
   "cell_type": "markdown",
   "metadata": {
    "id": "mNBA2Pdc3a_E"
   },
   "source": [
    "## Load data set"
   ]
  },
  {
   "cell_type": "code",
   "execution_count": 2,
   "metadata": {
    "id": "UuXlZy-0iMsg",
    "ExecuteTime": {
     "end_time": "2023-10-02T21:52:35.253814Z",
     "start_time": "2023-10-02T21:52:35.248469Z"
    }
   },
   "outputs": [],
   "source": [
    "iris = datasets.load_iris()"
   ]
  },
  {
   "cell_type": "code",
   "execution_count": 3,
   "metadata": {
    "colab": {
     "base_uri": "https://localhost:8080/"
    },
    "id": "QAz6Nk1oowVb",
    "outputId": "0f68d3b9-3366-474a-f380-01686b52a5fb",
    "ExecuteTime": {
     "end_time": "2023-10-02T21:52:35.261951Z",
     "start_time": "2023-10-02T21:52:35.258426Z"
    }
   },
   "outputs": [
    {
     "data": {
      "text/plain": "array(['setosa', 'versicolor', 'virginica'], dtype='<U10')"
     },
     "execution_count": 3,
     "metadata": {},
     "output_type": "execute_result"
    }
   ],
   "source": [
    "iris.target_names"
   ]
  },
  {
   "cell_type": "code",
   "execution_count": 4,
   "metadata": {
    "colab": {
     "base_uri": "https://localhost:8080/"
    },
    "id": "DEc7gkxalucI",
    "outputId": "031d3263-2bc4-4d72-e011-35c22d601d3e",
    "ExecuteTime": {
     "end_time": "2023-10-02T21:52:35.265276Z",
     "start_time": "2023-10-02T21:52:35.260905Z"
    }
   },
   "outputs": [
    {
     "data": {
      "text/plain": "['sepal length (cm)',\n 'sepal width (cm)',\n 'petal length (cm)',\n 'petal width (cm)']"
     },
     "execution_count": 4,
     "metadata": {},
     "output_type": "execute_result"
    }
   ],
   "source": [
    "iris.feature_names"
   ]
  },
  {
   "cell_type": "code",
   "execution_count": 5,
   "metadata": {
    "id": "5wKijNM9iVEY",
    "ExecuteTime": {
     "end_time": "2023-10-02T21:52:35.270416Z",
     "start_time": "2023-10-02T21:52:35.266658Z"
    }
   },
   "outputs": [],
   "source": [
    "X = iris.data\n",
    "y = iris.target"
   ]
  },
  {
   "cell_type": "markdown",
   "metadata": {
    "id": "O-Mac28j3GSA"
   },
   "source": [
    "## Approximate $p(y|x)$\n",
    "Take $x$ to be sepal length and estimate the conditional probability of the target variable $y$ given $x$. Then, sample 10 values of $y$ given a $x=4.75$."
   ]
  },
  {
   "cell_type": "code",
   "execution_count": 6,
   "metadata": {
    "ExecuteTime": {
     "end_time": "2023-10-02T21:52:35.746024Z",
     "start_time": "2023-10-02T21:52:35.269776Z"
    }
   },
   "outputs": [],
   "source": [
    "import matplotlib.pyplot as plt"
   ]
  },
  {
   "cell_type": "code",
   "execution_count": 7,
   "metadata": {
    "ExecuteTime": {
     "end_time": "2023-10-02T21:52:35.875008Z",
     "start_time": "2023-10-02T21:52:35.794271Z"
    }
   },
   "outputs": [
    {
     "name": "stdout",
     "output_type": "stream",
     "text": [
      "[ 3  2  2  1  2  3  1  2  1  2  3  2  2  1  4  4  3  3  4  3  3  3  1  3\n",
      "  2  2  2  3  3  2  2  3  3  4  2  2  4  2  1  3  2  1  1  2  3  2  3  1\n",
      "  3  2  7  6  7  4  6  4  5  2  6  3  2  5  5  5  4  7  4  4  5  4  5  5\n",
      "  5  5  6  6  7  7  5  4  4  4  4  5  3  5  7  5  4  4  4  5  4  2  4  4\n",
      "  4  5  3  4  5  4  7  5  6  9  2  8  7  8  6  6  7  4  4  6  6  9  9  5\n",
      "  7  4  9  5  7  8  5  5  6  8  8 10  6  5  5  9  5  6  5  7  7  7  4  7\n",
      "  7  7  5  6  5  5]\n"
     ]
    },
    {
     "data": {
      "text/plain": "<Figure size 640x480 with 1 Axes>",
      "image/png": "[encoded data removed]"
     },
     "metadata": {},
     "output_type": "display_data"
    }
   ],
   "source": [
    "sepal_length = X[:, 0]\n",
    "\n",
    "# discretize sepal_length\n",
    "# generate linspace for sepal_length\n",
    "bins = np.linspace(sepal_length.min(), sepal_length.max(), 10)\n",
    "\n",
    "sepal_length = np.digitize(sepal_length, bins)\n",
    "\n",
    "print(sepal_length)\n",
    "\n",
    "plt.hist(sepal_length)\n",
    "plt.show()"
   ]
  },
  {
   "cell_type": "code",
   "execution_count": 8,
   "metadata": {
    "ExecuteTime": {
     "end_time": "2023-10-02T21:52:35.879742Z",
     "start_time": "2023-10-02T21:52:35.875810Z"
    }
   },
   "outputs": [
    {
     "name": "stdout",
     "output_type": "stream",
     "text": [
      "[1, 2, 3, 4, 5, 6, 7, 8, 9, 10] [0, 1, 2]\n"
     ]
    }
   ],
   "source": [
    "xvalues = np.unique(sepal_length).tolist()\n",
    "yvalues = np.unique(y).tolist()\n",
    "\n",
    "print(xvalues, yvalues)"
   ]
  },
  {
   "cell_type": "code",
   "execution_count": 9,
   "metadata": {
    "ExecuteTime": {
     "end_time": "2023-10-02T21:52:35.884831Z",
     "start_time": "2023-10-02T21:52:35.880446Z"
    }
   },
   "outputs": [
    {
     "data": {
      "text/plain": "['setosa', 'versicolor', 'virginica']"
     },
     "execution_count": 9,
     "metadata": {},
     "output_type": "execute_result"
    }
   ],
   "source": [
    "categories = list(map(lambda x: iris.target_names[x], yvalues))\n",
    "categories"
   ]
  },
  {
   "cell_type": "code",
   "execution_count": 10,
   "metadata": {
    "ExecuteTime": {
     "end_time": "2023-10-02T21:52:35.951923Z",
     "start_time": "2023-10-02T21:52:35.882707Z"
    }
   },
   "outputs": [
    {
     "data": {
      "text/plain": "    setosa  versicolor  virginica\n1        9           0          0\n2       19           3          1\n3       17           3          0\n4        5          18          5\n5        0          15         13\n6        0           5          9\n7        0           6         11\n8        0           0          5\n9        0           0          5\n10       0           0          1",
      "text/html": "<div>\n<style scoped>\n    .dataframe tbody tr th:only-of-type {\n        vertical-align: middle;\n    }\n\n    .dataframe tbody tr th {\n        vertical-align: top;\n    }\n\n    .dataframe thead th {\n        text-align: right;\n    }\n</style>\n<table border=\"1\" class=\"dataframe\">\n  <thead>\n    <tr style=\"text-align: right;\">\n      <th></th>\n      <th>setosa</th>\n      <th>versicolor</th>\n      <th>virginica</th>\n    </tr>\n  </thead>\n  <tbody>\n    <tr>\n      <th>1</th>\n      <td>9</td>\n      <td>0</td>\n      <td>0</td>\n    </tr>\n    <tr>\n      <th>2</th>\n      <td>19</td>\n      <td>3</td>\n      <td>1</td>\n    </tr>\n    <tr>\n      <th>3</th>\n      <td>17</td>\n      <td>3</td>\n      <td>0</td>\n    </tr>\n    <tr>\n      <th>4</th>\n      <td>5</td>\n      <td>18</td>\n      <td>5</td>\n    </tr>\n    <tr>\n      <th>5</th>\n      <td>0</td>\n      <td>15</td>\n      <td>13</td>\n    </tr>\n    <tr>\n      <th>6</th>\n      <td>0</td>\n      <td>5</td>\n      <td>9</td>\n    </tr>\n    <tr>\n      <th>7</th>\n      <td>0</td>\n      <td>6</td>\n      <td>11</td>\n    </tr>\n    <tr>\n      <th>8</th>\n      <td>0</td>\n      <td>0</td>\n      <td>5</td>\n    </tr>\n    <tr>\n      <th>9</th>\n      <td>0</td>\n      <td>0</td>\n      <td>5</td>\n    </tr>\n    <tr>\n      <th>10</th>\n      <td>0</td>\n      <td>0</td>\n      <td>1</td>\n    </tr>\n  </tbody>\n</table>\n</div>"
     },
     "execution_count": 10,
     "metadata": {},
     "output_type": "execute_result"
    }
   ],
   "source": [
    "N = len(sepal_length)\n",
    "obs = pd.DataFrame(0, columns=categories, index=xvalues)\n",
    "for i in range(N):\n",
    "    xi = sepal_length[i]\n",
    "    yi = categories[y[i]]\n",
    "    obs[yi][xi] += 1\n",
    "obs"
   ]
  },
  {
   "cell_type": "code",
   "execution_count": 11,
   "metadata": {
    "ExecuteTime": {
     "end_time": "2023-10-02T21:52:35.952181Z",
     "start_time": "2023-10-02T21:52:35.911914Z"
    }
   },
   "outputs": [
    {
     "data": {
      "text/plain": "1      9\n2     23\n3     20\n4     28\n5     28\n6     14\n7     17\n8      5\n9      5\n10     1\ndtype: int64"
     },
     "execution_count": 11,
     "metadata": {},
     "output_type": "execute_result"
    }
   ],
   "source": [
    "m = obs.sum(axis=1)\n",
    "m"
   ]
  },
  {
   "cell_type": "code",
   "execution_count": 12,
   "metadata": {
    "ExecuteTime": {
     "end_time": "2023-10-02T21:52:35.952247Z",
     "start_time": "2023-10-02T21:52:35.917940Z"
    }
   },
   "outputs": [
    {
     "data": {
      "text/plain": "setosa        50\nversicolor    50\nvirginica     50\ndtype: int64"
     },
     "execution_count": 12,
     "metadata": {},
     "output_type": "execute_result"
    }
   ],
   "source": [
    "l = obs.sum(axis=0)\n",
    "l"
   ]
  },
  {
   "cell_type": "code",
   "execution_count": 13,
   "metadata": {
    "ExecuteTime": {
     "end_time": "2023-10-02T21:52:35.952850Z",
     "start_time": "2023-10-02T21:52:35.921001Z"
    }
   },
   "outputs": [
    {
     "data": {
      "text/plain": "    setosa  versicolor  virginica     m\n1      9.0         0.0        0.0   9.0\n2     19.0         3.0        1.0  23.0\n3     17.0         3.0        0.0  20.0\n4      5.0        18.0        5.0  28.0\n5      0.0        15.0       13.0  28.0\n6      0.0         5.0        9.0  14.0\n7      0.0         6.0       11.0  17.0\n8      0.0         0.0        5.0   5.0\n9      0.0         0.0        5.0   5.0\n10     0.0         0.0        1.0   1.0\nl     50.0        50.0       50.0   NaN",
      "text/html": "<div>\n<style scoped>\n    .dataframe tbody tr th:only-of-type {\n        vertical-align: middle;\n    }\n\n    .dataframe tbody tr th {\n        vertical-align: top;\n    }\n\n    .dataframe thead th {\n        text-align: right;\n    }\n</style>\n<table border=\"1\" class=\"dataframe\">\n  <thead>\n    <tr style=\"text-align: right;\">\n      <th></th>\n      <th>setosa</th>\n      <th>versicolor</th>\n      <th>virginica</th>\n      <th>m</th>\n    </tr>\n  </thead>\n  <tbody>\n    <tr>\n      <th>1</th>\n      <td>9.0</td>\n      <td>0.0</td>\n      <td>0.0</td>\n      <td>9.0</td>\n    </tr>\n    <tr>\n      <th>2</th>\n      <td>19.0</td>\n      <td>3.0</td>\n      <td>1.0</td>\n      <td>23.0</td>\n    </tr>\n    <tr>\n      <th>3</th>\n      <td>17.0</td>\n      <td>3.0</td>\n      <td>0.0</td>\n      <td>20.0</td>\n    </tr>\n    <tr>\n      <th>4</th>\n      <td>5.0</td>\n      <td>18.0</td>\n      <td>5.0</td>\n      <td>28.0</td>\n    </tr>\n    <tr>\n      <th>5</th>\n      <td>0.0</td>\n      <td>15.0</td>\n      <td>13.0</td>\n      <td>28.0</td>\n    </tr>\n    <tr>\n      <th>6</th>\n      <td>0.0</td>\n      <td>5.0</td>\n      <td>9.0</td>\n      <td>14.0</td>\n    </tr>\n    <tr>\n      <th>7</th>\n      <td>0.0</td>\n      <td>6.0</td>\n      <td>11.0</td>\n      <td>17.0</td>\n    </tr>\n    <tr>\n      <th>8</th>\n      <td>0.0</td>\n      <td>0.0</td>\n      <td>5.0</td>\n      <td>5.0</td>\n    </tr>\n    <tr>\n      <th>9</th>\n      <td>0.0</td>\n      <td>0.0</td>\n      <td>5.0</td>\n      <td>5.0</td>\n    </tr>\n    <tr>\n      <th>10</th>\n      <td>0.0</td>\n      <td>0.0</td>\n      <td>1.0</td>\n      <td>1.0</td>\n    </tr>\n    <tr>\n      <th>l</th>\n      <td>50.0</td>\n      <td>50.0</td>\n      <td>50.0</td>\n      <td>NaN</td>\n    </tr>\n  </tbody>\n</table>\n</div>"
     },
     "execution_count": 13,
     "metadata": {},
     "output_type": "execute_result"
    }
   ],
   "source": [
    "obs[\"m\"] = m\n",
    "obs.loc[\"l\"] = l\n",
    "obs"
   ]
  },
  {
   "cell_type": "code",
   "execution_count": 14,
   "metadata": {
    "ExecuteTime": {
     "end_time": "2023-10-02T21:52:35.953548Z",
     "start_time": "2023-10-02T21:52:35.944785Z"
    }
   },
   "outputs": [
    {
     "data": {
      "text/plain": "      setosa  versicolor  virginica\n1   0.060000    0.000000   0.000000\n2   0.126667    0.020000   0.006667\n3   0.113333    0.020000   0.000000\n4   0.033333    0.120000   0.033333\n5   0.000000    0.100000   0.086667\n6   0.000000    0.033333   0.060000\n7   0.000000    0.040000   0.073333\n8   0.000000    0.000000   0.033333\n9   0.000000    0.000000   0.033333\n10  0.000000    0.000000   0.006667",
      "text/html": "<div>\n<style scoped>\n    .dataframe tbody tr th:only-of-type {\n        vertical-align: middle;\n    }\n\n    .dataframe tbody tr th {\n        vertical-align: top;\n    }\n\n    .dataframe thead th {\n        text-align: right;\n    }\n</style>\n<table border=\"1\" class=\"dataframe\">\n  <thead>\n    <tr style=\"text-align: right;\">\n      <th></th>\n      <th>setosa</th>\n      <th>versicolor</th>\n      <th>virginica</th>\n    </tr>\n  </thead>\n  <tbody>\n    <tr>\n      <th>1</th>\n      <td>0.060000</td>\n      <td>0.000000</td>\n      <td>0.000000</td>\n    </tr>\n    <tr>\n      <th>2</th>\n      <td>0.126667</td>\n      <td>0.020000</td>\n      <td>0.006667</td>\n    </tr>\n    <tr>\n      <th>3</th>\n      <td>0.113333</td>\n      <td>0.020000</td>\n      <td>0.000000</td>\n    </tr>\n    <tr>\n      <th>4</th>\n      <td>0.033333</td>\n      <td>0.120000</td>\n      <td>0.033333</td>\n    </tr>\n    <tr>\n      <th>5</th>\n      <td>0.000000</td>\n      <td>0.100000</td>\n      <td>0.086667</td>\n    </tr>\n    <tr>\n      <th>6</th>\n      <td>0.000000</td>\n      <td>0.033333</td>\n      <td>0.060000</td>\n    </tr>\n    <tr>\n      <th>7</th>\n      <td>0.000000</td>\n      <td>0.040000</td>\n      <td>0.073333</td>\n    </tr>\n    <tr>\n      <th>8</th>\n      <td>0.000000</td>\n      <td>0.000000</td>\n      <td>0.033333</td>\n    </tr>\n    <tr>\n      <th>9</th>\n      <td>0.000000</td>\n      <td>0.000000</td>\n      <td>0.033333</td>\n    </tr>\n    <tr>\n      <th>10</th>\n      <td>0.000000</td>\n      <td>0.000000</td>\n      <td>0.006667</td>\n    </tr>\n  </tbody>\n</table>\n</div>"
     },
     "execution_count": 14,
     "metadata": {},
     "output_type": "execute_result"
    }
   ],
   "source": [
    "joint_proba = pd.DataFrame(0, columns=categories, index=xvalues)\n",
    "for x in xvalues:\n",
    "    joint_proba.loc[x] = obs[categories].loc[x] / N\n",
    "joint_proba"
   ]
  },
  {
   "cell_type": "code",
   "execution_count": 15,
   "metadata": {
    "ExecuteTime": {
     "end_time": "2023-10-02T21:52:35.963062Z",
     "start_time": "2023-10-02T21:52:35.958715Z"
    }
   },
   "outputs": [
    {
     "data": {
      "text/plain": "      setosa  versicolor  virginica\n1   1.000000    0.000000   0.000000\n2   0.826087    0.130435   0.043478\n3   0.850000    0.150000   0.000000\n4   0.178571    0.642857   0.178571\n5   0.000000    0.535714   0.464286\n6   0.000000    0.357143   0.642857\n7   0.000000    0.352941   0.647059\n8   0.000000    0.000000   1.000000\n9   0.000000    0.000000   1.000000\n10  0.000000    0.000000   1.000000",
      "text/html": "<div>\n<style scoped>\n    .dataframe tbody tr th:only-of-type {\n        vertical-align: middle;\n    }\n\n    .dataframe tbody tr th {\n        vertical-align: top;\n    }\n\n    .dataframe thead th {\n        text-align: right;\n    }\n</style>\n<table border=\"1\" class=\"dataframe\">\n  <thead>\n    <tr style=\"text-align: right;\">\n      <th></th>\n      <th>setosa</th>\n      <th>versicolor</th>\n      <th>virginica</th>\n    </tr>\n  </thead>\n  <tbody>\n    <tr>\n      <th>1</th>\n      <td>1.000000</td>\n      <td>0.000000</td>\n      <td>0.000000</td>\n    </tr>\n    <tr>\n      <th>2</th>\n      <td>0.826087</td>\n      <td>0.130435</td>\n      <td>0.043478</td>\n    </tr>\n    <tr>\n      <th>3</th>\n      <td>0.850000</td>\n      <td>0.150000</td>\n      <td>0.000000</td>\n    </tr>\n    <tr>\n      <th>4</th>\n      <td>0.178571</td>\n      <td>0.642857</td>\n      <td>0.178571</td>\n    </tr>\n    <tr>\n      <th>5</th>\n      <td>0.000000</td>\n      <td>0.535714</td>\n      <td>0.464286</td>\n    </tr>\n    <tr>\n      <th>6</th>\n      <td>0.000000</td>\n      <td>0.357143</td>\n      <td>0.642857</td>\n    </tr>\n    <tr>\n      <th>7</th>\n      <td>0.000000</td>\n      <td>0.352941</td>\n      <td>0.647059</td>\n    </tr>\n    <tr>\n      <th>8</th>\n      <td>0.000000</td>\n      <td>0.000000</td>\n      <td>1.000000</td>\n    </tr>\n    <tr>\n      <th>9</th>\n      <td>0.000000</td>\n      <td>0.000000</td>\n      <td>1.000000</td>\n    </tr>\n    <tr>\n      <th>10</th>\n      <td>0.000000</td>\n      <td>0.000000</td>\n      <td>1.000000</td>\n    </tr>\n  </tbody>\n</table>\n</div>"
     },
     "execution_count": 15,
     "metadata": {},
     "output_type": "execute_result"
    }
   ],
   "source": [
    "p_y_x = pd.DataFrame(0, columns=categories, index=xvalues)\n",
    "for x in xvalues:\n",
    "    p_y_x.loc[x] = obs[categories].loc[x] / obs[\"m\"].loc[x]\n",
    "p_y_x"
   ]
  },
  {
   "cell_type": "code",
   "execution_count": 16,
   "metadata": {
    "ExecuteTime": {
     "end_time": "2023-10-02T21:52:35.964858Z",
     "start_time": "2023-10-02T21:52:35.962117Z"
    }
   },
   "outputs": [
    {
     "data": {
      "text/plain": "2"
     },
     "execution_count": 16,
     "metadata": {},
     "output_type": "execute_result"
    }
   ],
   "source": [
    "pred_bin = np.digitize(4.75, bins)\n",
    "pred_bin"
   ]
  },
  {
   "cell_type": "code",
   "execution_count": 17,
   "metadata": {
    "ExecuteTime": {
     "end_time": "2023-10-02T21:52:35.980041Z",
     "start_time": "2023-10-02T21:52:35.966916Z"
    }
   },
   "outputs": [
    {
     "data": {
      "text/plain": "['setosa',\n 'setosa',\n 'setosa',\n 'setosa',\n 'setosa',\n 'setosa',\n 'versicolor',\n 'versicolor',\n 'setosa',\n 'setosa']"
     },
     "execution_count": 17,
     "metadata": {},
     "output_type": "execute_result"
    }
   ],
   "source": [
    "predictions = np.random.choice(categories, size=10, p=p_y_x.loc[pred_bin]).tolist()\n",
    "predictions"
   ]
  },
  {
   "cell_type": "markdown",
   "metadata": {
    "id": "SA-qw4kN5IE9"
   },
   "source": [
    "## Approximate $p(x|y)$\n",
    "Take $y$ to be setosa and estimate the probability of sepal length given setosa (or, equivalently, the *likelihood* of setosa given sepal length). Then, generate 10 samples of sepal length and label them appropriately."
   ]
  },
  {
   "cell_type": "code",
   "execution_count": 18,
   "metadata": {
    "ExecuteTime": {
     "end_time": "2023-10-02T21:52:36.029793Z",
     "start_time": "2023-10-02T21:52:35.977497Z"
    }
   },
   "outputs": [
    {
     "data": {
      "text/plain": "    setosa  versicolor  virginica\n1     0.18        0.00       0.00\n2     0.38        0.06       0.02\n3     0.34        0.06       0.00\n4     0.10        0.36       0.10\n5     0.00        0.30       0.26\n6     0.00        0.10       0.18\n7     0.00        0.12       0.22\n8     0.00        0.00       0.10\n9     0.00        0.00       0.10\n10    0.00        0.00       0.02",
      "text/html": "<div>\n<style scoped>\n    .dataframe tbody tr th:only-of-type {\n        vertical-align: middle;\n    }\n\n    .dataframe tbody tr th {\n        vertical-align: top;\n    }\n\n    .dataframe thead th {\n        text-align: right;\n    }\n</style>\n<table border=\"1\" class=\"dataframe\">\n  <thead>\n    <tr style=\"text-align: right;\">\n      <th></th>\n      <th>setosa</th>\n      <th>versicolor</th>\n      <th>virginica</th>\n    </tr>\n  </thead>\n  <tbody>\n    <tr>\n      <th>1</th>\n      <td>0.18</td>\n      <td>0.00</td>\n      <td>0.00</td>\n    </tr>\n    <tr>\n      <th>2</th>\n      <td>0.38</td>\n      <td>0.06</td>\n      <td>0.02</td>\n    </tr>\n    <tr>\n      <th>3</th>\n      <td>0.34</td>\n      <td>0.06</td>\n      <td>0.00</td>\n    </tr>\n    <tr>\n      <th>4</th>\n      <td>0.10</td>\n      <td>0.36</td>\n      <td>0.10</td>\n    </tr>\n    <tr>\n      <th>5</th>\n      <td>0.00</td>\n      <td>0.30</td>\n      <td>0.26</td>\n    </tr>\n    <tr>\n      <th>6</th>\n      <td>0.00</td>\n      <td>0.10</td>\n      <td>0.18</td>\n    </tr>\n    <tr>\n      <th>7</th>\n      <td>0.00</td>\n      <td>0.12</td>\n      <td>0.22</td>\n    </tr>\n    <tr>\n      <th>8</th>\n      <td>0.00</td>\n      <td>0.00</td>\n      <td>0.10</td>\n    </tr>\n    <tr>\n      <th>9</th>\n      <td>0.00</td>\n      <td>0.00</td>\n      <td>0.10</td>\n    </tr>\n    <tr>\n      <th>10</th>\n      <td>0.00</td>\n      <td>0.00</td>\n      <td>0.02</td>\n    </tr>\n  </tbody>\n</table>\n</div>"
     },
     "execution_count": 18,
     "metadata": {},
     "output_type": "execute_result"
    }
   ],
   "source": [
    "p_x_y = pd.DataFrame(0, columns=categories, index=xvalues)\n",
    "for y in yvalues:\n",
    "    p_x_y[categories[y]] = obs[categories[y]] / obs[categories[y]].loc[\"l\"]\n",
    "p_x_y"
   ]
  },
  {
   "cell_type": "code",
   "execution_count": 19,
   "metadata": {
    "ExecuteTime": {
     "end_time": "2023-10-02T21:52:36.052424Z",
     "start_time": "2023-10-02T21:52:35.979733Z"
    }
   },
   "outputs": [
    {
     "name": "stdout",
     "output_type": "stream",
     "text": [
      "[4.3 4.7 5.1 5.5 5.9 6.3 6.7 7.1 7.5 7.9]\n"
     ]
    }
   ],
   "source": [
    "print(bins)"
   ]
  },
  {
   "cell_type": "code",
   "execution_count": 20,
   "outputs": [
    {
     "name": "stdout",
     "output_type": "stream",
     "text": [
      "[4.3 5.1 5.5 4.7 4.3 4.7 5.1 5.1 4.7 4.7]\n"
     ]
    }
   ],
   "source": [
    "sampled_indices = np.random.choice(xvalues, size=10, p=p_x_y[\"setosa\"])\n",
    "sampled_values = bins[sampled_indices - 1]\n",
    "print(sampled_values)"
   ],
   "metadata": {
    "collapsed": false,
    "ExecuteTime": {
     "end_time": "2023-10-02T21:52:36.055349Z",
     "start_time": "2023-10-02T21:52:35.984539Z"
    }
   }
  },
  {
   "cell_type": "markdown",
   "source": [
    "## Histogramas"
   ],
   "metadata": {
    "collapsed": false
   }
  },
  {
   "cell_type": "code",
   "execution_count": 21,
   "outputs": [
    {
     "data": {
      "text/plain": "(array([ 4.,  1.,  6.,  5., 12.,  8.,  4.,  5.,  2.,  3.]),\n array([4.3 , 4.45, 4.6 , 4.75, 4.9 , 5.05, 5.2 , 5.35, 5.5 , 5.65, 5.8 ]),\n <BarContainer object of 10 artists>)"
     },
     "execution_count": 21,
     "metadata": {},
     "output_type": "execute_result"
    },
    {
     "data": {
      "text/plain": "<Figure size 640x480 with 1 Axes>",
      "image/png": "[encoded data removed]"
     },
     "metadata": {},
     "output_type": "display_data"
    }
   ],
   "source": [
    "setosa = iris.data[:50]\n",
    "setosa_sepal_length = setosa[:, 0]\n",
    "plt.hist(setosa_sepal_length)"
   ],
   "metadata": {
    "collapsed": false,
    "ExecuteTime": {
     "end_time": "2023-10-02T21:52:36.182425Z",
     "start_time": "2023-10-02T21:52:35.991858Z"
    }
   }
  },
  {
   "cell_type": "code",
   "execution_count": 22,
   "outputs": [
    {
     "data": {
      "text/plain": "(array([ 4.,  1.,  6., 10.,  5.,  8.,  5.,  3.,  5.,  3.]),\n array([4.9 , 5.11, 5.32, 5.53, 5.74, 5.95, 6.16, 6.37, 6.58, 6.79, 7.  ]),\n <BarContainer object of 10 artists>)"
     },
     "execution_count": 22,
     "metadata": {},
     "output_type": "execute_result"
    },
    {
     "data": {
      "text/plain": "<Figure size 640x480 with 1 Axes>",
      "image/png": "[encoded data removed]"
     },
     "metadata": {},
     "output_type": "display_data"
    }
   ],
   "source": [
    "versicolor = iris.data[50:100]\n",
    "versicolor_sepal_length = versicolor[:, 0]\n",
    "plt.hist(versicolor_sepal_length)"
   ],
   "metadata": {
    "collapsed": false,
    "ExecuteTime": {
     "end_time": "2023-10-02T21:52:36.208888Z",
     "start_time": "2023-10-02T21:52:36.062544Z"
    }
   }
  },
  {
   "cell_type": "code",
   "execution_count": 23,
   "outputs": [
    {
     "data": {
      "text/plain": "(array([ 1.,  0.,  5.,  5.,  8.,  9., 10.,  5.,  1.,  6.]),\n array([4.9, 5.2, 5.5, 5.8, 6.1, 6.4, 6.7, 7. , 7.3, 7.6, 7.9]),\n <BarContainer object of 10 artists>)"
     },
     "execution_count": 23,
     "metadata": {},
     "output_type": "execute_result"
    },
    {
     "data": {
      "text/plain": "<Figure size 640x480 with 1 Axes>",
      "image/png": "[encoded data removed]"
     },
     "metadata": {},
     "output_type": "display_data"
    }
   ],
   "source": [
    "virginica = iris.data[100:150]\n",
    "virginica_sepal_length = virginica[:, 0]\n",
    "plt.hist(virginica_sepal_length)"
   ],
   "metadata": {
    "collapsed": false,
    "ExecuteTime": {
     "end_time": "2023-10-02T21:52:36.303092Z",
     "start_time": "2023-10-02T21:52:36.145499Z"
    }
   }
  },
  {
   "cell_type": "code",
   "execution_count": 24,
   "outputs": [
    {
     "data": {
      "text/plain": "<Figure size 640x480 with 1 Axes>",
      "image/png": "[encoded data removed]"
     },
     "metadata": {},
     "output_type": "display_data"
    }
   ],
   "source": [
    "plt.hist(setosa_sepal_length, color=\"blue\", label=\"Setosa\")\n",
    "plt.hist(versicolor_sepal_length, color=\"red\", label=\"Versicolor\")\n",
    "plt.hist(virginica_sepal_length, color=\"green\", label=\"Virginica\")\n",
    "plt.xlabel('Values')\n",
    "plt.ylabel('Sepal length')\n",
    "plt.legend()\n",
    "plt.grid(True)\n",
    "plt.show()"
   ],
   "metadata": {
    "collapsed": false,
    "ExecuteTime": {
     "end_time": "2023-10-02T21:52:36.343510Z",
     "start_time": "2023-10-02T21:52:36.224212Z"
    }
   }
  },
  {
   "cell_type": "code",
   "execution_count": 24,
   "outputs": [],
   "source": [],
   "metadata": {
    "collapsed": false,
    "ExecuteTime": {
     "end_time": "2023-10-02T21:52:36.343609Z",
     "start_time": "2023-10-02T21:52:36.335493Z"
    }
   }
  }
 ],
 "metadata": {
  "colab": {
   "provenance": [],
   "toc_visible": true
  },
  "kernelspec": {
   "name": "python3",
   "language": "python",
   "display_name": "Python 3 (ipykernel)"
  },
  "language_info": {
   "codemirror_mode": {
    "name": "ipython",
    "version": 3
   },
   "file_extension": ".py",
   "mimetype": "text/x-python",
   "name": "python",
   "nbconvert_exporter": "python",
   "pygments_lexer": "ipython3",
   "version": "3.10.4"
  }
 },
 "nbformat": 4,
 "nbformat_minor": 0
}
