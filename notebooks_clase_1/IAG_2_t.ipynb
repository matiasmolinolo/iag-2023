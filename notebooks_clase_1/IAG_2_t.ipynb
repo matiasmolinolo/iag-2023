{
 "cells": [
  {
   "cell_type": "markdown",
   "metadata": {
    "id": "JgTH-vb24nd5"
   },
   "source": [
    "# Estimating distributions (part 2)\n",
    "The goal of this notebook is to explore a first approach to approximate $p(y|x)$ and $p(x|y)$ on a tabular dataset where $x$ is real-valued, $x\\in\\mathbb{R}^k$, and the target $y$ is discrete and finite, $y\\in\\{0,\\ldots,d\\}⊆\\mathbb{N}, d\\geq 1$."
   ]
  },
  {
   "cell_type": "markdown",
   "metadata": {
    "id": "Q2k8eV_m4blR"
   },
   "source": [
    "## Imports"
   ]
  },
  {
   "cell_type": "code",
   "execution_count": 1,
   "metadata": {
    "id": "btNpRxlWh7P7",
    "ExecuteTime": {
     "end_time": "2023-10-03T22:39:56.013758Z",
     "start_time": "2023-10-03T22:39:54.311009Z"
    }
   },
   "outputs": [],
   "source": [
    "from sklearn import datasets\n",
    "import numpy as np\n",
    "import pandas as pd\n",
    "import matplotlib.pyplot as plt"
   ]
  },
  {
   "cell_type": "markdown",
   "metadata": {
    "id": "mNBA2Pdc3a_E"
   },
   "source": [
    "## Load data set"
   ]
  },
  {
   "cell_type": "code",
   "execution_count": 2,
   "metadata": {
    "id": "UuXlZy-0iMsg",
    "ExecuteTime": {
     "end_time": "2023-10-03T22:39:56.019313Z",
     "start_time": "2023-10-03T22:39:56.014020Z"
    }
   },
   "outputs": [],
   "source": [
    "iris = datasets.load_iris()"
   ]
  },
  {
   "cell_type": "code",
   "execution_count": 3,
   "metadata": {
    "colab": {
     "base_uri": "https://localhost:8080/"
    },
    "id": "QAz6Nk1oowVb",
    "outputId": "0f68d3b9-3366-474a-f380-01686b52a5fb",
    "ExecuteTime": {
     "end_time": "2023-10-03T22:39:56.024697Z",
     "start_time": "2023-10-03T22:39:56.021494Z"
    }
   },
   "outputs": [
    {
     "data": {
      "text/plain": "array(['setosa', 'versicolor', 'virginica'], dtype='<U10')"
     },
     "execution_count": 3,
     "metadata": {},
     "output_type": "execute_result"
    }
   ],
   "source": [
    "iris.target_names"
   ]
  },
  {
   "cell_type": "code",
   "execution_count": 4,
   "metadata": {
    "colab": {
     "base_uri": "https://localhost:8080/"
    },
    "id": "DEc7gkxalucI",
    "outputId": "031d3263-2bc4-4d72-e011-35c22d601d3e",
    "ExecuteTime": {
     "end_time": "2023-10-03T22:39:56.068343Z",
     "start_time": "2023-10-03T22:39:56.065088Z"
    }
   },
   "outputs": [
    {
     "data": {
      "text/plain": "['sepal length (cm)',\n 'sepal width (cm)',\n 'petal length (cm)',\n 'petal width (cm)']"
     },
     "execution_count": 4,
     "metadata": {},
     "output_type": "execute_result"
    }
   ],
   "source": [
    "iris.feature_names"
   ]
  },
  {
   "cell_type": "code",
   "execution_count": 5,
   "metadata": {
    "id": "5wKijNM9iVEY",
    "ExecuteTime": {
     "end_time": "2023-10-03T22:39:56.073245Z",
     "start_time": "2023-10-03T22:39:56.069963Z"
    }
   },
   "outputs": [],
   "source": [
    "X = iris.data\n",
    "y = iris.target"
   ]
  },
  {
   "cell_type": "code",
   "execution_count": 6,
   "outputs": [
    {
     "data": {
      "text/plain": "array([5.1, 4.9, 4.7, 4.6, 5. , 5.4, 4.6, 5. , 4.4, 4.9, 5.4, 4.8, 4.8,\n       4.3, 5.8, 5.7, 5.4, 5.1, 5.7, 5.1, 5.4, 5.1, 4.6, 5.1, 4.8, 5. ,\n       5. , 5.2, 5.2, 4.7, 4.8, 5.4, 5.2, 5.5, 4.9, 5. , 5.5, 4.9, 4.4,\n       5.1, 5. , 4.5, 4.4, 5. , 5.1, 4.8, 5.1, 4.6, 5.3, 5. , 7. , 6.4,\n       6.9, 5.5, 6.5, 5.7, 6.3, 4.9, 6.6, 5.2, 5. , 5.9, 6. , 6.1, 5.6,\n       6.7, 5.6, 5.8, 6.2, 5.6, 5.9, 6.1, 6.3, 6.1, 6.4, 6.6, 6.8, 6.7,\n       6. , 5.7, 5.5, 5.5, 5.8, 6. , 5.4, 6. , 6.7, 6.3, 5.6, 5.5, 5.5,\n       6.1, 5.8, 5. , 5.6, 5.7, 5.7, 6.2, 5.1, 5.7, 6.3, 5.8, 7.1, 6.3,\n       6.5, 7.6, 4.9, 7.3, 6.7, 7.2, 6.5, 6.4, 6.8, 5.7, 5.8, 6.4, 6.5,\n       7.7, 7.7, 6. , 6.9, 5.6, 7.7, 6.3, 6.7, 7.2, 6.2, 6.1, 6.4, 7.2,\n       7.4, 7.9, 6.4, 6.3, 6.1, 7.7, 6.3, 6.4, 6. , 6.9, 6.7, 6.9, 5.8,\n       6.8, 6.7, 6.7, 6.3, 6.5, 6.2, 5.9])"
     },
     "execution_count": 6,
     "metadata": {},
     "output_type": "execute_result"
    }
   ],
   "source": [
    "sepal_length = X[:, 0]\n",
    "sepal_length"
   ],
   "metadata": {
    "collapsed": false,
    "ExecuteTime": {
     "end_time": "2023-10-03T22:39:56.112156Z",
     "start_time": "2023-10-03T22:39:56.072152Z"
    }
   }
  },
  {
   "cell_type": "markdown",
   "source": [
    "## Approximate $p(y|x)$\n",
    "Take $x$ to be sepal length and estimate the conditional probability of the target variable $y$ given $x$. Then, sample 10 values of $y$ given a $x=4.75$."
   ],
   "metadata": {
    "collapsed": false
   }
  },
  {
   "cell_type": "markdown",
   "source": [
    "Realizamos un histograma de sepal length, diferenciando por clase. "
   ],
   "metadata": {
    "collapsed": false
   }
  },
  {
   "cell_type": "code",
   "execution_count": 7,
   "outputs": [],
   "source": [
    "setosa_sepal_length = sepal_length[y == 0]\n",
    "versicolor_sepal_length = sepal_length[y == 1]\n",
    "virginica_sepal_length = sepal_length[y == 2]"
   ],
   "metadata": {
    "collapsed": false,
    "ExecuteTime": {
     "end_time": "2023-10-03T22:39:56.112609Z",
     "start_time": "2023-10-03T22:39:56.092714Z"
    }
   }
  },
  {
   "cell_type": "code",
   "execution_count": 8,
   "outputs": [
    {
     "data": {
      "text/plain": "<Figure size 640x480 with 1 Axes>",
      "image/png": "[encoded data removed]"
     },
     "metadata": {},
     "output_type": "display_data"
    }
   ],
   "source": [
    "plt.hist(sepal_length, bins=10, color=\"orange\", label=\"All\")\n",
    "plt.hist(setosa_sepal_length, bins=10, color=\"blue\", label=\"Setosa\")\n",
    "plt.hist(virginica_sepal_length, bins=10, color=\"green\", label=\"Virginica\")\n",
    "plt.hist(versicolor_sepal_length, bins=10, color=\"red\", label=\"Versicolor\")\n",
    "plt.xlabel(\"Sepal length (cm)\")\n",
    "plt.ylabel(\"Frequency\")\n",
    "plt.title(\"Sepal length per class\")\n",
    "plt.legend()\n",
    "plt.grid(True)\n",
    "plt.show()"
   ],
   "metadata": {
    "collapsed": false,
    "ExecuteTime": {
     "end_time": "2023-10-03T22:39:56.235676Z",
     "start_time": "2023-10-03T22:39:56.100286Z"
    }
   }
  },
  {
   "cell_type": "markdown",
   "source": [
    "Definimos los bins y discretizamos sepal length:"
   ],
   "metadata": {
    "collapsed": false
   }
  },
  {
   "cell_type": "code",
   "execution_count": 9,
   "metadata": {
    "ExecuteTime": {
     "end_time": "2023-10-03T22:39:56.303601Z",
     "start_time": "2023-10-03T22:39:56.240371Z"
    }
   },
   "outputs": [
    {
     "name": "stdout",
     "output_type": "stream",
     "text": [
      "[ 3  2  2  1  2  3  1  2  1  2  3  2  2  1  4  4  3  3  4  3  3  3  1  3\n",
      "  2  2  2  3  3  2  2  3  3  4  2  2  4  2  1  3  2  1  1  2  3  2  3  1\n",
      "  3  2  7  6  7  4  6  4  5  2  6  3  2  5  5  5  4  7  4  4  5  4  5  5\n",
      "  5  5  6  6  7  7  5  4  4  4  4  5  3  5  7  5  4  4  4  5  4  2  4  4\n",
      "  4  5  3  4  5  4  7  5  6  9  2  8  7  8  6  6  7  4  4  6  6  9  9  5\n",
      "  7  4  9  5  7  8  5  5  6  8  8 10  6  5  5  9  5  6  5  7  7  7  4  7\n",
      "  7  7  5  6  5  5]\n"
     ]
    },
    {
     "data": {
      "text/plain": "<Figure size 640x480 with 1 Axes>",
      "image/png": "[encoded data removed]"
     },
     "metadata": {},
     "output_type": "display_data"
    }
   ],
   "source": [
    "bins = np.linspace(sepal_length.min(), sepal_length.max(), 10)\n",
    "\n",
    "sepal_length = np.digitize(sepal_length, bins)\n",
    "\n",
    "print(sepal_length)\n",
    "\n",
    "plt.hist(sepal_length)\n",
    "plt.show()"
   ]
  },
  {
   "cell_type": "markdown",
   "source": [
    "Redefinimos los datos de $X$ divididos por clase con los nuevos datos discretizados, y obtenemos la frecuencia para los bins de cada clase"
   ],
   "metadata": {
    "collapsed": false
   }
  },
  {
   "cell_type": "code",
   "execution_count": 10,
   "outputs": [],
   "source": [
    "setosa_sepal_length = sepal_length[y == 0]\n",
    "versicolor_sepal_length = sepal_length[y == 1]\n",
    "virginica_sepal_length = sepal_length[y == 2]"
   ],
   "metadata": {
    "collapsed": false,
    "ExecuteTime": {
     "end_time": "2023-10-03T22:39:56.310299Z",
     "start_time": "2023-10-03T22:39:56.303668Z"
    }
   }
  },
  {
   "cell_type": "code",
   "execution_count": 11,
   "outputs": [
    {
     "name": "stdout",
     "output_type": "stream",
     "text": [
      "Setosa bins frequencies:  [9, 19, 17, 5, 0, 0, 0, 0, 0, 0]\n",
      "Versicolor bins frequencies:  [0, 3, 3, 18, 15, 5, 6, 0, 0, 0]\n",
      "Virginica bins frequencies:  [0, 1, 0, 5, 13, 9, 11, 5, 5, 1]\n"
     ]
    }
   ],
   "source": [
    "setosa_bin_frequencies, _ = np.histogram(setosa_sepal_length, bins=10, range=(1,10))\n",
    "print(\"Setosa bins frequencies: \", setosa_bin_frequencies.tolist())\n",
    "\n",
    "versicolor_bin_frequencies, _ = np.histogram(versicolor_sepal_length, bins=10, range=(1,10))\n",
    "print(\"Versicolor bins frequencies: \", versicolor_bin_frequencies.tolist())\n",
    "\n",
    "virginica_bin_frequencies, _ = np.histogram(virginica_sepal_length, bins=10, range=(1,10))\n",
    "print(\"Virginica bins frequencies: \", virginica_bin_frequencies.tolist())"
   ],
   "metadata": {
    "collapsed": false,
    "ExecuteTime": {
     "end_time": "2023-10-03T22:39:56.312093Z",
     "start_time": "2023-10-03T22:39:56.308398Z"
    }
   }
  },
  {
   "cell_type": "code",
   "execution_count": 12,
   "outputs": [
    {
     "name": "stdout",
     "output_type": "stream",
     "text": [
      "[1, 2, 3, 4, 5, 6, 7, 8, 9, 10] [0, 1, 2]\n"
     ]
    }
   ],
   "source": [
    "xvalues = np.unique(sepal_length).tolist()\n",
    "yvalues = np.unique(y).tolist()\n",
    "\n",
    "print(xvalues, yvalues)"
   ],
   "metadata": {
    "collapsed": false,
    "ExecuteTime": {
     "end_time": "2023-10-03T22:39:56.319409Z",
     "start_time": "2023-10-03T22:39:56.311964Z"
    }
   }
  },
  {
   "cell_type": "code",
   "execution_count": 13,
   "outputs": [
    {
     "data": {
      "text/plain": "['setosa', 'versicolor', 'virginica']"
     },
     "execution_count": 13,
     "metadata": {},
     "output_type": "execute_result"
    }
   ],
   "source": [
    "categories = list(map(lambda x: iris.target_names[x], yvalues))\n",
    "categories"
   ],
   "metadata": {
    "collapsed": false,
    "ExecuteTime": {
     "end_time": "2023-10-03T22:39:56.319622Z",
     "start_time": "2023-10-03T22:39:56.317675Z"
    }
   }
  },
  {
   "cell_type": "markdown",
   "source": [
    "Vamos a calcular $p(y|x)$ dividiendo la frecuencia de la clase en un bin entre la frecuencia total de ese bin"
   ],
   "metadata": {
    "collapsed": false
   }
  },
  {
   "cell_type": "code",
   "execution_count": 14,
   "outputs": [
    {
     "data": {
      "text/plain": "array([ 9, 23, 20, 28, 28, 14, 17,  5,  5,  1])"
     },
     "execution_count": 14,
     "metadata": {},
     "output_type": "execute_result"
    }
   ],
   "source": [
    "bin_frequencies, _ = np.histogram(sepal_length, bins=10, range=(1,10))\n",
    "bin_frequencies"
   ],
   "metadata": {
    "collapsed": false,
    "ExecuteTime": {
     "end_time": "2023-10-03T22:39:56.400127Z",
     "start_time": "2023-10-03T22:39:56.322728Z"
    }
   }
  },
  {
   "cell_type": "code",
   "execution_count": 15,
   "outputs": [
    {
     "data": {
      "text/plain": "     setosa  versicolor  virginica\n0  1.000000    0.000000   0.000000\n1  0.826087    0.130435   0.043478\n2  0.850000    0.150000   0.000000\n3  0.178571    0.642857   0.178571\n4  0.000000    0.535714   0.464286\n5  0.000000    0.357143   0.642857\n6  0.000000    0.352941   0.647059\n7  0.000000    0.000000   1.000000\n8  0.000000    0.000000   1.000000\n9  0.000000    0.000000   1.000000",
      "text/html": "<div>\n<style scoped>\n    .dataframe tbody tr th:only-of-type {\n        vertical-align: middle;\n    }\n\n    .dataframe tbody tr th {\n        vertical-align: top;\n    }\n\n    .dataframe thead th {\n        text-align: right;\n    }\n</style>\n<table border=\"1\" class=\"dataframe\">\n  <thead>\n    <tr style=\"text-align: right;\">\n      <th></th>\n      <th>setosa</th>\n      <th>versicolor</th>\n      <th>virginica</th>\n    </tr>\n  </thead>\n  <tbody>\n    <tr>\n      <th>0</th>\n      <td>1.000000</td>\n      <td>0.000000</td>\n      <td>0.000000</td>\n    </tr>\n    <tr>\n      <th>1</th>\n      <td>0.826087</td>\n      <td>0.130435</td>\n      <td>0.043478</td>\n    </tr>\n    <tr>\n      <th>2</th>\n      <td>0.850000</td>\n      <td>0.150000</td>\n      <td>0.000000</td>\n    </tr>\n    <tr>\n      <th>3</th>\n      <td>0.178571</td>\n      <td>0.642857</td>\n      <td>0.178571</td>\n    </tr>\n    <tr>\n      <th>4</th>\n      <td>0.000000</td>\n      <td>0.535714</td>\n      <td>0.464286</td>\n    </tr>\n    <tr>\n      <th>5</th>\n      <td>0.000000</td>\n      <td>0.357143</td>\n      <td>0.642857</td>\n    </tr>\n    <tr>\n      <th>6</th>\n      <td>0.000000</td>\n      <td>0.352941</td>\n      <td>0.647059</td>\n    </tr>\n    <tr>\n      <th>7</th>\n      <td>0.000000</td>\n      <td>0.000000</td>\n      <td>1.000000</td>\n    </tr>\n    <tr>\n      <th>8</th>\n      <td>0.000000</td>\n      <td>0.000000</td>\n      <td>1.000000</td>\n    </tr>\n    <tr>\n      <th>9</th>\n      <td>0.000000</td>\n      <td>0.000000</td>\n      <td>1.000000</td>\n    </tr>\n  </tbody>\n</table>\n</div>"
     },
     "execution_count": 15,
     "metadata": {},
     "output_type": "execute_result"
    }
   ],
   "source": [
    "p_y_x = pd.DataFrame(0, columns=categories, index=[])\n",
    "p_y_x[\"setosa\"] = setosa_bin_frequencies / bin_frequencies\n",
    "p_y_x[\"versicolor\"] = versicolor_bin_frequencies / bin_frequencies\n",
    "p_y_x[\"virginica\"] = virginica_bin_frequencies / bin_frequencies\n",
    "p_y_x"
   ],
   "metadata": {
    "collapsed": false,
    "ExecuteTime": {
     "end_time": "2023-10-03T22:39:56.400733Z",
     "start_time": "2023-10-03T22:39:56.330008Z"
    }
   }
  },
  {
   "cell_type": "code",
   "execution_count": 16,
   "outputs": [
    {
     "data": {
      "text/plain": "2"
     },
     "execution_count": 16,
     "metadata": {},
     "output_type": "execute_result"
    }
   ],
   "source": [
    "pred_bin = np.digitize(4.75, bins)\n",
    "pred_bin"
   ],
   "metadata": {
    "collapsed": false,
    "ExecuteTime": {
     "end_time": "2023-10-03T22:39:56.400825Z",
     "start_time": "2023-10-03T22:39:56.338187Z"
    }
   }
  },
  {
   "cell_type": "code",
   "execution_count": 17,
   "outputs": [
    {
     "data": {
      "text/plain": "['setosa',\n 'setosa',\n 'setosa',\n 'versicolor',\n 'setosa',\n 'setosa',\n 'setosa',\n 'setosa',\n 'setosa',\n 'setosa']"
     },
     "execution_count": 17,
     "metadata": {},
     "output_type": "execute_result"
    }
   ],
   "source": [
    "predictions = np.random.choice(categories, size=10, p=p_y_x.loc[pred_bin - 1]).tolist()\n",
    "predictions"
   ],
   "metadata": {
    "collapsed": false,
    "ExecuteTime": {
     "end_time": "2023-10-03T22:39:56.400898Z",
     "start_time": "2023-10-03T22:39:56.342958Z"
    }
   }
  },
  {
   "cell_type": "markdown",
   "source": [
    "## Otra forma utilizando un modelo de tipo mezcla de gaussianas\n",
    "$p(x) = ∑_y p(y) * N(μ_y,σ_y)$ manteniendo $X =$ sepal length"
   ],
   "metadata": {
    "collapsed": false
   }
  },
  {
   "cell_type": "markdown",
   "source": [
    "Obtenemos la media y la desviación estándar del sepal length de cada clase utilizando numpy"
   ],
   "metadata": {
    "collapsed": false
   }
  },
  {
   "cell_type": "code",
   "execution_count": 18,
   "outputs": [],
   "source": [
    "setosa_mean = np.mean(setosa_sepal_length)\n",
    "versicolor_mean = np.mean(versicolor_sepal_length)\n",
    "virginica_mean = np.mean(virginica_sepal_length)\n",
    "\n",
    "setosa_std_dev = np.std(setosa_sepal_length)\n",
    "versicolor_std_dev = np.std(versicolor_sepal_length)\n",
    "virginica_std_dev = np.std(virginica_sepal_length)\n",
    "\n",
    "means = np.array([setosa_mean, versicolor_mean, virginica_mean])\n",
    "stds = np.array([setosa_std_dev, versicolor_std_dev, virginica_std_dev])\n",
    "p_y = np.ones(3) / 3\n",
    "classes = np.unique(y)"
   ],
   "metadata": {
    "collapsed": false,
    "ExecuteTime": {
     "end_time": "2023-10-03T22:39:56.400936Z",
     "start_time": "2023-10-03T22:39:56.348663Z"
    }
   }
  },
  {
   "cell_type": "markdown",
   "source": [
    "Sampleo una clase $y$ y, a partir de la media y la desviación estándar, genero una muestra con distribución normal para la $X$ de esa clase "
   ],
   "metadata": {
    "collapsed": false
   }
  },
  {
   "cell_type": "code",
   "execution_count": 19,
   "outputs": [
    {
     "data": {
      "text/plain": "2"
     },
     "execution_count": 19,
     "metadata": {},
     "output_type": "execute_result"
    }
   ],
   "source": [
    "c = np.random.choice(classes, p=p_y)\n",
    "c"
   ],
   "metadata": {
    "collapsed": false,
    "ExecuteTime": {
     "end_time": "2023-10-03T22:39:56.400999Z",
     "start_time": "2023-10-03T22:39:56.352354Z"
    }
   }
  },
  {
   "cell_type": "code",
   "execution_count": 20,
   "outputs": [
    {
     "data": {
      "text/plain": "array([ 9.28427687,  6.00246066,  5.91207805,  6.56695063,  6.13145481,\n        5.84466895,  7.05438528,  7.18363021,  7.23072419,  8.18308981,\n        5.31591734,  7.50938243,  5.10907694,  4.49917009,  6.79209826,\n        8.75147979,  5.86069952,  4.24526458,  4.60551081,  6.47127655,\n        8.07636271,  3.78472911,  6.15702482,  7.86138973,  6.16264282,\n        8.91053354,  7.5532644 ,  7.63533504,  6.85552712,  6.94242937,\n        3.75786819,  6.57289348,  5.99731271,  6.89330105,  4.64901721,\n        4.50185419,  4.78786543,  5.34740449,  4.17628272,  6.44545818,\n        4.32150986,  6.97408621,  3.91439998,  9.36774979,  7.17283558,\n        5.15935805, 10.33833137,  3.71559386,  5.94199453,  4.6483777 ,\n        6.49021925,  8.37839883,  8.07524446,  5.33116432,  6.91848104,\n        7.26545994,  6.12079522,  7.54785927,  6.00307969,  5.13426426,\n        5.74953305,  3.38122862,  5.39195206,  7.8674465 ,  3.68008751,\n        4.83773298,  6.92227123,  3.26558817,  6.41990082,  8.92185696,\n        6.60009001,  7.73738357,  5.82474956,  6.46744676,  5.39670663,\n        4.32736621,  7.16695589,  3.83513133,  7.25603056,  4.81795689,\n        4.69898078,  5.84199305,  7.64131553,  5.1507987 ,  5.08656195,\n        8.72940064,  7.52177919,  3.20917727,  8.59472789,  5.13153558,\n        3.85407591,  5.59545221,  3.95831133,  5.4165705 ,  3.73877837,\n        3.80878054,  4.00986836,  7.22924795,  6.83991952,  4.33773842])"
     },
     "execution_count": 20,
     "metadata": {},
     "output_type": "execute_result"
    }
   ],
   "source": [
    "sampled_x = np.random.normal(means[c], stds[c], 100)\n",
    "sampled_x"
   ],
   "metadata": {
    "collapsed": false,
    "ExecuteTime": {
     "end_time": "2023-10-03T22:39:56.401444Z",
     "start_time": "2023-10-03T22:39:56.357304Z"
    }
   }
  },
  {
   "cell_type": "code",
   "execution_count": 21,
   "outputs": [
    {
     "data": {
      "text/plain": "(array([12., 10., 15., 14., 12., 16., 12.,  5.,  3.,  1.]),\n array([ 3.20917727,  3.92209268,  4.63500809,  5.3479235 ,  6.06083891,\n         6.77375432,  7.48666973,  8.19958514,  8.91250055,  9.62541596,\n        10.33833137]),\n <BarContainer object of 10 artists>)"
     },
     "execution_count": 21,
     "metadata": {},
     "output_type": "execute_result"
    },
    {
     "data": {
      "text/plain": "<Figure size 640x480 with 1 Axes>",
      "image/png": "[encoded data removed]"
     },
     "metadata": {},
     "output_type": "display_data"
    }
   ],
   "source": [
    "plt.hist(sampled_x)"
   ],
   "metadata": {
    "collapsed": false,
    "ExecuteTime": {
     "end_time": "2023-10-03T22:39:56.580422Z",
     "start_time": "2023-10-03T22:39:56.367693Z"
    }
   }
  },
  {
   "cell_type": "code",
   "execution_count": 22,
   "outputs": [
    {
     "name": "stdout",
     "output_type": "stream",
     "text": [
      "Media de los datos sampleados:  6.067037242883775\n",
      "Media original:  6.26\n",
      "Desviación estándar de los datos sampleados:  1.5983825283838917\n",
      "Desviación estándar original:  1.659035864591239\n"
     ]
    }
   ],
   "source": [
    "print(\"Media de los datos sampleados: \", np.mean(sampled_x))\n",
    "print(\"Media original: \", means[c])\n",
    "\n",
    "print(\"Desviación estándar de los datos sampleados: \", np.std(sampled_x))\n",
    "print(\"Desviación estándar original: \", stds[c])"
   ],
   "metadata": {
    "collapsed": false,
    "ExecuteTime": {
     "end_time": "2023-10-03T22:39:56.588710Z",
     "start_time": "2023-10-03T22:39:56.439222Z"
    }
   }
  },
  {
   "cell_type": "markdown",
   "source": [
    "Se puede observar que los datos sampleados tienen distribución normal y la misma es similar a la original."
   ],
   "metadata": {
    "collapsed": false
   }
  },
  {
   "cell_type": "markdown",
   "metadata": {
    "id": "SA-qw4kN5IE9"
   },
   "source": [
    "## Approximate $p(x|y)$\n",
    "Take $y$ to be setosa and estimate the probability of sepal length given setosa (or, equivalently, the *likelihood* of setosa given sepal length). Then, generate 10 samples of sepal length and label them appropriately."
   ]
  },
  {
   "cell_type": "markdown",
   "source": [
    "### Histogramas\n",
    "Realizamos histogramas separando por $y$ para observar la distribución de cada clase."
   ],
   "metadata": {
    "collapsed": false
   }
  },
  {
   "cell_type": "markdown",
   "source": [
    "#### Setosa"
   ],
   "metadata": {
    "collapsed": false
   }
  },
  {
   "cell_type": "code",
   "execution_count": 23,
   "outputs": [
    {
     "data": {
      "text/plain": "(array([ 9.,  0.,  0., 19.,  0.,  0., 17.,  0.,  0.,  5.]),\n array([1. , 1.3, 1.6, 1.9, 2.2, 2.5, 2.8, 3.1, 3.4, 3.7, 4. ]),\n <BarContainer object of 10 artists>)"
     },
     "execution_count": 23,
     "metadata": {},
     "output_type": "execute_result"
    },
    {
     "data": {
      "text/plain": "<Figure size 640x480 with 1 Axes>",
      "image/png": "[encoded data removed]"
     },
     "metadata": {},
     "output_type": "display_data"
    }
   ],
   "source": [
    "plt.hist(setosa_sepal_length, bins=10)"
   ],
   "metadata": {
    "collapsed": false,
    "ExecuteTime": {
     "end_time": "2023-10-03T22:39:56.813822Z",
     "start_time": "2023-10-03T22:39:56.448696Z"
    }
   }
  },
  {
   "cell_type": "code",
   "execution_count": 24,
   "outputs": [
    {
     "data": {
      "text/plain": "array([3, 2, 2, 1, 2, 3, 1, 2, 1, 2, 3, 2, 2, 1, 4, 4, 3, 3, 4, 3, 3, 3,\n       1, 3, 2, 2, 2, 3, 3, 2, 2, 3, 3, 4, 2, 2, 4, 2, 1, 3, 2, 1, 1, 2,\n       3, 2, 3, 1, 3, 2])"
     },
     "execution_count": 24,
     "metadata": {},
     "output_type": "execute_result"
    }
   ],
   "source": [
    "setosa_sepal_length"
   ],
   "metadata": {
    "collapsed": false,
    "ExecuteTime": {
     "end_time": "2023-10-03T22:39:56.813947Z",
     "start_time": "2023-10-03T22:39:56.521117Z"
    }
   }
  },
  {
   "cell_type": "code",
   "execution_count": 25,
   "outputs": [
    {
     "name": "stdout",
     "output_type": "stream",
     "text": [
      "Bins frequencies:  [9, 19, 17, 5, 0, 0, 0, 0, 0, 0]\n",
      "Mean:  2.36\n",
      "Standard deviation:  0.8890444308357147\n"
     ]
    }
   ],
   "source": [
    "print(\"Bins frequencies: \", setosa_bin_frequencies.tolist())\n",
    "\n",
    "print(\"Mean: \", setosa_mean)\n",
    "\n",
    "print(\"Standard deviation: \", setosa_std_dev)\n",
    "\n",
    "setosa_sample = np.random.normal(setosa_mean, setosa_std_dev, 1000)"
   ],
   "metadata": {
    "collapsed": false,
    "ExecuteTime": {
     "end_time": "2023-10-03T22:39:56.814013Z",
     "start_time": "2023-10-03T22:39:56.525150Z"
    }
   }
  },
  {
   "cell_type": "code",
   "execution_count": 26,
   "outputs": [
    {
     "data": {
      "text/plain": "(array([ 1.,  0.,  1.,  0.,  0.,  0.,  1.,  5.,  0.,  5.,  8.,  4., 14.,\n        16., 15., 22., 24., 28., 30., 33., 47., 34., 44., 46., 50., 45.,\n        45., 55., 48., 41., 58., 39., 40., 30., 32., 31., 28., 21., 16.,\n        10.,  8.,  6.,  5.,  2.,  2.,  3.,  2.,  3.,  0.,  2.]),\n array([-0.63985283, -0.52652807, -0.41320332, -0.29987856, -0.18655381,\n        -0.07322905,  0.04009571,  0.15342046,  0.26674522,  0.38006997,\n         0.49339473,  0.60671949,  0.72004424,  0.833369  ,  0.94669375,\n         1.06001851,  1.17334327,  1.28666802,  1.39999278,  1.51331753,\n         1.62664229,  1.73996705,  1.8532918 ,  1.96661656,  2.07994131,\n         2.19326607,  2.30659083,  2.41991558,  2.53324034,  2.64656509,\n         2.75988985,  2.87321461,  2.98653936,  3.09986412,  3.21318887,\n         3.32651363,  3.43983839,  3.55316314,  3.6664879 ,  3.77981265,\n         3.89313741,  4.00646217,  4.11978692,  4.23311168,  4.34643643,\n         4.45976119,  4.57308595,  4.6864107 ,  4.79973546,  4.91306022,\n         5.02638497]),\n <BarContainer object of 50 artists>)"
     },
     "execution_count": 26,
     "metadata": {},
     "output_type": "execute_result"
    },
    {
     "data": {
      "text/plain": "<Figure size 640x480 with 1 Axes>",
      "image/png": "[encoded data removed]"
     },
     "metadata": {},
     "output_type": "display_data"
    }
   ],
   "source": [
    "plt.hist(setosa_sample, bins=50)"
   ],
   "metadata": {
    "collapsed": false,
    "ExecuteTime": {
     "end_time": "2023-10-03T22:39:56.817649Z",
     "start_time": "2023-10-03T22:39:56.530684Z"
    }
   }
  },
  {
   "cell_type": "markdown",
   "source": [
    "#### Versicolor"
   ],
   "metadata": {
    "collapsed": false
   }
  },
  {
   "cell_type": "code",
   "execution_count": 27,
   "outputs": [
    {
     "data": {
      "text/plain": "(array([ 3.,  0.,  3.,  0., 18.,  0., 15.,  0.,  5.,  6.]),\n array([2. , 2.5, 3. , 3.5, 4. , 4.5, 5. , 5.5, 6. , 6.5, 7. ]),\n <BarContainer object of 10 artists>)"
     },
     "execution_count": 27,
     "metadata": {},
     "output_type": "execute_result"
    },
    {
     "data": {
      "text/plain": "<Figure size 640x480 with 1 Axes>",
      "image/png": "[encoded data removed]"
     },
     "metadata": {},
     "output_type": "display_data"
    }
   ],
   "source": [
    "plt.hist(versicolor_sepal_length)"
   ],
   "metadata": {
    "collapsed": false,
    "ExecuteTime": {
     "end_time": "2023-10-03T22:39:56.817783Z",
     "start_time": "2023-10-03T22:39:56.785658Z"
    }
   }
  },
  {
   "cell_type": "code",
   "execution_count": 28,
   "outputs": [
    {
     "name": "stdout",
     "output_type": "stream",
     "text": [
      "Bins frequencies:  [0, 3, 3, 18, 15, 5, 6, 0, 0, 0]\n",
      "Mean:  4.68\n",
      "Standard deviation:  1.2718490476467716\n"
     ]
    }
   ],
   "source": [
    "print(\"Bins frequencies: \", versicolor_bin_frequencies.tolist())\n",
    "\n",
    "print(\"Mean: \", versicolor_mean)\n",
    "\n",
    "print(\"Standard deviation: \", versicolor_std_dev)\n",
    "\n",
    "versicolor_sample = np.random.normal(versicolor_mean, versicolor_std_dev, 1000)"
   ],
   "metadata": {
    "collapsed": false,
    "ExecuteTime": {
     "end_time": "2023-10-03T22:39:56.817851Z",
     "start_time": "2023-10-03T22:39:56.785836Z"
    }
   }
  },
  {
   "cell_type": "code",
   "execution_count": 29,
   "outputs": [
    {
     "data": {
      "text/plain": "(array([ 1.,  0.,  0.,  0.,  2.,  3.,  4.,  3.,  0.,  5.,  4.,  7.,  9.,\n         6., 11., 24., 26., 26., 24., 29., 37., 34., 42., 48., 47., 45.,\n        56., 55., 56., 55., 47., 35., 48., 36., 38., 22., 25., 25., 18.,\n        12., 14.,  4.,  3.,  3.,  2.,  4.,  2.,  1.,  0.,  2.]),\n array([0.21305311, 0.37913109, 0.54520908, 0.71128707, 0.87736505,\n        1.04344304, 1.20952102, 1.37559901, 1.54167699, 1.70775498,\n        1.87383297, 2.03991095, 2.20598894, 2.37206692, 2.53814491,\n        2.70422289, 2.87030088, 3.03637887, 3.20245685, 3.36853484,\n        3.53461282, 3.70069081, 3.86676879, 4.03284678, 4.19892477,\n        4.36500275, 4.53108074, 4.69715872, 4.86323671, 5.02931469,\n        5.19539268, 5.36147067, 5.52754865, 5.69362664, 5.85970462,\n        6.02578261, 6.19186059, 6.35793858, 6.52401656, 6.69009455,\n        6.85617254, 7.02225052, 7.18832851, 7.35440649, 7.52048448,\n        7.68656246, 7.85264045, 8.01871844, 8.18479642, 8.35087441,\n        8.51695239]),\n <BarContainer object of 50 artists>)"
     },
     "execution_count": 29,
     "metadata": {},
     "output_type": "execute_result"
    },
    {
     "data": {
      "text/plain": "<Figure size 640x480 with 1 Axes>",
      "image/png": "[encoded data removed]"
     },
     "metadata": {},
     "output_type": "display_data"
    }
   ],
   "source": [
    "plt.hist(versicolor_sample, bins=50)"
   ],
   "metadata": {
    "collapsed": false,
    "ExecuteTime": {
     "end_time": "2023-10-03T22:39:56.967241Z",
     "start_time": "2023-10-03T22:39:56.785871Z"
    }
   }
  },
  {
   "cell_type": "markdown",
   "source": [
    "#### Virginica"
   ],
   "metadata": {
    "collapsed": false
   }
  },
  {
   "cell_type": "code",
   "execution_count": 30,
   "outputs": [
    {
     "data": {
      "text/plain": "(array([ 1.,  0.,  5., 13.,  0.,  9., 11.,  5.,  5.,  1.]),\n array([ 2. ,  2.8,  3.6,  4.4,  5.2,  6. ,  6.8,  7.6,  8.4,  9.2, 10. ]),\n <BarContainer object of 10 artists>)"
     },
     "execution_count": 30,
     "metadata": {},
     "output_type": "execute_result"
    },
    {
     "data": {
      "text/plain": "<Figure size 640x480 with 1 Axes>",
      "image/png": "[encoded data removed]"
     },
     "metadata": {},
     "output_type": "display_data"
    }
   ],
   "source": [
    "plt.hist(virginica_sepal_length)"
   ],
   "metadata": {
    "collapsed": false,
    "ExecuteTime": {
     "end_time": "2023-10-03T22:39:56.970200Z",
     "start_time": "2023-10-03T22:39:56.847721Z"
    }
   }
  },
  {
   "cell_type": "code",
   "execution_count": 31,
   "outputs": [
    {
     "name": "stdout",
     "output_type": "stream",
     "text": [
      "Bins frequencies:  [0, 1, 0, 5, 13, 9, 11, 5, 5, 1]\n",
      "Mean:  6.26\n",
      "Standard deviation:  1.659035864591239\n"
     ]
    }
   ],
   "source": [
    "print(\"Bins frequencies: \", virginica_bin_frequencies.tolist())\n",
    "\n",
    "print(\"Mean: \", virginica_mean)\n",
    "\n",
    "print(\"Standard deviation: \", virginica_std_dev)\n",
    "\n",
    "virginica_sample = np.random.normal(virginica_mean, virginica_std_dev, 1000)"
   ],
   "metadata": {
    "collapsed": false,
    "ExecuteTime": {
     "end_time": "2023-10-03T22:39:56.970310Z",
     "start_time": "2023-10-03T22:39:56.915218Z"
    }
   }
  },
  {
   "cell_type": "code",
   "execution_count": 32,
   "outputs": [
    {
     "data": {
      "text/plain": "(array([ 1.,  2.,  0.,  1.,  1.,  2.,  4.,  3.,  9.,  7.,  6., 10., 15.,\n        13., 25., 17., 25., 30., 39., 29., 41., 37., 43., 53., 66., 68.,\n        58., 60., 53., 49., 35., 37., 27., 27., 19., 15., 18., 16.,  7.,\n         7., 10.,  3.,  5.,  2.,  1.,  2.,  0.,  0.,  1.,  1.]),\n array([ 0.88814086,  1.10054529,  1.31294973,  1.52535416,  1.73775859,\n         1.95016302,  2.16256745,  2.37497189,  2.58737632,  2.79978075,\n         3.01218518,  3.22458961,  3.43699405,  3.64939848,  3.86180291,\n         4.07420734,  4.28661177,  4.49901621,  4.71142064,  4.92382507,\n         5.1362295 ,  5.34863393,  5.56103837,  5.7734428 ,  5.98584723,\n         6.19825166,  6.4106561 ,  6.62306053,  6.83546496,  7.04786939,\n         7.26027382,  7.47267826,  7.68508269,  7.89748712,  8.10989155,\n         8.32229598,  8.53470042,  8.74710485,  8.95950928,  9.17191371,\n         9.38431814,  9.59672258,  9.80912701, 10.02153144, 10.23393587,\n        10.44634031, 10.65874474, 10.87114917, 11.0835536 , 11.29595803,\n        11.50836247]),\n <BarContainer object of 50 artists>)"
     },
     "execution_count": 32,
     "metadata": {},
     "output_type": "execute_result"
    },
    {
     "data": {
      "text/plain": "<Figure size 640x480 with 1 Axes>",
      "image/png": "[encoded data removed]"
     },
     "metadata": {},
     "output_type": "display_data"
    }
   ],
   "source": [
    "plt.hist(virginica_sample, bins=50)"
   ],
   "metadata": {
    "collapsed": false,
    "ExecuteTime": {
     "end_time": "2023-10-03T22:39:57.055427Z",
     "start_time": "2023-10-03T22:39:56.922845Z"
    }
   }
  },
  {
   "cell_type": "markdown",
   "source": [
    "Comprobamos que en los datos originales hay 3 distribuciones normales pero distintas, ya que cada una tiene una media y desviación estándar distinta: "
   ],
   "metadata": {
    "collapsed": false
   }
  },
  {
   "cell_type": "code",
   "execution_count": 33,
   "outputs": [
    {
     "data": {
      "text/plain": "<Figure size 640x480 with 1 Axes>",
      "image/png": "[encoded data removed]"
     },
     "metadata": {},
     "output_type": "display_data"
    }
   ],
   "source": [
    "plt.hist(setosa_sepal_length, bins=10, color=\"blue\", label=\"Setosa\")\n",
    "plt.hist(versicolor_sepal_length, bins=10, color=\"red\", label=\"Versicolor\")\n",
    "plt.hist(virginica_sepal_length, bins=10, color=\"green\", label=\"Virginica\")\n",
    "plt.xlabel(\"Sepal length\")\n",
    "plt.ylabel(\"Frequency\")\n",
    "plt.title(\"Dicretized data\")\n",
    "plt.legend()\n",
    "plt.grid(True)\n",
    "plt.show()"
   ],
   "metadata": {
    "collapsed": false,
    "ExecuteTime": {
     "end_time": "2023-10-03T22:39:57.138203Z",
     "start_time": "2023-10-03T22:39:57.027373Z"
    }
   }
  },
  {
   "cell_type": "code",
   "execution_count": 34,
   "outputs": [
    {
     "data": {
      "text/plain": "<Figure size 640x480 with 1 Axes>",
      "image/png": "[encoded data removed]"
     },
     "metadata": {},
     "output_type": "display_data"
    }
   ],
   "source": [
    "plt.hist(setosa_sample, bins=50, color=\"blue\", label=\"Setosa\")\n",
    "plt.hist(versicolor_sample, bins=50, color=\"red\", label=\"Versicolor\")\n",
    "plt.hist(virginica_sample, bins=50, color=\"green\", label=\"Virginica\")\n",
    "plt.xlabel(\"Sepal length\")\n",
    "plt.ylabel(\"Frequency\")\n",
    "plt.title(\"Sampled data\")\n",
    "plt.legend()\n",
    "plt.grid(True)\n",
    "plt.show()"
   ],
   "metadata": {
    "collapsed": false,
    "ExecuteTime": {
     "end_time": "2023-10-03T22:39:57.407279Z",
     "start_time": "2023-10-03T22:39:57.186428Z"
    }
   }
  },
  {
   "cell_type": "markdown",
   "source": [
    "Definimos p(x|y) a partir de los histogramas"
   ],
   "metadata": {
    "collapsed": false
   }
  },
  {
   "cell_type": "code",
   "execution_count": 35,
   "outputs": [
    {
     "data": {
      "text/plain": "   setosa  versicolor  virginica\n0    0.18        0.00       0.00\n1    0.38        0.06       0.02\n2    0.34        0.06       0.00\n3    0.10        0.36       0.10\n4    0.00        0.30       0.26\n5    0.00        0.10       0.18\n6    0.00        0.12       0.22\n7    0.00        0.00       0.10\n8    0.00        0.00       0.10\n9    0.00        0.00       0.02",
      "text/html": "<div>\n<style scoped>\n    .dataframe tbody tr th:only-of-type {\n        vertical-align: middle;\n    }\n\n    .dataframe tbody tr th {\n        vertical-align: top;\n    }\n\n    .dataframe thead th {\n        text-align: right;\n    }\n</style>\n<table border=\"1\" class=\"dataframe\">\n  <thead>\n    <tr style=\"text-align: right;\">\n      <th></th>\n      <th>setosa</th>\n      <th>versicolor</th>\n      <th>virginica</th>\n    </tr>\n  </thead>\n  <tbody>\n    <tr>\n      <th>0</th>\n      <td>0.18</td>\n      <td>0.00</td>\n      <td>0.00</td>\n    </tr>\n    <tr>\n      <th>1</th>\n      <td>0.38</td>\n      <td>0.06</td>\n      <td>0.02</td>\n    </tr>\n    <tr>\n      <th>2</th>\n      <td>0.34</td>\n      <td>0.06</td>\n      <td>0.00</td>\n    </tr>\n    <tr>\n      <th>3</th>\n      <td>0.10</td>\n      <td>0.36</td>\n      <td>0.10</td>\n    </tr>\n    <tr>\n      <th>4</th>\n      <td>0.00</td>\n      <td>0.30</td>\n      <td>0.26</td>\n    </tr>\n    <tr>\n      <th>5</th>\n      <td>0.00</td>\n      <td>0.10</td>\n      <td>0.18</td>\n    </tr>\n    <tr>\n      <th>6</th>\n      <td>0.00</td>\n      <td>0.12</td>\n      <td>0.22</td>\n    </tr>\n    <tr>\n      <th>7</th>\n      <td>0.00</td>\n      <td>0.00</td>\n      <td>0.10</td>\n    </tr>\n    <tr>\n      <th>8</th>\n      <td>0.00</td>\n      <td>0.00</td>\n      <td>0.10</td>\n    </tr>\n    <tr>\n      <th>9</th>\n      <td>0.00</td>\n      <td>0.00</td>\n      <td>0.02</td>\n    </tr>\n  </tbody>\n</table>\n</div>"
     },
     "execution_count": 35,
     "metadata": {},
     "output_type": "execute_result"
    }
   ],
   "source": [
    "p_x_y = pd.DataFrame(0, columns=categories, index=[])\n",
    "p_x_y[\"setosa\"] = setosa_bin_frequencies / np.sum(setosa_bin_frequencies)\n",
    "p_x_y[\"versicolor\"] = versicolor_bin_frequencies / np.sum(versicolor_bin_frequencies)\n",
    "p_x_y[\"virginica\"] = virginica_bin_frequencies / np.sum(virginica_bin_frequencies)\n",
    "p_x_y"
   ],
   "metadata": {
    "collapsed": false,
    "ExecuteTime": {
     "end_time": "2023-10-03T22:39:57.416082Z",
     "start_time": "2023-10-03T22:39:57.413195Z"
    }
   }
  },
  {
   "cell_type": "markdown",
   "source": [
    "Se samplea un bin de acuerdo a p(x|y) y dentro del bin obtenido se samplea un x con distribución uniforme"
   ],
   "metadata": {
    "collapsed": false
   }
  },
  {
   "cell_type": "code",
   "execution_count": 36,
   "outputs": [
    {
     "data": {
      "text/plain": "array([4.97116739, 4.8275199 , 4.47870553, 4.39875138, 5.1824355 ,\n       5.02818294, 4.70244491, 5.05239826, 5.33856329, 4.98135141])"
     },
     "execution_count": 36,
     "metadata": {},
     "output_type": "execute_result"
    }
   ],
   "source": [
    "sampled_bins = np.random.choice(xvalues, size=10, p=p_x_y[\"setosa\"])\n",
    "sampled_values = np.random.uniform(low=np.where(sampled_bins - 2 == -1, bins[0], bins[sampled_bins - 2]), high=np.where(sampled_bins - 2 == -1, bins[1], bins[sampled_bins - 1]))\n",
    "sampled_values"
   ],
   "metadata": {
    "collapsed": false,
    "ExecuteTime": {
     "end_time": "2023-10-03T22:39:57.426630Z",
     "start_time": "2023-10-03T22:39:57.418395Z"
    }
   }
  }
 ],
 "metadata": {
  "colab": {
   "provenance": [],
   "toc_visible": true
  },
  "kernelspec": {
   "name": "python3",
   "language": "python",
   "display_name": "Python 3 (ipykernel)"
  },
  "language_info": {
   "codemirror_mode": {
    "name": "ipython",
    "version": 3
   },
   "file_extension": ".py",
   "mimetype": "text/x-python",
   "name": "python",
   "nbconvert_exporter": "python",
   "pygments_lexer": "ipython3",
   "version": "3.10.4"
  }
 },
 "nbformat": 4,
 "nbformat_minor": 0
}
