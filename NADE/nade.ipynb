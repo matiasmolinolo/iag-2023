{
 "cells": [
  {
   "cell_type": "code",
   "execution_count": null,
   "metadata": {},
   "outputs": [],
   "source": [
    "import torch\n",
    "import torch.nn as nn"
   ]
  },
  {
   "cell_type": "code",
   "execution_count": null,
   "metadata": {},
   "outputs": [],
   "source": [
    "from tqdm.auto import tqdm"
   ]
  },
  {
   "cell_type": "code",
   "execution_count": null,
   "metadata": {},
   "outputs": [],
   "source": [
    "class NADE(nn.Module):\n",
    "    def __init__(self, input_dim, hidden_size):\n",
    "        super(NADE, self).__init__()\n",
    "        self.input_dim = input_dim\n",
    "        self.hidden_size = hidden_size\n",
    "\n",
    "        self.W_in = nn.Parameter(torch.randn(input_dim, hidden_size))\n",
    "        self.b_in = nn.Parameter(torch.randn(input_dim))\n",
    "\n",
    "        self.W_hidden = nn.Parameter(torch.randn(hidden_size, input_dim))\n",
    "        self.b_hidden = nn.Parameter(torch.randn(hidden_size))\n",
    "\n",
    "    def forward(self, x):\n",
    "        batch_size = x.shape[0]\n",
    "        num_features = x.shape[1]\n",
    "\n",
    "        a = self.b_hidden\n",
    "        \n",
    "        probs = torch.zeros(batch_size, num_features)\n",
    "\n",
    "        for i in range(num_features):\n",
    "            h = torch.sigmoid(a).reshape(-1, self.hidden_size)\n",
    "            probs[:, i] = torch.sigmoid(self.W_in[i, :] @ h.T + self.b_in[i])\n",
    "            a = torch.matmul(self.W_hidden[:, i].reshape(-1, 1), x[:, i].reshape(1, -1)).reshape(-1, self.hidden_size) + a\n",
    "        \n",
    "        return probs\n",
    "    \n",
    "    def sample(self, device):\n",
    "        with torch.no_grad():\n",
    "            preds = torch.zeros(1, self.input_dim).to(device)\n",
    "            for i in tqdm(range(self.input_dim)):\n",
    "                p = self.forward(preds)\n",
    "                preds[:, i] = torch.bernoulli(p[:, i])\n",
    "            \n",
    "            return torch.reshape(preds.cpu(), (28, 28))"
   ]
  },
  {
   "cell_type": "code",
   "execution_count": null,
   "metadata": {},
   "outputs": [],
   "source": [
    "in_size = 784\n",
    "hidden_size = 500"
   ]
  },
  {
   "cell_type": "code",
   "execution_count": null,
   "metadata": {},
   "outputs": [],
   "source": [
    "import torch.optim as optim\n",
    "from torchvision import datasets, transforms\n",
    "from torch.utils.data import DataLoader"
   ]
  },
  {
   "cell_type": "code",
   "execution_count": null,
   "metadata": {},
   "outputs": [],
   "source": [
    "transform = transforms.Compose([\n",
    "    transforms.ToTensor(),\n",
    "    lambda x: (x >= 0.5).float(),\n",
    "])\n",
    "\n",
    "original_train_dataset = datasets.MNIST(root='./data', train=True, transform=transform, download=True)\n",
    "original_test_dataset = datasets.MNIST(root='./data', train=False, transform=transform, download=True)\n",
    "\n",
    "filter_digit = 3\n",
    "\n",
    "filtered_train_dataset = [item for item in original_train_dataset if item[1] == filter_digit]\n",
    "filtered_test_dataset = [item for item in original_test_dataset if item[1] == filter_digit]\n",
    "\n",
    "filtered_dataset = filtered_train_dataset + filtered_test_dataset\n",
    "\n",
    "data_loader = DataLoader(filtered_dataset, batch_size=64, shuffle=True, num_workers=4)"
   ]
  },
  {
   "cell_type": "code",
   "execution_count": null,
   "metadata": {},
   "outputs": [],
   "source": [
    "device = torch.device('cuda:0' if torch.cuda.is_available() else 'mps' if torch.backends.mps.is_available() else 'cpu')\n",
    "device"
   ]
  },
  {
   "cell_type": "code",
   "execution_count": null,
   "metadata": {},
   "outputs": [],
   "source": [
    "nade = NADE(in_size, hidden_size).to(device)"
   ]
  },
  {
   "cell_type": "code",
   "execution_count": null,
   "metadata": {},
   "outputs": [],
   "source": [
    "criterion = nn.BCELoss().to(device)\n",
    "optim = optim.Adam(nade.parameters(), lr=0.001)"
   ]
  },
  {
   "cell_type": "code",
   "execution_count": null,
   "metadata": {},
   "outputs": [],
   "source": [
    "from timeit import default_timer as timer\n",
    "\n",
    "epochs = 30\n",
    "for epoch in range(epochs):\n",
    "    t0 = timer()\n",
    "    epoch_loss = 0\n",
    "    for batch, (data, _) in enumerate(data_loader):\n",
    "        data = data.view(in_size, -1).to(device)\n",
    "\n",
    "        optim.zero_grad()\n",
    "        output = nade(data)\n",
    "        loss = criterion(output.to(device), data)\n",
    "        epoch_loss += loss.item()\n",
    "        loss.backward()\n",
    "        optim.step()\n",
    "\n",
    "    t1 = timer()\n",
    "    print(f'Epoch: {epoch + 1}, Loss: {epoch_loss/len(data_loader)}, Time taken: {(t1 - t0):.2f} s')"
   ]
  },
  {
   "cell_type": "code",
   "execution_count": null,
   "metadata": {},
   "outputs": [],
   "source": [
    "import os\n",
    "os.environ['KMP_DUPLICATE_LIB_OK'] = 'True'"
   ]
  },
  {
   "cell_type": "code",
   "execution_count": null,
   "metadata": {},
   "outputs": [],
   "source": [
    "torch.save(nade, 'nade.pt')"
   ]
  },
  {
   "cell_type": "code",
   "execution_count": null,
   "metadata": {},
   "outputs": [],
   "source": [
    "nade = torch.load('nade.pt')"
   ]
  },
  {
   "cell_type": "code",
   "execution_count": null,
   "metadata": {},
   "outputs": [],
   "source": [
    "img = nade.sample(device)"
   ]
  },
  {
   "cell_type": "code",
   "execution_count": null,
   "metadata": {},
   "outputs": [],
   "source": [
    "import matplotlib.pyplot as plt"
   ]
  },
  {
   "cell_type": "code",
   "execution_count": null,
   "metadata": {},
   "outputs": [],
   "source": [
    "def show_sample(img):\n",
    "    plt.imshow(img.squeeze(), cmap='gray')\n",
    "    plt.axis('off')\n",
    "    plt.show()"
   ]
  },
  {
   "cell_type": "code",
   "execution_count": null,
   "metadata": {},
   "outputs": [],
   "source": [
    "show_sample(img)"
   ]
  }
 ],
 "metadata": {
  "kernelspec": {
   "display_name": "iag",
   "language": "python",
   "name": "python3"
  },
  "language_info": {
   "codemirror_mode": {
    "name": "ipython",
    "version": 3
   },
   "file_extension": ".py",
   "mimetype": "text/x-python",
   "name": "python",
   "nbconvert_exporter": "python",
   "pygments_lexer": "ipython3",
   "version": "3.11.4"
  },
  "orig_nbformat": 4
 },
 "nbformat": 4,
 "nbformat_minor": 2
}
