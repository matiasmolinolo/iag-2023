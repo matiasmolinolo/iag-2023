{
  "cells": [
    {
      "cell_type": "code",
      "execution_count": 1,
      "metadata": {
        "id": "b6TDkx2fAkyI"
      },
      "outputs": [],
      "source": [
        "import torch\n",
        "import torch.nn as nn"
      ]
    },
    {
      "cell_type": "code",
      "execution_count": 2,
      "metadata": {
        "id": "FEfgHXdDAkyK"
      },
      "outputs": [
        {
          "name": "stderr",
          "output_type": "stream",
          "text": [
            "/Users/matiasmolinolo/anaconda3/envs/iag/lib/python3.11/site-packages/tqdm/auto.py:21: TqdmWarning: IProgress not found. Please update jupyter and ipywidgets. See https://ipywidgets.readthedocs.io/en/stable/user_install.html\n",
            "  from .autonotebook import tqdm as notebook_tqdm\n"
          ]
        }
      ],
      "source": [
        "from tqdm.auto import tqdm"
      ]
    },
    {
      "cell_type": "code",
      "execution_count": 3,
      "metadata": {
        "id": "OUq4UcvmAkyM"
      },
      "outputs": [],
      "source": [
        "in_size = 28*28\n",
        "hidden_size = 128"
      ]
    },
    {
      "cell_type": "code",
      "execution_count": 4,
      "metadata": {
        "id": "PmU_t7mDAkyN"
      },
      "outputs": [],
      "source": [
        "import torch.optim as optim\n",
        "from torchvision import datasets, transforms\n",
        "from torch.utils.data import DataLoader"
      ]
    },
    {
      "cell_type": "code",
      "execution_count": 5,
      "metadata": {
        "colab": {
          "base_uri": "https://localhost:8080/"
        },
        "id": "-mpjwIyKAkyN",
        "outputId": "9e7b51b5-794f-4bbc-ba3a-5b4f5f60fd77"
      },
      "outputs": [],
      "source": [
        "transform = transforms.Compose([\n",
        "    transforms.ToTensor(),\n",
        "    lambda x: (x >= 0.5).float(),\n",
        "])\n",
        "\n",
        "original_train_dataset = datasets.MNIST(root='./data', train=True, transform=transform, download=True)\n",
        "original_test_dataset = datasets.MNIST(root='./data', train=False, transform=transform, download=True)\n",
        "\n",
        "filter_digit = 6\n",
        "\n",
        "filtered_train_dataset = [item for item in original_train_dataset if item[1] == filter_digit]\n",
        "filtered_test_dataset = [item for item in original_test_dataset if item[1] == filter_digit]\n",
        "\n",
        "filtered_dataset = filtered_train_dataset + filtered_test_dataset\n",
        "\n",
        "data_loader = DataLoader(filtered_dataset, batch_size=64, shuffle=True, num_workers=2, multiprocessing_context='fork')"
      ]
    },
    {
      "cell_type": "code",
      "execution_count": null,
      "metadata": {
        "id": "7djUuwqIeSs3"
      },
      "outputs": [],
      "source": [
        "import matplotlib.pyplot as plt"
      ]
    },
    {
      "cell_type": "code",
      "execution_count": null,
      "metadata": {
        "colab": {
          "base_uri": "https://localhost:8080/",
          "height": 406
        },
        "id": "wIgOtUESeEcA",
        "outputId": "c17c94fc-a89d-4836-b62a-6240349a1b39"
      },
      "outputs": [],
      "source": [
        "plt.imshow(filtered_dataset[0][0].squeeze(), cmap='gray')\n",
        "plt.axis('off')\n",
        "plt.show()"
      ]
    },
    {
      "cell_type": "code",
      "execution_count": null,
      "metadata": {},
      "outputs": [],
      "source": [
        "device = torch.device('cpu')"
      ]
    },
    {
      "cell_type": "code",
      "execution_count": null,
      "metadata": {
        "id": "BABtU6ADe3cz"
      },
      "outputs": [],
      "source": [
        "class NADE(nn.Module):\n",
        "    def __init__(self, input_dim, hidden_size):\n",
        "        super(NADE, self).__init__()\n",
        "        self.input_dim = input_dim\n",
        "        self.hidden_size = hidden_size\n",
        "\n",
        "        self.W_h = nn.Parameter(torch.randn(self.hidden_size, self.input_dim)) #hidden\n",
        "        self.b_h = nn.Parameter(torch.randn(self.hidden_size)) #hidden bias\n",
        "\n",
        "        self.W_out = nn.Parameter(torch.randn(self.input_dim, self.hidden_size)) #out\n",
        "        self.b_out = nn.Parameter(torch.randn(self.input_dim)) #out bias\n",
        "\n",
        "    def forward(self, x):\n",
        "        batch_size = x.shape[0]\n",
        "\n",
        "        a = self.b_h\n",
        "\n",
        "        probs = torch.zeros(batch_size, self.input_dim)\n",
        "\n",
        "        for i in range(self.input_dim):\n",
        "            h_d = torch.sigmoid(a).reshape(-1, self.hidden_size)\n",
        "            probs[:, i] = torch.sigmoid((self.W_out[i] @ h_d.t()) + self.b_out[i]).flatten()\n",
        "            a = (self.W_h[:,i].reshape(-1,1) @ x[:,i].reshape(1,-1)).reshape(-1,self.hidden_size) + a\n",
        "\n",
        "        return probs"
      ]
    },
    {
      "cell_type": "code",
      "execution_count": null,
      "metadata": {
        "id": "vDbq574QAkyP"
      },
      "outputs": [],
      "source": [
        "nade = NADE(in_size, hidden_size).to(device)"
      ]
    },
    {
      "cell_type": "code",
      "execution_count": null,
      "metadata": {
        "id": "fKsYGhrKAkyP"
      },
      "outputs": [],
      "source": [
        "criterion = nn.BCELoss().to(device)\n",
        "optimizer = optim.Adam(nade.parameters(), lr=0.001)"
      ]
    },
    {
      "cell_type": "code",
      "execution_count": null,
      "metadata": {
        "colab": {
          "base_uri": "https://localhost:8080/"
        },
        "id": "S_OXKFL-AkyQ",
        "outputId": "a4e6b440-3f03-4c5b-a256-21dc883218d3"
      },
      "outputs": [],
      "source": [
        "from timeit import default_timer as timer\n",
        "\n",
        "epochs = 40\n",
        "for epoch in range(epochs):\n",
        "    t0 = timer()\n",
        "    epoch_loss = 0\n",
        "    for batch, (data, _) in enumerate(tqdm(data_loader)):\n",
        "        data = data.view(-1, in_size).to(device)\n",
        "\n",
        "        optimizer.zero_grad()\n",
        "        output = nade(data)\n",
        "        loss = criterion(output.to(device), data)\n",
        "        epoch_loss += loss.item()\n",
        "        loss.backward()\n",
        "        optimizer.step()\n",
        "\n",
        "    t1 = timer()\n",
        "    print(f'Epoch: {epoch + 1}, Loss: {epoch_loss/len(data_loader)}, Time taken: {(t1 - t0):.2f} s')"
      ]
    },
    {
      "cell_type": "code",
      "execution_count": null,
      "metadata": {
        "id": "q4aC-yrZXt_r"
      },
      "outputs": [],
      "source": [
        "def sample(model, input_dim, device):\n",
        "  with torch.no_grad():\n",
        "    preds = torch.zeros(1, input_dim).to(device)\n",
        "    for i in tqdm(range(input_dim)):\n",
        "        p = model.forward(preds)\n",
        "        preds[0][i] = torch.bernoulli(p[0][i])\n",
        "\n",
        "    return torch.reshape(preds.cpu(), (28, 28))"
      ]
    },
    {
      "cell_type": "code",
      "execution_count": null,
      "metadata": {
        "id": "-s0YqnPuAkyR"
      },
      "outputs": [],
      "source": [
        "torch.save(nade, 'nade.pt')"
      ]
    },
    {
      "cell_type": "code",
      "execution_count": null,
      "metadata": {
        "id": "JLT_--YqAkyS"
      },
      "outputs": [],
      "source": [
        "img = sample(nade, in_size, device)"
      ]
    },
    {
      "cell_type": "code",
      "execution_count": null,
      "metadata": {
        "id": "-ASSLXUEAkyT"
      },
      "outputs": [],
      "source": [
        "def show_sample(img):\n",
        "    plt.imshow(img.squeeze(), cmap='gray')\n",
        "    plt.axis('off')\n",
        "    plt.show()"
      ]
    },
    {
      "cell_type": "code",
      "execution_count": null,
      "metadata": {
        "id": "Mf2vjK_IAkyT"
      },
      "outputs": [],
      "source": [
        "show_sample(img)"
      ]
    },
    {
      "cell_type": "code",
      "execution_count": null,
      "metadata": {
        "id": "K0o57PEHAkyU"
      },
      "outputs": [],
      "source": []
    }
  ],
  "metadata": {
    "accelerator": "GPU",
    "colab": {
      "gpuType": "T4",
      "provenance": []
    },
    "kernelspec": {
      "display_name": "Python 3",
      "name": "python3"
    },
    "language_info": {
      "codemirror_mode": {
        "name": "ipython",
        "version": 3
      },
      "file_extension": ".py",
      "mimetype": "text/x-python",
      "name": "python",
      "nbconvert_exporter": "python",
      "pygments_lexer": "ipython3",
      "version": "3.11.5"
    },
    "orig_nbformat": 4
  },
  "nbformat": 4,
  "nbformat_minor": 0
}
