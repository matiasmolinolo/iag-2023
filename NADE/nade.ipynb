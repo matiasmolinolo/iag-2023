{
  "cells": [
    {
      "cell_type": "code",
      "execution_count": 1,
      "metadata": {
        "id": "b6TDkx2fAkyI"
      },
      "outputs": [],
      "source": [
        "import torch\n",
        "import torch.nn as nn"
      ]
    },
    {
      "cell_type": "code",
      "execution_count": 2,
      "metadata": {
        "id": "FEfgHXdDAkyK"
      },
      "outputs": [
        {
          "name": "stderr",
          "output_type": "stream",
          "text": [
            "/Users/matiasmolinolo/anaconda3/envs/iag/lib/python3.11/site-packages/tqdm/auto.py:21: TqdmWarning: IProgress not found. Please update jupyter and ipywidgets. See https://ipywidgets.readthedocs.io/en/stable/user_install.html\n",
            "  from .autonotebook import tqdm as notebook_tqdm\n"
          ]
        }
      ],
      "source": [
        "from tqdm.auto import tqdm"
      ]
    },
    {
      "cell_type": "code",
      "execution_count": 3,
      "metadata": {
        "id": "OUq4UcvmAkyM"
      },
      "outputs": [],
      "source": [
        "in_size = 28*28\n",
        "hidden_size = 500"
      ]
    },
    {
      "cell_type": "code",
      "execution_count": 4,
      "metadata": {
        "id": "PmU_t7mDAkyN"
      },
      "outputs": [],
      "source": [
        "import torch.optim as optim\n",
        "from torchvision import datasets, transforms\n",
        "from torch.utils.data import DataLoader"
      ]
    },
    {
      "cell_type": "code",
      "execution_count": 5,
      "metadata": {
        "colab": {
          "base_uri": "https://localhost:8080/"
        },
        "id": "-mpjwIyKAkyN",
        "outputId": "9e7b51b5-794f-4bbc-ba3a-5b4f5f60fd77"
      },
      "outputs": [],
      "source": [
        "transform = transforms.Compose([\n",
        "    transforms.ToTensor(),\n",
        "    lambda x: (x >= 0.5).float(),\n",
        "])\n",
        "\n",
        "original_train_dataset = datasets.MNIST(root='./data', train=True, transform=transform, download=True)\n",
        "original_test_dataset = datasets.MNIST(root='./data', train=False, transform=transform, download=True)\n",
        "\n",
        "filter_digit = 6\n",
        "\n",
        "filtered_train_dataset = [item for item in original_train_dataset if item[1] == filter_digit]\n",
        "filtered_test_dataset = [item for item in original_test_dataset if item[1] == filter_digit]\n",
        "\n",
        "filtered_dataset = filtered_train_dataset + filtered_test_dataset\n",
        "\n",
        "data_loader = DataLoader(filtered_dataset, batch_size=64, shuffle=True, num_workers=2, multiprocessing_context='fork')"
      ]
    },
    {
      "cell_type": "code",
      "execution_count": 6,
      "metadata": {
        "id": "7djUuwqIeSs3"
      },
      "outputs": [],
      "source": [
        "import matplotlib.pyplot as plt"
      ]
    },
    {
      "cell_type": "code",
      "execution_count": 7,
      "metadata": {
        "colab": {
          "base_uri": "https://localhost:8080/",
          "height": 406
        },
        "id": "wIgOtUESeEcA",
        "outputId": "c17c94fc-a89d-4836-b62a-6240349a1b39"
      },
      "outputs": [
        {
          "data": {
            "image/png": "[encoded data removed]",
            "text/plain": [
              "<Figure size 640x480 with 1 Axes>"
            ]
          },
          "metadata": {},
          "output_type": "display_data"
        }
      ],
      "source": [
        "plt.imshow(filtered_dataset[0][0].squeeze(), cmap='gray')\n",
        "plt.axis('off')\n",
        "plt.show()"
      ]
    },
    {
      "cell_type": "code",
      "execution_count": 8,
      "metadata": {
        "colab": {
          "base_uri": "https://localhost:8080/"
        },
        "id": "0c85Q52tAkyO",
        "outputId": "0649b6f9-32a5-4501-9974-5b5bff764000"
      },
      "outputs": [
        {
          "data": {
            "text/plain": [
              "device(type='mps')"
            ]
          },
          "execution_count": 8,
          "metadata": {},
          "output_type": "execute_result"
        }
      ],
      "source": [
        "device = torch.device('cuda:0' if torch.cuda.is_available() else 'mps' if torch.backends.mps.is_available() else 'cpu')\n",
        "device"
      ]
    },
    {
      "cell_type": "code",
      "execution_count": 9,
      "metadata": {
        "id": "BABtU6ADe3cz"
      },
      "outputs": [],
      "source": [
        "class NADE(nn.Module):\n",
        "    def __init__(self, input_dim, hidden_size):\n",
        "        super(NADE, self).__init__()\n",
        "        self.input_dim = input_dim\n",
        "        self.hidden_size = hidden_size\n",
        "\n",
        "        self.W_h = nn.Parameter(torch.randn(self.hidden_size, self.input_dim)) #hidden\n",
        "        self.b_h = nn.Parameter(torch.randn(self.hidden_size)) #hidden bias\n",
        "\n",
        "        self.W_out = nn.Parameter(torch.randn(self.input_dim, self.hidden_size)) #out\n",
        "        self.b_out = nn.Parameter(torch.randn(self.input_dim)) #out bias\n",
        "\n",
        "    def forward(self, x):\n",
        "        batch_size = x.shape[0]\n",
        "\n",
        "        a = self.b_h\n",
        "\n",
        "        probs = torch.zeros(batch_size, self.input_dim)\n",
        "\n",
        "        for i in range(self.input_dim):\n",
        "            h_d = torch.sigmoid(a).reshape(-1, self.hidden_size)\n",
        "            probs[:, i] = torch.sigmoid((self.W_out[i] @ h_d.t()) + self.b_out[i]).flatten()\n",
        "            a = (self.W_h[:,i].reshape(-1,1) @ x[:,i].reshape(1,-1)).reshape(-1,self.hidden_size) + a\n",
        "\n",
        "        return probs"
      ]
    },
    {
      "cell_type": "code",
      "execution_count": 10,
      "metadata": {
        "id": "vDbq574QAkyP"
      },
      "outputs": [],
      "source": [
        "nade = NADE(in_size, hidden_size).to(device)"
      ]
    },
    {
      "cell_type": "code",
      "execution_count": 11,
      "metadata": {
        "id": "fKsYGhrKAkyP"
      },
      "outputs": [],
      "source": [
        "criterion = nn.BCELoss().to(device)\n",
        "optimizer = optim.Adam(nade.parameters(), lr=0.001)"
      ]
    },
    {
      "cell_type": "code",
      "execution_count": 12,
      "metadata": {
        "colab": {
          "base_uri": "https://localhost:8080/"
        },
        "id": "S_OXKFL-AkyQ",
        "outputId": "a4e6b440-3f03-4c5b-a256-21dc883218d3"
      },
      "outputs": [
        {
          "name": "stderr",
          "output_type": "stream",
          "text": [
            " 25%|██▌       | 27/108 [01:37<04:51,  3.59s/it]\n"
          ]
        },
        {
          "ename": "KeyboardInterrupt",
          "evalue": "",
          "output_type": "error",
          "traceback": [
            "\u001b[0;31m---------------------------------------------------------------------------\u001b[0m",
            "\u001b[0;31mKeyboardInterrupt\u001b[0m                         Traceback (most recent call last)",
            "\u001b[1;32m/Users/matiasmolinolo/Library/Mobile Documents/com~apple~CloudDocs/ORT/Semestre 9/IAG/NADE/nade.ipynb Cell 13\u001b[0m line \u001b[0;36m1\n\u001b[1;32m      <a href='vscode-notebook-cell:/Users/matiasmolinolo/Library/Mobile%20Documents/com~apple~CloudDocs/ORT/Semestre%209/IAG/NADE/nade.ipynb#X15sZmlsZQ%3D%3D?line=7'>8</a>\u001b[0m data \u001b[39m=\u001b[39m data\u001b[39m.\u001b[39mview(\u001b[39m-\u001b[39m\u001b[39m1\u001b[39m, in_size)\u001b[39m.\u001b[39mto(device)\n\u001b[1;32m     <a href='vscode-notebook-cell:/Users/matiasmolinolo/Library/Mobile%20Documents/com~apple~CloudDocs/ORT/Semestre%209/IAG/NADE/nade.ipynb#X15sZmlsZQ%3D%3D?line=9'>10</a>\u001b[0m optimizer\u001b[39m.\u001b[39mzero_grad()\n\u001b[0;32m---> <a href='vscode-notebook-cell:/Users/matiasmolinolo/Library/Mobile%20Documents/com~apple~CloudDocs/ORT/Semestre%209/IAG/NADE/nade.ipynb#X15sZmlsZQ%3D%3D?line=10'>11</a>\u001b[0m output \u001b[39m=\u001b[39m nade(data)\n\u001b[1;32m     <a href='vscode-notebook-cell:/Users/matiasmolinolo/Library/Mobile%20Documents/com~apple~CloudDocs/ORT/Semestre%209/IAG/NADE/nade.ipynb#X15sZmlsZQ%3D%3D?line=11'>12</a>\u001b[0m loss \u001b[39m=\u001b[39m criterion(output\u001b[39m.\u001b[39mto(device), data)\n\u001b[1;32m     <a href='vscode-notebook-cell:/Users/matiasmolinolo/Library/Mobile%20Documents/com~apple~CloudDocs/ORT/Semestre%209/IAG/NADE/nade.ipynb#X15sZmlsZQ%3D%3D?line=12'>13</a>\u001b[0m epoch_loss \u001b[39m+\u001b[39m\u001b[39m=\u001b[39m loss\u001b[39m.\u001b[39mitem()\n",
            "File \u001b[0;32m~/anaconda3/envs/iag/lib/python3.11/site-packages/torch/nn/modules/module.py:1501\u001b[0m, in \u001b[0;36mModule._call_impl\u001b[0;34m(self, *args, **kwargs)\u001b[0m\n\u001b[1;32m   1496\u001b[0m \u001b[39m# If we don't have any hooks, we want to skip the rest of the logic in\u001b[39;00m\n\u001b[1;32m   1497\u001b[0m \u001b[39m# this function, and just call forward.\u001b[39;00m\n\u001b[1;32m   1498\u001b[0m \u001b[39mif\u001b[39;00m \u001b[39mnot\u001b[39;00m (\u001b[39mself\u001b[39m\u001b[39m.\u001b[39m_backward_hooks \u001b[39mor\u001b[39;00m \u001b[39mself\u001b[39m\u001b[39m.\u001b[39m_backward_pre_hooks \u001b[39mor\u001b[39;00m \u001b[39mself\u001b[39m\u001b[39m.\u001b[39m_forward_hooks \u001b[39mor\u001b[39;00m \u001b[39mself\u001b[39m\u001b[39m.\u001b[39m_forward_pre_hooks\n\u001b[1;32m   1499\u001b[0m         \u001b[39mor\u001b[39;00m _global_backward_pre_hooks \u001b[39mor\u001b[39;00m _global_backward_hooks\n\u001b[1;32m   1500\u001b[0m         \u001b[39mor\u001b[39;00m _global_forward_hooks \u001b[39mor\u001b[39;00m _global_forward_pre_hooks):\n\u001b[0;32m-> 1501\u001b[0m     \u001b[39mreturn\u001b[39;00m forward_call(\u001b[39m*\u001b[39;49margs, \u001b[39m*\u001b[39;49m\u001b[39m*\u001b[39;49mkwargs)\n\u001b[1;32m   1502\u001b[0m \u001b[39m# Do not call functions when jit is used\u001b[39;00m\n\u001b[1;32m   1503\u001b[0m full_backward_hooks, non_full_backward_hooks \u001b[39m=\u001b[39m [], []\n",
            "\u001b[1;32m/Users/matiasmolinolo/Library/Mobile Documents/com~apple~CloudDocs/ORT/Semestre 9/IAG/NADE/nade.ipynb Cell 13\u001b[0m line \u001b[0;36m2\n\u001b[1;32m     <a href='vscode-notebook-cell:/Users/matiasmolinolo/Library/Mobile%20Documents/com~apple~CloudDocs/ORT/Semestre%209/IAG/NADE/nade.ipynb#X15sZmlsZQ%3D%3D?line=19'>20</a>\u001b[0m \u001b[39mfor\u001b[39;00m i \u001b[39min\u001b[39;00m \u001b[39mrange\u001b[39m(\u001b[39mself\u001b[39m\u001b[39m.\u001b[39minput_dim):\n\u001b[1;32m     <a href='vscode-notebook-cell:/Users/matiasmolinolo/Library/Mobile%20Documents/com~apple~CloudDocs/ORT/Semestre%209/IAG/NADE/nade.ipynb#X15sZmlsZQ%3D%3D?line=20'>21</a>\u001b[0m     h_d \u001b[39m=\u001b[39m torch\u001b[39m.\u001b[39msigmoid(a)\u001b[39m.\u001b[39mreshape(\u001b[39m-\u001b[39m\u001b[39m1\u001b[39m, \u001b[39mself\u001b[39m\u001b[39m.\u001b[39mhidden_size)\n\u001b[0;32m---> <a href='vscode-notebook-cell:/Users/matiasmolinolo/Library/Mobile%20Documents/com~apple~CloudDocs/ORT/Semestre%209/IAG/NADE/nade.ipynb#X15sZmlsZQ%3D%3D?line=21'>22</a>\u001b[0m     probs[:, i] \u001b[39m=\u001b[39m torch\u001b[39m.\u001b[39;49msigmoid((\u001b[39mself\u001b[39;49m\u001b[39m.\u001b[39;49mW_out[i] \u001b[39m@\u001b[39;49m h_d\u001b[39m.\u001b[39;49mt()) \u001b[39m+\u001b[39;49m \u001b[39mself\u001b[39;49m\u001b[39m.\u001b[39;49mb_out[i])\u001b[39m.\u001b[39mflatten()\n\u001b[1;32m     <a href='vscode-notebook-cell:/Users/matiasmolinolo/Library/Mobile%20Documents/com~apple~CloudDocs/ORT/Semestre%209/IAG/NADE/nade.ipynb#X15sZmlsZQ%3D%3D?line=22'>23</a>\u001b[0m     a \u001b[39m=\u001b[39m (\u001b[39mself\u001b[39m\u001b[39m.\u001b[39mW_h[:,i]\u001b[39m.\u001b[39mreshape(\u001b[39m-\u001b[39m\u001b[39m1\u001b[39m,\u001b[39m1\u001b[39m) \u001b[39m@\u001b[39m x[:,i]\u001b[39m.\u001b[39mreshape(\u001b[39m1\u001b[39m,\u001b[39m-\u001b[39m\u001b[39m1\u001b[39m))\u001b[39m.\u001b[39mreshape(\u001b[39m-\u001b[39m\u001b[39m1\u001b[39m,\u001b[39mself\u001b[39m\u001b[39m.\u001b[39mhidden_size) \u001b[39m+\u001b[39m a\n\u001b[1;32m     <a href='vscode-notebook-cell:/Users/matiasmolinolo/Library/Mobile%20Documents/com~apple~CloudDocs/ORT/Semestre%209/IAG/NADE/nade.ipynb#X15sZmlsZQ%3D%3D?line=24'>25</a>\u001b[0m \u001b[39mreturn\u001b[39;00m probs\n",
            "\u001b[0;31mKeyboardInterrupt\u001b[0m: "
          ]
        }
      ],
      "source": [
        "from timeit import default_timer as timer\n",
        "\n",
        "epochs = 40\n",
        "for epoch in range(epochs):\n",
        "    t0 = timer()\n",
        "    epoch_loss = 0\n",
        "    for batch, (data, _) in enumerate(tqdm(data_loader)):\n",
        "        data = data.view(-1, in_size).to(device)\n",
        "\n",
        "        optimizer.zero_grad()\n",
        "        output = nade(data)\n",
        "        loss = criterion(output.to(device), data)\n",
        "        epoch_loss += loss.item()\n",
        "        loss.backward()\n",
        "        optimizer.step()\n",
        "\n",
        "    t1 = timer()\n",
        "    print(f'Epoch: {epoch + 1}, Loss: {epoch_loss/len(data_loader)}, Time taken: {(t1 - t0):.2f} s')"
      ]
    },
    {
      "cell_type": "code",
      "execution_count": null,
      "metadata": {
        "id": "q4aC-yrZXt_r"
      },
      "outputs": [],
      "source": [
        "def sample(model, input_dim, device):\n",
        "  with torch.no_grad():\n",
        "    preds = torch.zeros(1, input_dim).to(device)\n",
        "    for i in tqdm(range(input_dim)):\n",
        "        p = model.forward(preds)\n",
        "        preds[0][i] = torch.bernoulli(p[0][i])\n",
        "\n",
        "    return torch.reshape(preds.cpu(), (28, 28))"
      ]
    },
    {
      "cell_type": "code",
      "execution_count": null,
      "metadata": {
        "id": "-s0YqnPuAkyR"
      },
      "outputs": [],
      "source": [
        "torch.save(nade, 'nade.pt')"
      ]
    },
    {
      "cell_type": "code",
      "execution_count": null,
      "metadata": {
        "id": "JLT_--YqAkyS"
      },
      "outputs": [],
      "source": [
        "img = sample(nade, in_size, device)"
      ]
    },
    {
      "cell_type": "code",
      "execution_count": null,
      "metadata": {
        "id": "rVBNeHrSAkyT"
      },
      "outputs": [],
      "source": [
        "import matplotlib.pyplot as plt"
      ]
    },
    {
      "cell_type": "code",
      "execution_count": null,
      "metadata": {
        "id": "-ASSLXUEAkyT"
      },
      "outputs": [],
      "source": [
        "def show_sample(img):\n",
        "    plt.imshow(img.squeeze(), cmap='gray')\n",
        "    plt.axis('off')\n",
        "    plt.show()"
      ]
    },
    {
      "cell_type": "code",
      "execution_count": null,
      "metadata": {
        "id": "Mf2vjK_IAkyT"
      },
      "outputs": [],
      "source": [
        "show_sample(img)"
      ]
    },
    {
      "cell_type": "code",
      "execution_count": null,
      "metadata": {
        "id": "K0o57PEHAkyU"
      },
      "outputs": [],
      "source": []
    }
  ],
  "metadata": {
    "accelerator": "GPU",
    "colab": {
      "gpuType": "T4",
      "provenance": []
    },
    "kernelspec": {
      "display_name": "Python 3",
      "name": "python3"
    },
    "language_info": {
      "codemirror_mode": {
        "name": "ipython",
        "version": 3
      },
      "file_extension": ".py",
      "mimetype": "text/x-python",
      "name": "python",
      "nbconvert_exporter": "python",
      "pygments_lexer": "ipython3",
      "version": "3.11.5"
    },
    "orig_nbformat": 4
  },
  "nbformat": 4,
  "nbformat_minor": 0
}
